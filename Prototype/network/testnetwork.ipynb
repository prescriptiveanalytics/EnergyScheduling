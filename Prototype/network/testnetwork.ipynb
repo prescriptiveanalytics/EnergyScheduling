{
 "cells": [
  {
   "cell_type": "code",
   "execution_count": 1,
   "metadata": {},
   "outputs": [],
   "source": [
    "from fastapi import FastAPI\n",
    "from models.NetworkModel import NetworkModel\n",
    "from models.PowerConsumptionModel import PowerConsumptionModel\n",
    "from models.ConsumerModel import ConsumerModel\n",
    "from models.GeneratorModel import GeneratorModel\n",
    "from models.PowerGenerationModel import PowerGenerationModel\n",
    "import pandapower as pp\n",
    "import json\n",
    "import requests\n",
    "import logging\n",
    "from typing import List\n",
    "import main"
   ]
  },
  {
   "cell_type": "code",
   "execution_count": 2,
   "metadata": {},
   "outputs": [],
   "source": [
    "logging.basicConfig(encoding='utf-8', level=logging.DEBUG)"
   ]
  },
  {
   "cell_type": "code",
   "execution_count": 3,
   "metadata": {},
   "outputs": [
    {
     "name": "stderr",
     "output_type": "stream",
     "text": [
      "DEBUG:root:/initialize\n",
      "DEBUG:root:config loaded: {'consumer_api': 'http://localhost:8000', 'generator_api': 'http://localhost:8010', 'network': {'entities': [{'identifier': 'd3ae8923-d4cd-46fb-ae6c-e4a20c7e5dab', 'name': 'grid connection', 'latitude': 48.3744, 'longitude': 14.5131, 'address': '', 'type': 'network', 'category': 'network', 'network_entity': 'network'}], 'bus': [{'identifier': 'e6c8200f-d84b-499b-ad13-4313eec39ca2', 'voltage': 400, 'category': 'consumer', 'type': 'load'}, {'identifier': '60d36bfa-92a2-4521-95fa-ed0e95f2413f', 'voltage': 400, 'category': 'consumer', 'type': 'load'}, {'identifier': 'ec28306c-772c-4d65-9916-55c03ce61566', 'voltage': 400, 'category': 'consumer', 'type': 'load'}, {'identifier': 'd3ae8923-d4cd-46fb-ae6c-e4a20c7e5dab', 'voltage': 400, 'category': 'grid_connection', 'type': 'grid_connection'}, {'identifier': '8bee677b-b929-4d52-ba2d-d8619b86e199', 'voltage': 400, 'category': 'generator', 'type': 'generation'}], 'lines': [{'from_bus': 'ec28306c-772c-4d65-9916-55c03ce61566', 'to_bus': '60d36bfa-92a2-4521-95fa-ed0e95f2413f', 'std_type': 'NAYY 4x50 SE', 'length_km': 0.1}, {'from_bus': '60d36bfa-92a2-4521-95fa-ed0e95f2413f', 'to_bus': 'e6c8200f-d84b-499b-ad13-4313eec39ca2', 'std_type': 'NAYY 4x50 SE', 'length_km': 0.1}, {'from_bus': 'e6c8200f-d84b-499b-ad13-4313eec39ca2', 'to_bus': '8bee677b-b929-4d52-ba2d-d8619b86e199', 'std_type': 'NAYY 4x50 SE', 'length_km': 0.1}, {'from_bus': '8bee677b-b929-4d52-ba2d-d8619b86e199', 'to_bus': 'd3ae8923-d4cd-46fb-ae6c-e4a20c7e5dab', 'std_type': 'NAYY 4x50 SE', 'length_km': 0.1}]}}\n",
      "DEBUG:urllib3.connectionpool:Starting new HTTP connection (1): localhost:8000\n",
      "DEBUG:urllib3.connectionpool:http://localhost:8000 \"GET /consumer/all HTTP/1.1\" 200 687\n",
      "DEBUG:root:result.text=[{\"name\":\"location 1\",\"identifier\":\"e6c8200f-d84b-499b-ad13-4313eec39ca2\",\"level\":7,\"latitude\":48.3744,\"longitude\":14.5123,\"address\":\"none\",\"type\":\"load\",\"category\":\"household\",\"profile_identifier\":\"ex1_london2011-2014_cluster0\"},{\"name\":\"location 2\",\"identifier\":\"60d36bfa-92a2-4521-95fa-ed0e95f2413f\",\"level\":7,\"latitude\":48.3744,\"longitude\":14.5115,\"address\":\"none\",\"type\":\"load\",\"category\":\"household\",\"profile_identifier\":\"ex1_london2011-2014_cluster0\"},{\"name\":\"location 3\",\"identifier\":\"ec28306c-772c-4d65-9916-55c03ce61566\",\"level\":7,\"latitude\":48.374,\"longitude\":14.5111,\"address\":\"none\",\"type\":\"load\",\"category\":\"household\",\"profile_identifier\":\"ex1_london2011-2014_cluster0\"}]\n",
      "DEBUG:root:consumers loaded: [ConsumerModel(name='location 1', identifier='e6c8200f-d84b-499b-ad13-4313eec39ca2', level=7, latitude=48.3744, longitude=14.5123, address='none', type='load', category='household', profile_identifier='ex1_london2011-2014_cluster0'), ConsumerModel(name='location 2', identifier='60d36bfa-92a2-4521-95fa-ed0e95f2413f', level=7, latitude=48.3744, longitude=14.5115, address='none', type='load', category='household', profile_identifier='ex1_london2011-2014_cluster0'), ConsumerModel(name='location 3', identifier='ec28306c-772c-4d65-9916-55c03ce61566', level=7, latitude=48.374, longitude=14.5111, address='none', type='load', category='household', profile_identifier='ex1_london2011-2014_cluster0')]\n",
      "DEBUG:urllib3.connectionpool:Starting new HTTP connection (1): localhost:8010\n",
      "DEBUG:urllib3.connectionpool:http://localhost:8010 \"GET /generator/all HTTP/1.1\" 200 233\n",
      "DEBUG:root:generators loaded: [GeneratorModel(name='generator 1', identifier='8bee677b-b929-4d52-ba2d-d8619b86e199', level=7, latitude=48.3744, longitude=14.5125, address='none', type='generator', category='household', profile_identifier='ex1_pvgis_10kwp_south_hgb')]\n"
     ]
    },
    {
     "data": {
      "text/plain": [
       "{'Action': 'initialize'}"
      ]
     },
     "execution_count": 3,
     "metadata": {},
     "output_type": "execute_result"
    }
   ],
   "source": [
    "main.read_initialize()"
   ]
  },
  {
   "cell_type": "code",
   "execution_count": 4,
   "metadata": {},
   "outputs": [
    {
     "name": "stderr",
     "output_type": "stream",
     "text": [
      "DEBUG:root:request consumption for name='location 1' identifier='e6c8200f-d84b-499b-ad13-4313eec39ca2' level=7 latitude=48.3744 longitude=14.5123 address='none' type='load' category='household' profile_identifier='ex1_london2011-2014_cluster0'\n",
      "DEBUG:root:request consumption url http://localhost:8000/consumer/e6c8200f-d84b-499b-ad13-4313eec39ca2/consumption/1\n",
      "DEBUG:urllib3.connectionpool:Starting new HTTP connection (1): localhost:8000\n",
      "DEBUG:urllib3.connectionpool:http://localhost:8000 \"GET /consumer/e6c8200f-d84b-499b-ad13-4313eec39ca2/consumption/1 HTTP/1.1\" 200 177\n",
      "DEBUG:root:got customer e6c8200f-d84b-499b-ad13-4313eec39ca2={'identifier': 'e6c8200f-d84b-499b-ad13-4313eec39ca2', 'datetime': '1970-01-01T00:00:01Z', 'usage': 45, 'category': 'load', 'category_unit': 'Wh', 'interval': 15, 'interval_unit': 'minutes'}\n",
      "DEBUG:root:request consumption for name='location 2' identifier='60d36bfa-92a2-4521-95fa-ed0e95f2413f' level=7 latitude=48.3744 longitude=14.5115 address='none' type='load' category='household' profile_identifier='ex1_london2011-2014_cluster0'\n",
      "DEBUG:root:request consumption url http://localhost:8000/consumer/60d36bfa-92a2-4521-95fa-ed0e95f2413f/consumption/1\n",
      "DEBUG:urllib3.connectionpool:Starting new HTTP connection (1): localhost:8000\n",
      "DEBUG:urllib3.connectionpool:http://localhost:8000 \"GET /consumer/60d36bfa-92a2-4521-95fa-ed0e95f2413f/consumption/1 HTTP/1.1\" 200 177\n",
      "DEBUG:root:got customer 60d36bfa-92a2-4521-95fa-ed0e95f2413f={'identifier': '60d36bfa-92a2-4521-95fa-ed0e95f2413f', 'datetime': '1970-01-01T00:00:01Z', 'usage': 45, 'category': 'load', 'category_unit': 'Wh', 'interval': 15, 'interval_unit': 'minutes'}\n",
      "DEBUG:root:request consumption for name='location 3' identifier='ec28306c-772c-4d65-9916-55c03ce61566' level=7 latitude=48.374 longitude=14.5111 address='none' type='load' category='household' profile_identifier='ex1_london2011-2014_cluster0'\n",
      "DEBUG:root:request consumption url http://localhost:8000/consumer/ec28306c-772c-4d65-9916-55c03ce61566/consumption/1\n",
      "DEBUG:urllib3.connectionpool:Starting new HTTP connection (1): localhost:8000\n",
      "DEBUG:urllib3.connectionpool:http://localhost:8000 \"GET /consumer/ec28306c-772c-4d65-9916-55c03ce61566/consumption/1 HTTP/1.1\" 200 177\n",
      "DEBUG:root:got customer ec28306c-772c-4d65-9916-55c03ce61566={'identifier': 'ec28306c-772c-4d65-9916-55c03ce61566', 'datetime': '1970-01-01T00:00:01Z', 'usage': 45, 'category': 'load', 'category_unit': 'Wh', 'interval': 15, 'interval_unit': 'minutes'}\n",
      "DEBUG:root:fetched consumer loads: {'e6c8200f-d84b-499b-ad13-4313eec39ca2': PowerConsumptionModel(identifier='e6c8200f-d84b-499b-ad13-4313eec39ca2', datetime=datetime.datetime(1970, 1, 1, 0, 0, 1, tzinfo=TzInfo(UTC)), usage=45, category='load', category_unit='Wh', interval=15, interval_unit='minutes'), '60d36bfa-92a2-4521-95fa-ed0e95f2413f': PowerConsumptionModel(identifier='60d36bfa-92a2-4521-95fa-ed0e95f2413f', datetime=datetime.datetime(1970, 1, 1, 0, 0, 1, tzinfo=TzInfo(UTC)), usage=45, category='load', category_unit='Wh', interval=15, interval_unit='minutes'), 'ec28306c-772c-4d65-9916-55c03ce61566': PowerConsumptionModel(identifier='ec28306c-772c-4d65-9916-55c03ce61566', datetime=datetime.datetime(1970, 1, 1, 0, 0, 1, tzinfo=TzInfo(UTC)), usage=45, category='load', category_unit='Wh', interval=15, interval_unit='minutes')}\n",
      "DEBUG:root:request generation for name='generator 1' identifier='8bee677b-b929-4d52-ba2d-d8619b86e199' level=7 latitude=48.3744 longitude=14.5125 address='none' type='generator' category='household' profile_identifier='ex1_pvgis_10kwp_south_hgb'\n",
      "DEBUG:root:request generator url http://localhost:8010/generator/8bee677b-b929-4d52-ba2d-d8619b86e199/generation/1\n",
      "DEBUG:urllib3.connectionpool:Starting new HTTP connection (1): localhost:8010\n",
      "DEBUG:urllib3.connectionpool:http://localhost:8010 \"GET /generator/8bee677b-b929-4d52-ba2d-d8619b86e199/generation/1 HTTP/1.1\" 200 187\n",
      "DEBUG:root:got generator 8bee677b-b929-4d52-ba2d-d8619b86e199={'identifier': '8bee677b-b929-4d52-ba2d-d8619b86e199', 'datetime': '1970-01-01T00:00:01Z', 'generation': 0, 'category': 'generation', 'category_unit': 'Wh', 'interval': 15, 'interval_unit': 'minutes'}\n",
      "DEBUG:root:fetched generators: {'8bee677b-b929-4d52-ba2d-d8619b86e199': PowerGenerationModel(identifier='8bee677b-b929-4d52-ba2d-d8619b86e199', datetime=datetime.datetime(1970, 1, 1, 0, 0, 1, tzinfo=TzInfo(UTC)), generation=0, category='generation', category_unit='Wh', interval=15, interval_unit='minutes')}\n",
      "DEBUG:root:initialize_network=entities=[NetworkEntityModel(identifier='d3ae8923-d4cd-46fb-ae6c-e4a20c7e5dab', name='grid connection', latitude=48.3744, longitude=14.5131, address='', type='network', category='network')] bus=[NetworkBusModel(identifier='e6c8200f-d84b-499b-ad13-4313eec39ca2', voltage=400, category='consumer', type='load'), NetworkBusModel(identifier='60d36bfa-92a2-4521-95fa-ed0e95f2413f', voltage=400, category='consumer', type='load'), NetworkBusModel(identifier='ec28306c-772c-4d65-9916-55c03ce61566', voltage=400, category='consumer', type='load'), NetworkBusModel(identifier='d3ae8923-d4cd-46fb-ae6c-e4a20c7e5dab', voltage=400, category='grid_connection', type='grid_connection'), NetworkBusModel(identifier='8bee677b-b929-4d52-ba2d-d8619b86e199', voltage=400, category='generator', type='generation')] lines=[NetworkLineModel(from_bus='ec28306c-772c-4d65-9916-55c03ce61566', to_bus='60d36bfa-92a2-4521-95fa-ed0e95f2413f', std_type='NAYY 4x50 SE', length_km=0.1), NetworkLineModel(from_bus='60d36bfa-92a2-4521-95fa-ed0e95f2413f', to_bus='e6c8200f-d84b-499b-ad13-4313eec39ca2', std_type='NAYY 4x50 SE', length_km=0.1), NetworkLineModel(from_bus='e6c8200f-d84b-499b-ad13-4313eec39ca2', to_bus='8bee677b-b929-4d52-ba2d-d8619b86e199', std_type='NAYY 4x50 SE', length_km=0.1), NetworkLineModel(from_bus='8bee677b-b929-4d52-ba2d-d8619b86e199', to_bus='d3ae8923-d4cd-46fb-ae6c-e4a20c7e5dab', std_type='NAYY 4x50 SE', length_km=0.1)]\n",
      "DEBUG:root:create buses\n",
      "DEBUG:root:create bus e6c8200f-d84b-499b-ad13-4313eec39ca2\n",
      "DEBUG:root:create bus 60d36bfa-92a2-4521-95fa-ed0e95f2413f\n",
      "DEBUG:root:create bus ec28306c-772c-4d65-9916-55c03ce61566\n",
      "DEBUG:root:create bus d3ae8923-d4cd-46fb-ae6c-e4a20c7e5dab\n",
      "DEBUG:root:create bus 8bee677b-b929-4d52-ba2d-d8619b86e199\n",
      "DEBUG:root:create network entities\n",
      "DEBUG:root:create loads\n",
      "DEBUG:root:consumer load for e6c8200f-d84b-499b-ad13-4313eec39ca2: identifier='e6c8200f-d84b-499b-ad13-4313eec39ca2' datetime=datetime.datetime(1970, 1, 1, 0, 0, 1, tzinfo=TzInfo(UTC)) usage=45 category='load' category_unit='Wh' interval=15 interval_unit='minutes'\n",
      "DEBUG:root:consumer load for 60d36bfa-92a2-4521-95fa-ed0e95f2413f: identifier='60d36bfa-92a2-4521-95fa-ed0e95f2413f' datetime=datetime.datetime(1970, 1, 1, 0, 0, 1, tzinfo=TzInfo(UTC)) usage=45 category='load' category_unit='Wh' interval=15 interval_unit='minutes'\n",
      "DEBUG:root:consumer load for ec28306c-772c-4d65-9916-55c03ce61566: identifier='ec28306c-772c-4d65-9916-55c03ce61566' datetime=datetime.datetime(1970, 1, 1, 0, 0, 1, tzinfo=TzInfo(UTC)) usage=45 category='load' category_unit='Wh' interval=15 interval_unit='minutes'\n",
      "DEBUG:root:create generations\n",
      "DEBUG:root:generation power for 8bee677b-b929-4d52-ba2d-d8619b86e199: identifier='8bee677b-b929-4d52-ba2d-d8619b86e199' datetime=datetime.datetime(1970, 1, 1, 0, 0, 1, tzinfo=TzInfo(UTC)) generation=0 category='generation' category_unit='Wh' interval=15 interval_unit='minutes'\n",
      "DEBUG:root:create lines\n",
      "DEBUG:root:create line from ec28306c-772c-4d65-9916-55c03ce61566 to 60d36bfa-92a2-4521-95fa-ed0e95f2413f\n",
      "DEBUG:root:create line from 60d36bfa-92a2-4521-95fa-ed0e95f2413f to e6c8200f-d84b-499b-ad13-4313eec39ca2\n",
      "DEBUG:root:create line from e6c8200f-d84b-499b-ad13-4313eec39ca2 to 8bee677b-b929-4d52-ba2d-d8619b86e199\n",
      "DEBUG:root:create line from 8bee677b-b929-4d52-ba2d-d8619b86e199 to d3ae8923-d4cd-46fb-ae6c-e4a20c7e5dab\n",
      "DEBUG:root:run opf\n",
      "WARNING:pandapower.auxiliary:numba cannot be imported and numba functions are disabled.\n",
      "Probably the execution is slow.\n",
      "Please install numba to gain a massive speedup.\n",
      "(or if you prefer slow execution, set the flag numba=False to avoid this warning!)\n",
      "\n",
      "DEBUG:root:keys in net=dict_keys(['bus', 'load', 'sgen', 'motor', 'asymmetric_load', 'asymmetric_sgen', 'storage', 'gen', 'switch', 'shunt', 'svc', 'ext_grid', 'line', 'trafo', 'trafo3w', 'impedance', 'tcsc', 'dcline', 'ward', 'xward', 'measurement', 'pwl_cost', 'poly_cost', 'characteristic', 'controller', 'group', 'line_geodata', 'bus_geodata', '_empty_res_bus', '_empty_res_ext_grid', '_empty_res_line', '_empty_res_trafo', '_empty_res_load', '_empty_res_asymmetric_load', '_empty_res_asymmetric_sgen', '_empty_res_motor', '_empty_res_sgen', '_empty_res_shunt', '_empty_res_svc', '_empty_res_switch', '_empty_res_impedance', '_empty_res_tcsc', '_empty_res_dcline', '_empty_res_ward', '_empty_res_xward', '_empty_res_trafo_3ph', '_empty_res_trafo3w', '_empty_res_bus_3ph', '_empty_res_ext_grid_3ph', '_empty_res_line_3ph', '_empty_res_asymmetric_load_3ph', '_empty_res_asymmetric_sgen_3ph', '_empty_res_storage', '_empty_res_storage_3ph', '_empty_res_gen', '_ppc', '_ppc0', '_ppc1', '_ppc2', '_is_elements', '_pd2ppc_lookups', 'version', 'format_version', 'converged', 'OPF_converged', 'name', 'f_hz', 'sn_mva', '_empty_res_load_3ph', '_empty_res_sgen_3ph', 'std_types', 'res_bus', 'res_line', 'res_trafo', 'res_trafo3w', 'res_impedance', 'res_ext_grid', 'res_load', 'res_motor', 'res_sgen', 'res_storage', 'res_shunt', 'res_gen', 'res_ward', 'res_xward', 'res_dcline', 'res_asymmetric_load', 'res_asymmetric_sgen', 'res_switch', 'res_tcsc', 'res_svc', 'res_bus_est', 'res_line_est', 'res_trafo_est', 'res_trafo3w_est', 'res_impedance_est', 'res_switch_est', 'res_bus_sc', 'res_line_sc', 'res_trafo_sc', 'res_trafo3w_sc', 'res_ext_grid_sc', 'res_gen_sc', 'res_sgen_sc', 'res_switch_sc', 'res_bus_3ph', 'res_line_3ph', 'res_trafo_3ph', 'res_ext_grid_3ph', 'res_shunt_3ph', 'res_load_3ph', 'res_sgen_3ph', 'res_storage_3ph', 'res_asymmetric_load_3ph', 'res_asymmetric_sgen_3ph', 'user_pf_options', '_options', '_impedance_bb_switches', '_fused_bb_switches', '_isolated_buses', '_is_elements_final', '_gen_order'])\n",
      "DEBUG:root:calculated net=This pandapower network includes the following parameter tables:\n",
      "   - bus (5 element)\n",
      "   - load (3 element)\n",
      "   - sgen (1 elements)\n",
      "   - ext_grid (1 elements)\n",
      "   - line (4 element)\n",
      " and the following results tables:\n",
      "   - res_bus (5 element)\n",
      "   - res_line (4 element)\n",
      "   - res_ext_grid (1 elements)\n",
      "   - res_load (3 element)\n",
      "   - res_sgen (1 elements)\n"
     ]
    }
   ],
   "source": [
    "result = main.read_opf(1)"
   ]
  },
  {
   "cell_type": "code",
   "execution_count": 7,
   "metadata": {},
   "outputs": [
    {
     "ename": "ValidationError",
     "evalue": "2 validation errors for OptimalPowerFlowSolution\nres_load.p_mvar\n  Field required [type=missing, input_value={'p_mw': {'0': 4.5e-05, '..., '1': 0.05, '2': 0.05}}, input_type=dict]\n    For further information visit https://errors.pydantic.dev/2.2/v/missing\nres_gen\n  Field required [type=missing, input_value={'bus': {'name': {'0': 'e..., 'q_mvar': {'0': 0.0}}}, input_type=dict]\n    For further information visit https://errors.pydantic.dev/2.2/v/missing",
     "output_type": "error",
     "traceback": [
      "\u001b[1;31m---------------------------------------------------------------------------\u001b[0m",
      "\u001b[1;31mValidationError\u001b[0m                           Traceback (most recent call last)",
      "Cell \u001b[1;32mIn[7], line 2\u001b[0m\n\u001b[0;32m      1\u001b[0m \u001b[39mfrom\u001b[39;00m \u001b[39mmodels\u001b[39;00m\u001b[39m.\u001b[39;00m\u001b[39mOptimalPowerFlow\u001b[39;00m \u001b[39mimport\u001b[39;00m OptimalPowerFlowSolution\n\u001b[1;32m----> 2\u001b[0m opf_solution \u001b[39m=\u001b[39m OptimalPowerFlowSolution(\u001b[39m*\u001b[39;49m\u001b[39m*\u001b[39;49mresult)\n",
      "File \u001b[1;32mc:\\Users\\mboegl\\AppData\\Local\\pypoetry\\Cache\\virtualenvs\\network-lLrTLuON-py3.11\\Lib\\site-packages\\pydantic\\main.py:159\u001b[0m, in \u001b[0;36mBaseModel.__init__\u001b[1;34m(__pydantic_self__, **data)\u001b[0m\n\u001b[0;32m    157\u001b[0m \u001b[39m# `__tracebackhide__` tells pytest and some other tools to omit this function from tracebacks\u001b[39;00m\n\u001b[0;32m    158\u001b[0m __tracebackhide__ \u001b[39m=\u001b[39m \u001b[39mTrue\u001b[39;00m\n\u001b[1;32m--> 159\u001b[0m __pydantic_self__\u001b[39m.\u001b[39;49m__pydantic_validator__\u001b[39m.\u001b[39;49mvalidate_python(data, self_instance\u001b[39m=\u001b[39;49m__pydantic_self__)\n",
      "\u001b[1;31mValidationError\u001b[0m: 2 validation errors for OptimalPowerFlowSolution\nres_load.p_mvar\n  Field required [type=missing, input_value={'p_mw': {'0': 4.5e-05, '..., '1': 0.05, '2': 0.05}}, input_type=dict]\n    For further information visit https://errors.pydantic.dev/2.2/v/missing\nres_gen\n  Field required [type=missing, input_value={'bus': {'name': {'0': 'e..., 'q_mvar': {'0': 0.0}}}, input_type=dict]\n    For further information visit https://errors.pydantic.dev/2.2/v/missing"
     ]
    }
   ],
   "source": [
    "from models.OptimalPowerFlow import OptimalPowerFlowSolution\n",
    "opf_solution = OptimalPowerFlowSolution(**result)"
   ]
  }
 ],
 "metadata": {
  "kernelspec": {
   "display_name": "network-lLrTLuON-py3.11",
   "language": "python",
   "name": "python3"
  },
  "language_info": {
   "codemirror_mode": {
    "name": "ipython",
    "version": 3
   },
   "file_extension": ".py",
   "mimetype": "text/x-python",
   "name": "python",
   "nbconvert_exporter": "python",
   "pygments_lexer": "ipython3",
   "version": "3.11.4"
  },
  "orig_nbformat": 4
 },
 "nbformat": 4,
 "nbformat_minor": 2
}
