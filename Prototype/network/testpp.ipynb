{
 "cells": [
  {
   "cell_type": "code",
   "execution_count": 3,
   "metadata": {},
   "outputs": [],
   "source": [
    "import pandapower as pp"
   ]
  },
  {
   "cell_type": "code",
   "execution_count": 10,
   "metadata": {},
   "outputs": [
    {
     "data": {
      "text/plain": [
       "2"
      ]
     },
     "execution_count": 10,
     "metadata": {},
     "output_type": "execute_result"
    }
   ],
   "source": [
    "net = pp.create_empty_network()\n",
    "\n",
    "b1 = pp.create_bus(net, vn_kv=0.4, name=\"e6c8200f-d84b-499b-ad13-4313eec39ca2\")\n",
    "b2 = pp.create_bus(net, vn_kv=0.4, name=\"60d36bfa-92a2-4521-95fa-ed0e95f2413\")\n",
    "b3 = pp.create_bus(net, vn_kv=0.4, name=\"ec28306c-772c-4d65-9916-55c03ce61566\")\n",
    "bg = pp.create_bus(net, vn_kv=0.4, name=\"d3ae8923-d4cd-46fb-ae6c-e4a20c7e5dab\")\n",
    "\n",
    "pp.create_ext_grid(net, bus=bg, vm_pu=1.02, name=\"grid connection\")\n",
    "pp.create_load(net, bus=b1, p_mw=0.1, q_mvar=0.05, name=\"e6c8200f-d84b-499b-ad13-4313eec39ca2\")\n",
    "pp.create_load(net, bus=b2, p_mw=0.1, q_mvar=0.05, name=\"60d36bfa-92a2-4521-95fa-ed0e95f2413\")\n",
    "pp.create_load(net, bus=b3, p_mw=0.1, q_mvar=0.05, name=\"ec28306c-772c-4d65-9916-55c03ce61566\")\n",
    "\n",
    "\n",
    "pp.create_line(net, from_bus=b3, to_bus=b2, length_km=0.1, name=\"line_b3_b2\", std_type=\"NAYY 4x50 SE\")\n",
    "pp.create_line(net, from_bus=b2, to_bus=b1, length_km=0.1, name=\"line_b2_b1\", std_type=\"NAYY 4x50 SE\")\n",
    "pp.create_line(net, from_bus=b1, to_bus=bg, length_km=0.1, name=\"line_b1_bg\", std_type=\"NAYY 4x50 SE\")"
   ]
  },
  {
   "cell_type": "code",
   "execution_count": 12,
   "metadata": {},
   "outputs": [
    {
     "data": {
      "text/html": [
       "<div>\n",
       "<style scoped>\n",
       "    .dataframe tbody tr th:only-of-type {\n",
       "        vertical-align: middle;\n",
       "    }\n",
       "\n",
       "    .dataframe tbody tr th {\n",
       "        vertical-align: top;\n",
       "    }\n",
       "\n",
       "    .dataframe thead th {\n",
       "        text-align: right;\n",
       "    }\n",
       "</style>\n",
       "<table border=\"1\" class=\"dataframe\">\n",
       "  <thead>\n",
       "    <tr style=\"text-align: right;\">\n",
       "      <th></th>\n",
       "      <th>name</th>\n",
       "      <th>bus</th>\n",
       "      <th>vm_pu</th>\n",
       "      <th>va_degree</th>\n",
       "      <th>slack_weight</th>\n",
       "      <th>in_service</th>\n",
       "    </tr>\n",
       "  </thead>\n",
       "  <tbody>\n",
       "    <tr>\n",
       "      <th>0</th>\n",
       "      <td>grid connection</td>\n",
       "      <td>3</td>\n",
       "      <td>1.02</td>\n",
       "      <td>0.0</td>\n",
       "      <td>1.0</td>\n",
       "      <td>True</td>\n",
       "    </tr>\n",
       "  </tbody>\n",
       "</table>\n",
       "</div>"
      ],
      "text/plain": [
       "              name  bus  vm_pu  va_degree  slack_weight  in_service\n",
       "0  grid connection    3   1.02        0.0           1.0        True"
      ]
     },
     "execution_count": 12,
     "metadata": {},
     "output_type": "execute_result"
    }
   ],
   "source": [
    "net.ext_grid"
   ]
  },
  {
   "cell_type": "code",
   "execution_count": 14,
   "metadata": {},
   "outputs": [
    {
     "name": "stderr",
     "output_type": "stream",
     "text": [
      "numba cannot be imported and numba functions are disabled.\n",
      "Probably the execution is slow.\n",
      "Please install numba to gain a massive speedup.\n",
      "(or if you prefer slow execution, set the flag numba=False to avoid this warning!)\n",
      "\n"
     ]
    }
   ],
   "source": [
    "pp.runpp(net)"
   ]
  },
  {
   "cell_type": "code",
   "execution_count": 16,
   "metadata": {},
   "outputs": [
    {
     "data": {
      "text/plain": [
       "'{\"vm_pu\":{\"0\":0.8384536486,\"1\":0.7101331482,\"2\":0.6433569099,\"3\":1.02},\"va_degree\":{\"0\":2.9909769611,\"1\":5.8549388004,\"2\":7.7207257471,\"3\":0.0},\"p_mw\":{\"0\":0.1,\"1\":0.1,\"2\":0.1,\"3\":-0.4426282196},\"q_mvar\":{\"0\":0.05,\"1\":0.05,\"2\":0.05,\"3\":-0.1684374319}}'"
      ]
     },
     "execution_count": 16,
     "metadata": {},
     "output_type": "execute_result"
    }
   ],
   "source": [
    "net.res_bus.to_json()"
   ]
  },
  {
   "cell_type": "code",
   "execution_count": null,
   "metadata": {},
   "outputs": [],
   "source": []
  }
 ],
 "metadata": {
  "kernelspec": {
   "display_name": "network-lLrTLuON-py3.11",
   "language": "python",
   "name": "python3"
  },
  "language_info": {
   "codemirror_mode": {
    "name": "ipython",
    "version": 3
   },
   "file_extension": ".py",
   "mimetype": "text/x-python",
   "name": "python",
   "nbconvert_exporter": "python",
   "pygments_lexer": "ipython3",
   "version": "3.11.4"
  },
  "orig_nbformat": 4
 },
 "nbformat": 4,
 "nbformat_minor": 2
}
