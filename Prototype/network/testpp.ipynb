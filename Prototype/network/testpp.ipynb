{
 "cells": [
  {
   "cell_type": "code",
   "execution_count": 2,
   "metadata": {},
   "outputs": [],
   "source": [
    "import pandapower as pp"
   ]
  },
  {
   "cell_type": "code",
   "execution_count": 8,
   "metadata": {},
   "outputs": [
    {
     "name": "stderr",
     "output_type": "stream",
     "text": [
      "numba cannot be imported and numba functions are disabled.\n",
      "Probably the execution is slow.\n",
      "Please install numba to gain a massive speedup.\n",
      "(or if you prefer slow execution, set the flag numba=False to avoid this warning!)\n",
      "\n"
     ]
    }
   ],
   "source": [
    "net = pp.create_empty_network()\n",
    "\n",
    "b1 = pp.create_bus(net, vn_kv=0.4, name=\"e6c8200f-d84b-499b-ad13-4313eec39ca2\")\n",
    "b2 = pp.create_bus(net, vn_kv=0.4, name=\"60d36bfa-92a2-4521-95fa-ed0e95f2413\")\n",
    "b3 = pp.create_bus(net, vn_kv=0.4, name=\"ec28306c-772c-4d65-9916-55c03ce61566\")\n",
    "bg = pp.create_bus(net, vn_kv=0.4, name=\"d3ae8923-d4cd-46fb-ae6c-e4a20c7e5dab\")\n",
    "\n",
    "pp.create_ext_grid(net, bus=bg, vm_pu=1.02, name=\"grid connection\")\n",
    "pp.create_load(net, bus=b1, p_mw=0.1, q_mvar=0.05, name=\"e6c8200f-d84b-499b-ad13-4313eec39ca2\")\n",
    "pp.create_load(net, bus=b2, p_mw=0.1, q_mvar=0.05, name=\"60d36bfa-92a2-4521-95fa-ed0e95f2413\")\n",
    "pp.create_load(net, bus=b3, p_mw=0.1, q_mvar=0.05, name=\"ec28306c-772c-4d65-9916-55c03ce61566\")\n",
    "\n",
    "\n",
    "pp.create_line(net, from_bus=b3, to_bus=b2, length_km=0.1, name=\"line_b3_b2\", std_type=\"NAYY 4x50 SE\")\n",
    "pp.create_line(net, from_bus=b2, to_bus=b1, length_km=0.1, name=\"line_b2_b1\", std_type=\"NAYY 4x50 SE\")\n",
    "pp.create_line(net, from_bus=b1, to_bus=bg, length_km=0.1, name=\"line_b1_bg\", std_type=\"NAYY 4x50 SE\")\n",
    "pp.runpp(net)"
   ]
  },
  {
   "cell_type": "code",
   "execution_count": 15,
   "metadata": {},
   "outputs": [
    {
     "name": "stderr",
     "output_type": "stream",
     "text": [
      "numba cannot be imported and numba functions are disabled.\n",
      "Probably the execution is slow.\n",
      "Please install numba to gain a massive speedup.\n",
      "(or if you prefer slow execution, set the flag numba=False to avoid this warning!)\n",
      "\n"
     ]
    },
    {
     "data": {
      "text/html": [
       "<div>\n",
       "<style scoped>\n",
       "    .dataframe tbody tr th:only-of-type {\n",
       "        vertical-align: middle;\n",
       "    }\n",
       "\n",
       "    .dataframe tbody tr th {\n",
       "        vertical-align: top;\n",
       "    }\n",
       "\n",
       "    .dataframe thead th {\n",
       "        text-align: right;\n",
       "    }\n",
       "</style>\n",
       "<table border=\"1\" class=\"dataframe\">\n",
       "  <thead>\n",
       "    <tr style=\"text-align: right;\">\n",
       "      <th></th>\n",
       "      <th>p_mw</th>\n",
       "      <th>q_mvar</th>\n",
       "    </tr>\n",
       "  </thead>\n",
       "  <tbody>\n",
       "    <tr>\n",
       "      <th>0</th>\n",
       "      <td>0.105264</td>\n",
       "      <td>0.050678</td>\n",
       "    </tr>\n",
       "  </tbody>\n",
       "</table>\n",
       "</div>"
      ],
      "text/plain": [
       "       p_mw    q_mvar\n",
       "0  0.105264  0.050678"
      ]
     },
     "execution_count": 15,
     "metadata": {},
     "output_type": "execute_result"
    }
   ],
   "source": [
    "net = pp.create_empty_network()\n",
    "\n",
    "b1 = pp.create_bus(net, vn_kv=0.4, name=\"e6c8200f-d84b-499b-ad13-4313eec39ca2\")\n",
    "b2 = pp.create_bus(net, vn_kv=0.4, name=\"60d36bfa-92a2-4521-95fa-ed0e95f2413\")\n",
    "bg = pp.create_bus(net, vn_kv=0.4, name=\"d3ae8923-d4cd-46fb-ae6c-e4a20c7e5dab\")\n",
    "\n",
    "pp.create_ext_grid(net, bus=bg, vm_pu=1.02, name=\"grid connection\")\n",
    "pp.create_load(net, bus=b1, p_mw=0.1, q_mvar=0.05, name=\"e6c8200f-d84b-499b-ad13-4313eec39ca2\")\n",
    "\n",
    "pp.create_line(net, from_bus=b2, to_bus=b1, length_km=0.1, name=\"line_b2_b1\", std_type=\"NAYY 4x50 SE\")\n",
    "pp.create_line(net, from_bus=b1, to_bus=bg, length_km=0.1, name=\"line_b1_bg\", std_type=\"NAYY 4x50 SE\")\n",
    "\n",
    "pp.runpp(net)\n",
    "net['res_ext_grid']"
   ]
  },
  {
   "cell_type": "code",
   "execution_count": 27,
   "metadata": {},
   "outputs": [
    {
     "name": "stderr",
     "output_type": "stream",
     "text": [
      "numba cannot be imported and numba functions are disabled.\n",
      "Probably the execution is slow.\n",
      "Please install numba to gain a massive speedup.\n",
      "(or if you prefer slow execution, set the flag numba=False to avoid this warning!)\n",
      "\n"
     ]
    },
    {
     "data": {
      "text/html": [
       "<div>\n",
       "<style scoped>\n",
       "    .dataframe tbody tr th:only-of-type {\n",
       "        vertical-align: middle;\n",
       "    }\n",
       "\n",
       "    .dataframe tbody tr th {\n",
       "        vertical-align: top;\n",
       "    }\n",
       "\n",
       "    .dataframe thead th {\n",
       "        text-align: right;\n",
       "    }\n",
       "</style>\n",
       "<table border=\"1\" class=\"dataframe\">\n",
       "  <thead>\n",
       "    <tr style=\"text-align: right;\">\n",
       "      <th></th>\n",
       "      <th>p_mw</th>\n",
       "      <th>q_mvar</th>\n",
       "    </tr>\n",
       "  </thead>\n",
       "  <tbody>\n",
       "    <tr>\n",
       "      <th>0</th>\n",
       "      <td>0.111899</td>\n",
       "      <td>0.050728</td>\n",
       "    </tr>\n",
       "  </tbody>\n",
       "</table>\n",
       "</div>"
      ],
      "text/plain": [
       "       p_mw    q_mvar\n",
       "0  0.111899  0.050728"
      ]
     },
     "execution_count": 27,
     "metadata": {},
     "output_type": "execute_result"
    }
   ],
   "source": [
    "net = pp.create_empty_network()\n",
    "\n",
    "b1 = pp.create_bus(net, vn_kv=0.4, name=\"e6c8200f-d84b-499b-ad13-4313eec39ca2\")\n",
    "b2 = pp.create_bus(net, vn_kv=0.4, name=\"60d36bfa-92a2-4521-95fa-ed0e95f2413\")\n",
    "bg = pp.create_bus(net, vn_kv=0.4, name=\"d3ae8923-d4cd-46fb-ae6c-e4a20c7e5dab\")\n",
    "\n",
    "pp.create_ext_grid(net, bus=bg, vm_pu=1.02, name=\"grid connection\")\n",
    "pp.create_load(net, bus=b1, p_mw=0.1, q_mvar=0.05, name=\"e6c8200f-d84b-499b-ad13-4313eec39ca2\")\n",
    "pp.create_storage(net, bus=b2, p_mw=0.01, max_e_mwh=.01, soc_percent=1.0, controllable=True)\n",
    "\n",
    "pp.create_line(net, from_bus=b2, to_bus=b1, length_km=0.1, name=\"line_b2_b1\", std_type=\"NAYY 4x150 SE\")\n",
    "pp.create_line(net, from_bus=b1, to_bus=bg, length_km=0.1, name=\"line_b1_bg\", std_type=\"NAYY 4x150 SE\")\n",
    "\n",
    "pp.runpp(net)\n",
    "net['res_ext_grid']"
   ]
  },
  {
   "cell_type": "code",
   "execution_count": 19,
   "metadata": {},
   "outputs": [
    {
     "data": {
      "text/html": [
       "<div>\n",
       "<style scoped>\n",
       "    .dataframe tbody tr th:only-of-type {\n",
       "        vertical-align: middle;\n",
       "    }\n",
       "\n",
       "    .dataframe tbody tr th {\n",
       "        vertical-align: top;\n",
       "    }\n",
       "\n",
       "    .dataframe thead th {\n",
       "        text-align: right;\n",
       "    }\n",
       "</style>\n",
       "<table border=\"1\" class=\"dataframe\">\n",
       "  <thead>\n",
       "    <tr style=\"text-align: right;\">\n",
       "      <th></th>\n",
       "      <th>p_mw</th>\n",
       "      <th>q_mvar</th>\n",
       "    </tr>\n",
       "  </thead>\n",
       "  <tbody>\n",
       "    <tr>\n",
       "      <th>0</th>\n",
       "      <td>0.001</td>\n",
       "      <td>0.0</td>\n",
       "    </tr>\n",
       "  </tbody>\n",
       "</table>\n",
       "</div>"
      ],
      "text/plain": [
       "    p_mw  q_mvar\n",
       "0  0.001     0.0"
      ]
     },
     "execution_count": 19,
     "metadata": {},
     "output_type": "execute_result"
    }
   ],
   "source": [
    "net['res_storage']"
   ]
  },
  {
   "cell_type": "code",
   "execution_count": 7,
   "metadata": {},
   "outputs": [
    {
     "name": "stderr",
     "output_type": "stream",
     "text": [
      "numba cannot be imported and numba functions are disabled.\n",
      "Probably the execution is slow.\n",
      "Please install numba to gain a massive speedup.\n",
      "(or if you prefer slow execution, set the flag numba=False to avoid this warning!)\n",
      "\n"
     ]
    },
    {
     "data": {
      "text/html": [
       "<div>\n",
       "<style scoped>\n",
       "    .dataframe tbody tr th:only-of-type {\n",
       "        vertical-align: middle;\n",
       "    }\n",
       "\n",
       "    .dataframe tbody tr th {\n",
       "        vertical-align: top;\n",
       "    }\n",
       "\n",
       "    .dataframe thead th {\n",
       "        text-align: right;\n",
       "    }\n",
       "</style>\n",
       "<table border=\"1\" class=\"dataframe\">\n",
       "  <thead>\n",
       "    <tr style=\"text-align: right;\">\n",
       "      <th></th>\n",
       "      <th>p_mw</th>\n",
       "      <th>q_mvar</th>\n",
       "    </tr>\n",
       "  </thead>\n",
       "  <tbody>\n",
       "    <tr>\n",
       "      <th>0</th>\n",
       "      <td>0.00197</td>\n",
       "      <td>0.050124</td>\n",
       "    </tr>\n",
       "  </tbody>\n",
       "</table>\n",
       "</div>"
      ],
      "text/plain": [
       "      p_mw    q_mvar\n",
       "0  0.00197  0.050124"
      ]
     },
     "execution_count": 7,
     "metadata": {},
     "output_type": "execute_result"
    }
   ],
   "source": [
    "import pandapower as pp\n",
    "\n",
    "#create empty net\n",
    "net = pp.create_empty_network()\n",
    "\n",
    "#create buses\n",
    "#bus1 = pp.create_bus(net, vn_kv=20., name=\"Bus 1\")\n",
    "bus2 = pp.create_bus(net, vn_kv=0.4, name=\"Bus 2\")\n",
    "bus3 = pp.create_bus(net, vn_kv=0.4, name=\"Bus 3\")\n",
    "\n",
    "#create bus elements\n",
    "pp.create_ext_grid(net, bus=bus2, vm_pu=1.02, name=\"Grid Connection\")\n",
    "pp.create_load(net, bus=bus3, p_mw=0.001, q_mvar=0.05, name=\"Load\")\n",
    "\n",
    "#create branch elements\n",
    "#trafo = pp.create_transformer(net, hv_bus=bus1, lv_bus=bus2, std_type=\"0.4 MVA 20/0.4 kV\", name=\"Trafo\")\n",
    "line = pp.create_line(net, from_bus=bus2, to_bus=bus3, length_km=0.1, std_type=\"NAYY 4x50 SE\", name=\"Line\")\n",
    "pp.runpp(net)\n",
    "net['res_ext_grid']"
   ]
  }
 ],
 "metadata": {
  "kernelspec": {
   "display_name": "network-lLrTLuON-py3.11",
   "language": "python",
   "name": "python3"
  },
  "language_info": {
   "codemirror_mode": {
    "name": "ipython",
    "version": 3
   },
   "file_extension": ".py",
   "mimetype": "text/x-python",
   "name": "python",
   "nbconvert_exporter": "python",
   "pygments_lexer": "ipython3",
   "version": "3.11.4"
  },
  "orig_nbformat": 4
 },
 "nbformat": 4,
 "nbformat_minor": 2
}
