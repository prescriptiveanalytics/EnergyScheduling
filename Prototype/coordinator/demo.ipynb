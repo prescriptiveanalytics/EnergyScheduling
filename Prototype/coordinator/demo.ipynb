{
 "cells": [
  {
   "cell_type": "code",
   "execution_count": 1,
   "metadata": {},
   "outputs": [],
   "source": [
    "import requests\n",
    "import json\n",
    "import pandas as pd\n",
    "import plotly.graph_objects as go\n",
    "import datetime\n",
    "import coordinator"
   ]
  },
  {
   "cell_type": "code",
   "execution_count": 2,
   "metadata": {},
   "outputs": [],
   "source": [
    "config_file = \"config.json\"\n",
    "with open(config_file, \"r\") as input_file:\n",
    "    config = json.load(input_file)"
   ]
  },
  {
   "cell_type": "code",
   "execution_count": 3,
   "metadata": {},
   "outputs": [],
   "source": [
    "# query 24 hours\n",
    "start_timestamp = 1692619200 # unix epoch in utc\n",
    "interval = 900 # timestep in seconds (= 15 minutes)\n",
    "number_intervals = 12\n",
    "query_times = [start_timestamp + i*interval for i in range(0, number_intervals)]"
   ]
  },
  {
   "cell_type": "code",
   "execution_count": 4,
   "metadata": {},
   "outputs": [],
   "source": [
    "consumers = coordinator.query_consumers(config['consumer_api'])\n",
    "network = coordinator.query_network(config['network_api'])\n",
    "generators = coordinator.query_generators(config['generator_api'])\n",
    "opfs = coordinator.query_range(query_times, config['network_api'])"
   ]
  },
  {
   "cell_type": "code",
   "execution_count": 6,
   "metadata": {},
   "outputs": [],
   "source": [
    "nodes_df = coordinator.get_nodes(consumers, generators, network)\n",
    "lines_df = coordinator.get_line_connections(consumers, generators, network)\n",
    "res_load_ts = coordinator.load_ts(nodes_df, opfs)\n",
    "res_bus_ts = coordinator.bus_ts(nodes_df, opfs)\n",
    "res_ext_grid_ts = coordinator.ext_grid_ts(nodes_df, opfs)\n",
    "res_gen_ts = coordinator.gen_ts(nodes_df, opfs)\n",
    "res_sum_load_ts = res_load_ts.groupby(by=['p_mw', 'q_mvar', 'time']).sum()"
   ]
  },
  {
   "cell_type": "code",
   "execution_count": null,
   "metadata": {},
   "outputs": [
    {
     "data": {
      "text/html": [
       "<div>\n",
       "<style scoped>\n",
       "    .dataframe tbody tr th:only-of-type {\n",
       "        vertical-align: middle;\n",
       "    }\n",
       "\n",
       "    .dataframe tbody tr th {\n",
       "        vertical-align: top;\n",
       "    }\n",
       "\n",
       "    .dataframe thead th {\n",
       "        text-align: right;\n",
       "    }\n",
       "</style>\n",
       "<table border=\"1\" class=\"dataframe\">\n",
       "  <thead>\n",
       "    <tr style=\"text-align: right;\">\n",
       "      <th></th>\n",
       "      <th>name</th>\n",
       "      <th>identifier</th>\n",
       "      <th>latitude</th>\n",
       "      <th>longitude</th>\n",
       "      <th>category</th>\n",
       "      <th>type</th>\n",
       "    </tr>\n",
       "  </thead>\n",
       "  <tbody>\n",
       "    <tr>\n",
       "      <th>0</th>\n",
       "      <td>location 1</td>\n",
       "      <td>e6c8200f-d84b-499b-ad13-4313eec39ca2</td>\n",
       "      <td>48.3744</td>\n",
       "      <td>14.5123</td>\n",
       "      <td>household</td>\n",
       "      <td>load</td>\n",
       "    </tr>\n",
       "    <tr>\n",
       "      <th>1</th>\n",
       "      <td>location 2</td>\n",
       "      <td>60d36bfa-92a2-4521-95fa-ed0e95f2413f</td>\n",
       "      <td>48.3744</td>\n",
       "      <td>14.5115</td>\n",
       "      <td>household</td>\n",
       "      <td>load</td>\n",
       "    </tr>\n",
       "    <tr>\n",
       "      <th>2</th>\n",
       "      <td>location 3</td>\n",
       "      <td>ec28306c-772c-4d65-9916-55c03ce61566</td>\n",
       "      <td>48.3740</td>\n",
       "      <td>14.5111</td>\n",
       "      <td>household</td>\n",
       "      <td>load</td>\n",
       "    </tr>\n",
       "    <tr>\n",
       "      <th>3</th>\n",
       "      <td>generator 1</td>\n",
       "      <td>8bee677b-b929-4d52-ba2d-d8619b86e199</td>\n",
       "      <td>48.3744</td>\n",
       "      <td>14.5125</td>\n",
       "      <td>household</td>\n",
       "      <td>generator</td>\n",
       "    </tr>\n",
       "    <tr>\n",
       "      <th>4</th>\n",
       "      <td>grid connection</td>\n",
       "      <td>d3ae8923-d4cd-46fb-ae6c-e4a20c7e5dab</td>\n",
       "      <td>48.3744</td>\n",
       "      <td>14.5131</td>\n",
       "      <td>network</td>\n",
       "      <td>network</td>\n",
       "    </tr>\n",
       "  </tbody>\n",
       "</table>\n",
       "</div>"
      ],
      "text/plain": [
       "              name                            identifier  latitude  longitude  \\\n",
       "0       location 1  e6c8200f-d84b-499b-ad13-4313eec39ca2   48.3744    14.5123   \n",
       "1       location 2  60d36bfa-92a2-4521-95fa-ed0e95f2413f   48.3744    14.5115   \n",
       "2       location 3  ec28306c-772c-4d65-9916-55c03ce61566   48.3740    14.5111   \n",
       "3      generator 1  8bee677b-b929-4d52-ba2d-d8619b86e199   48.3744    14.5125   \n",
       "4  grid connection  d3ae8923-d4cd-46fb-ae6c-e4a20c7e5dab   48.3744    14.5131   \n",
       "\n",
       "    category       type  \n",
       "0  household       load  \n",
       "1  household       load  \n",
       "2  household       load  \n",
       "3  household  generator  \n",
       "4    network    network  "
      ]
     },
     "execution_count": 6,
     "metadata": {},
     "output_type": "execute_result"
    }
   ],
   "source": [
    "nodes_df"
   ]
  },
  {
   "cell_type": "code",
   "execution_count": 8,
   "metadata": {},
   "outputs": [
    {
     "data": {
      "application/vnd.plotly.v1+json": {
       "config": {
        "plotlyServerURL": "https://plot.ly"
       },
       "data": [
        {
         "lat": [
          48.374,
          48.3744,
          48.3744,
          48.3744,
          48.3744,
          48.3744,
          48.3744,
          48.3744
         ],
         "lon": [
          14.5111,
          14.5115,
          14.5115,
          14.5123,
          14.5123,
          14.5125,
          14.5125,
          14.5131
         ],
         "mode": "lines",
         "type": "scattermapbox"
        },
        {
         "hoverinfo": "text",
         "lat": [
          48.3744,
          48.3744,
          48.374
         ],
         "lon": [
          14.5123,
          14.5115,
          14.5111
         ],
         "marker": {
          "color": "red"
         },
         "mode": "markers",
         "text": [
          "location 1",
          "location 2",
          "location 3"
         ],
         "type": "scattermapbox"
        },
        {
         "hoverinfo": "text",
         "lat": [
          48.3744
         ],
         "lon": [
          14.5131
         ],
         "marker": {
          "color": "blue"
         },
         "mode": "markers",
         "text": [
          "grid connection"
         ],
         "type": "scattermapbox"
        },
        {
         "hoverinfo": "text",
         "lat": [
          48.3744
         ],
         "lon": [
          14.5125
         ],
         "marker": {
          "color": "green"
         },
         "mode": "markers",
         "text": [
          "generator 1"
         ],
         "type": "scattermapbox"
        }
       ],
       "layout": {
        "mapbox": {
         "center": {
          "lat": 48.374320000000004,
          "lon": 14.512099999999998
         },
         "style": "open-street-map",
         "zoom": 15
        },
        "margin": {
         "b": 0,
         "l": 0,
         "r": 0,
         "t": 0
        },
        "template": {
         "data": {
          "bar": [
           {
            "error_x": {
             "color": "#2a3f5f"
            },
            "error_y": {
             "color": "#2a3f5f"
            },
            "marker": {
             "line": {
              "color": "#E5ECF6",
              "width": 0.5
             },
             "pattern": {
              "fillmode": "overlay",
              "size": 10,
              "solidity": 0.2
             }
            },
            "type": "bar"
           }
          ],
          "barpolar": [
           {
            "marker": {
             "line": {
              "color": "#E5ECF6",
              "width": 0.5
             },
             "pattern": {
              "fillmode": "overlay",
              "size": 10,
              "solidity": 0.2
             }
            },
            "type": "barpolar"
           }
          ],
          "carpet": [
           {
            "aaxis": {
             "endlinecolor": "#2a3f5f",
             "gridcolor": "white",
             "linecolor": "white",
             "minorgridcolor": "white",
             "startlinecolor": "#2a3f5f"
            },
            "baxis": {
             "endlinecolor": "#2a3f5f",
             "gridcolor": "white",
             "linecolor": "white",
             "minorgridcolor": "white",
             "startlinecolor": "#2a3f5f"
            },
            "type": "carpet"
           }
          ],
          "choropleth": [
           {
            "colorbar": {
             "outlinewidth": 0,
             "ticks": ""
            },
            "type": "choropleth"
           }
          ],
          "contour": [
           {
            "colorbar": {
             "outlinewidth": 0,
             "ticks": ""
            },
            "colorscale": [
             [
              0,
              "#0d0887"
             ],
             [
              0.1111111111111111,
              "#46039f"
             ],
             [
              0.2222222222222222,
              "#7201a8"
             ],
             [
              0.3333333333333333,
              "#9c179e"
             ],
             [
              0.4444444444444444,
              "#bd3786"
             ],
             [
              0.5555555555555556,
              "#d8576b"
             ],
             [
              0.6666666666666666,
              "#ed7953"
             ],
             [
              0.7777777777777778,
              "#fb9f3a"
             ],
             [
              0.8888888888888888,
              "#fdca26"
             ],
             [
              1,
              "#f0f921"
             ]
            ],
            "type": "contour"
           }
          ],
          "contourcarpet": [
           {
            "colorbar": {
             "outlinewidth": 0,
             "ticks": ""
            },
            "type": "contourcarpet"
           }
          ],
          "heatmap": [
           {
            "colorbar": {
             "outlinewidth": 0,
             "ticks": ""
            },
            "colorscale": [
             [
              0,
              "#0d0887"
             ],
             [
              0.1111111111111111,
              "#46039f"
             ],
             [
              0.2222222222222222,
              "#7201a8"
             ],
             [
              0.3333333333333333,
              "#9c179e"
             ],
             [
              0.4444444444444444,
              "#bd3786"
             ],
             [
              0.5555555555555556,
              "#d8576b"
             ],
             [
              0.6666666666666666,
              "#ed7953"
             ],
             [
              0.7777777777777778,
              "#fb9f3a"
             ],
             [
              0.8888888888888888,
              "#fdca26"
             ],
             [
              1,
              "#f0f921"
             ]
            ],
            "type": "heatmap"
           }
          ],
          "heatmapgl": [
           {
            "colorbar": {
             "outlinewidth": 0,
             "ticks": ""
            },
            "colorscale": [
             [
              0,
              "#0d0887"
             ],
             [
              0.1111111111111111,
              "#46039f"
             ],
             [
              0.2222222222222222,
              "#7201a8"
             ],
             [
              0.3333333333333333,
              "#9c179e"
             ],
             [
              0.4444444444444444,
              "#bd3786"
             ],
             [
              0.5555555555555556,
              "#d8576b"
             ],
             [
              0.6666666666666666,
              "#ed7953"
             ],
             [
              0.7777777777777778,
              "#fb9f3a"
             ],
             [
              0.8888888888888888,
              "#fdca26"
             ],
             [
              1,
              "#f0f921"
             ]
            ],
            "type": "heatmapgl"
           }
          ],
          "histogram": [
           {
            "marker": {
             "pattern": {
              "fillmode": "overlay",
              "size": 10,
              "solidity": 0.2
             }
            },
            "type": "histogram"
           }
          ],
          "histogram2d": [
           {
            "colorbar": {
             "outlinewidth": 0,
             "ticks": ""
            },
            "colorscale": [
             [
              0,
              "#0d0887"
             ],
             [
              0.1111111111111111,
              "#46039f"
             ],
             [
              0.2222222222222222,
              "#7201a8"
             ],
             [
              0.3333333333333333,
              "#9c179e"
             ],
             [
              0.4444444444444444,
              "#bd3786"
             ],
             [
              0.5555555555555556,
              "#d8576b"
             ],
             [
              0.6666666666666666,
              "#ed7953"
             ],
             [
              0.7777777777777778,
              "#fb9f3a"
             ],
             [
              0.8888888888888888,
              "#fdca26"
             ],
             [
              1,
              "#f0f921"
             ]
            ],
            "type": "histogram2d"
           }
          ],
          "histogram2dcontour": [
           {
            "colorbar": {
             "outlinewidth": 0,
             "ticks": ""
            },
            "colorscale": [
             [
              0,
              "#0d0887"
             ],
             [
              0.1111111111111111,
              "#46039f"
             ],
             [
              0.2222222222222222,
              "#7201a8"
             ],
             [
              0.3333333333333333,
              "#9c179e"
             ],
             [
              0.4444444444444444,
              "#bd3786"
             ],
             [
              0.5555555555555556,
              "#d8576b"
             ],
             [
              0.6666666666666666,
              "#ed7953"
             ],
             [
              0.7777777777777778,
              "#fb9f3a"
             ],
             [
              0.8888888888888888,
              "#fdca26"
             ],
             [
              1,
              "#f0f921"
             ]
            ],
            "type": "histogram2dcontour"
           }
          ],
          "mesh3d": [
           {
            "colorbar": {
             "outlinewidth": 0,
             "ticks": ""
            },
            "type": "mesh3d"
           }
          ],
          "parcoords": [
           {
            "line": {
             "colorbar": {
              "outlinewidth": 0,
              "ticks": ""
             }
            },
            "type": "parcoords"
           }
          ],
          "pie": [
           {
            "automargin": true,
            "type": "pie"
           }
          ],
          "scatter": [
           {
            "fillpattern": {
             "fillmode": "overlay",
             "size": 10,
             "solidity": 0.2
            },
            "type": "scatter"
           }
          ],
          "scatter3d": [
           {
            "line": {
             "colorbar": {
              "outlinewidth": 0,
              "ticks": ""
             }
            },
            "marker": {
             "colorbar": {
              "outlinewidth": 0,
              "ticks": ""
             }
            },
            "type": "scatter3d"
           }
          ],
          "scattercarpet": [
           {
            "marker": {
             "colorbar": {
              "outlinewidth": 0,
              "ticks": ""
             }
            },
            "type": "scattercarpet"
           }
          ],
          "scattergeo": [
           {
            "marker": {
             "colorbar": {
              "outlinewidth": 0,
              "ticks": ""
             }
            },
            "type": "scattergeo"
           }
          ],
          "scattergl": [
           {
            "marker": {
             "colorbar": {
              "outlinewidth": 0,
              "ticks": ""
             }
            },
            "type": "scattergl"
           }
          ],
          "scattermapbox": [
           {
            "marker": {
             "colorbar": {
              "outlinewidth": 0,
              "ticks": ""
             }
            },
            "type": "scattermapbox"
           }
          ],
          "scatterpolar": [
           {
            "marker": {
             "colorbar": {
              "outlinewidth": 0,
              "ticks": ""
             }
            },
            "type": "scatterpolar"
           }
          ],
          "scatterpolargl": [
           {
            "marker": {
             "colorbar": {
              "outlinewidth": 0,
              "ticks": ""
             }
            },
            "type": "scatterpolargl"
           }
          ],
          "scatterternary": [
           {
            "marker": {
             "colorbar": {
              "outlinewidth": 0,
              "ticks": ""
             }
            },
            "type": "scatterternary"
           }
          ],
          "surface": [
           {
            "colorbar": {
             "outlinewidth": 0,
             "ticks": ""
            },
            "colorscale": [
             [
              0,
              "#0d0887"
             ],
             [
              0.1111111111111111,
              "#46039f"
             ],
             [
              0.2222222222222222,
              "#7201a8"
             ],
             [
              0.3333333333333333,
              "#9c179e"
             ],
             [
              0.4444444444444444,
              "#bd3786"
             ],
             [
              0.5555555555555556,
              "#d8576b"
             ],
             [
              0.6666666666666666,
              "#ed7953"
             ],
             [
              0.7777777777777778,
              "#fb9f3a"
             ],
             [
              0.8888888888888888,
              "#fdca26"
             ],
             [
              1,
              "#f0f921"
             ]
            ],
            "type": "surface"
           }
          ],
          "table": [
           {
            "cells": {
             "fill": {
              "color": "#EBF0F8"
             },
             "line": {
              "color": "white"
             }
            },
            "header": {
             "fill": {
              "color": "#C8D4E3"
             },
             "line": {
              "color": "white"
             }
            },
            "type": "table"
           }
          ]
         },
         "layout": {
          "annotationdefaults": {
           "arrowcolor": "#2a3f5f",
           "arrowhead": 0,
           "arrowwidth": 1
          },
          "autotypenumbers": "strict",
          "coloraxis": {
           "colorbar": {
            "outlinewidth": 0,
            "ticks": ""
           }
          },
          "colorscale": {
           "diverging": [
            [
             0,
             "#8e0152"
            ],
            [
             0.1,
             "#c51b7d"
            ],
            [
             0.2,
             "#de77ae"
            ],
            [
             0.3,
             "#f1b6da"
            ],
            [
             0.4,
             "#fde0ef"
            ],
            [
             0.5,
             "#f7f7f7"
            ],
            [
             0.6,
             "#e6f5d0"
            ],
            [
             0.7,
             "#b8e186"
            ],
            [
             0.8,
             "#7fbc41"
            ],
            [
             0.9,
             "#4d9221"
            ],
            [
             1,
             "#276419"
            ]
           ],
           "sequential": [
            [
             0,
             "#0d0887"
            ],
            [
             0.1111111111111111,
             "#46039f"
            ],
            [
             0.2222222222222222,
             "#7201a8"
            ],
            [
             0.3333333333333333,
             "#9c179e"
            ],
            [
             0.4444444444444444,
             "#bd3786"
            ],
            [
             0.5555555555555556,
             "#d8576b"
            ],
            [
             0.6666666666666666,
             "#ed7953"
            ],
            [
             0.7777777777777778,
             "#fb9f3a"
            ],
            [
             0.8888888888888888,
             "#fdca26"
            ],
            [
             1,
             "#f0f921"
            ]
           ],
           "sequentialminus": [
            [
             0,
             "#0d0887"
            ],
            [
             0.1111111111111111,
             "#46039f"
            ],
            [
             0.2222222222222222,
             "#7201a8"
            ],
            [
             0.3333333333333333,
             "#9c179e"
            ],
            [
             0.4444444444444444,
             "#bd3786"
            ],
            [
             0.5555555555555556,
             "#d8576b"
            ],
            [
             0.6666666666666666,
             "#ed7953"
            ],
            [
             0.7777777777777778,
             "#fb9f3a"
            ],
            [
             0.8888888888888888,
             "#fdca26"
            ],
            [
             1,
             "#f0f921"
            ]
           ]
          },
          "colorway": [
           "#636efa",
           "#EF553B",
           "#00cc96",
           "#ab63fa",
           "#FFA15A",
           "#19d3f3",
           "#FF6692",
           "#B6E880",
           "#FF97FF",
           "#FECB52"
          ],
          "font": {
           "color": "#2a3f5f"
          },
          "geo": {
           "bgcolor": "white",
           "lakecolor": "white",
           "landcolor": "#E5ECF6",
           "showlakes": true,
           "showland": true,
           "subunitcolor": "white"
          },
          "hoverlabel": {
           "align": "left"
          },
          "hovermode": "closest",
          "mapbox": {
           "style": "light"
          },
          "paper_bgcolor": "white",
          "plot_bgcolor": "#E5ECF6",
          "polar": {
           "angularaxis": {
            "gridcolor": "white",
            "linecolor": "white",
            "ticks": ""
           },
           "bgcolor": "#E5ECF6",
           "radialaxis": {
            "gridcolor": "white",
            "linecolor": "white",
            "ticks": ""
           }
          },
          "scene": {
           "xaxis": {
            "backgroundcolor": "#E5ECF6",
            "gridcolor": "white",
            "gridwidth": 2,
            "linecolor": "white",
            "showbackground": true,
            "ticks": "",
            "zerolinecolor": "white"
           },
           "yaxis": {
            "backgroundcolor": "#E5ECF6",
            "gridcolor": "white",
            "gridwidth": 2,
            "linecolor": "white",
            "showbackground": true,
            "ticks": "",
            "zerolinecolor": "white"
           },
           "zaxis": {
            "backgroundcolor": "#E5ECF6",
            "gridcolor": "white",
            "gridwidth": 2,
            "linecolor": "white",
            "showbackground": true,
            "ticks": "",
            "zerolinecolor": "white"
           }
          },
          "shapedefaults": {
           "line": {
            "color": "#2a3f5f"
           }
          },
          "ternary": {
           "aaxis": {
            "gridcolor": "white",
            "linecolor": "white",
            "ticks": ""
           },
           "baxis": {
            "gridcolor": "white",
            "linecolor": "white",
            "ticks": ""
           },
           "bgcolor": "#E5ECF6",
           "caxis": {
            "gridcolor": "white",
            "linecolor": "white",
            "ticks": ""
           }
          },
          "title": {
           "x": 0.05
          },
          "xaxis": {
           "automargin": true,
           "gridcolor": "white",
           "linecolor": "white",
           "ticks": "",
           "title": {
            "standoff": 15
           },
           "zerolinecolor": "white",
           "zerolinewidth": 2
          },
          "yaxis": {
           "automargin": true,
           "gridcolor": "white",
           "linecolor": "white",
           "ticks": "",
           "title": {
            "standoff": 15
           },
           "zerolinecolor": "white",
           "zerolinewidth": 2
          }
         }
        }
       }
      }
     },
     "metadata": {},
     "output_type": "display_data"
    }
   ],
   "source": [
    "mapbox_token = \"\"\n",
    "\n",
    "fig = go.Figure()\n",
    "\n",
    "opf_keys = [k for k in sorted(opfs.keys())]\n",
    "lines_df = coordinator.get_line_connections(consumers, generators, network)\n",
    "load_df = coordinator.create_load_dataframe(consumers, network, opfs[opf_keys[0]])\n",
    "load_map_df = nodes_df[nodes_df['type'] == \"load\"]\n",
    "generator_map_df = nodes_df[nodes_df['type'] == \"generator\"]\n",
    "network_map_df = nodes_df[nodes_df['type'] == \"network\"]\n",
    "\n",
    "# add lines\n",
    "fig.add_trace(go.Scattermapbox(\n",
    "    mode = 'lines',\n",
    "    lon = lines_df['longitude'],\n",
    "    lat = lines_df['latitude']\n",
    "))\n",
    "\n",
    "# nodes\n",
    "fig.add_trace(go.Scattermapbox(\n",
    "    mode = \"markers\",\n",
    "    lon = load_map_df['longitude'],\n",
    "    lat = load_map_df['latitude'],\n",
    "    marker = go.scattermapbox.Marker(\n",
    "        color=\"red\"\n",
    "    ),\n",
    "    hoverinfo = 'text',\n",
    "    text = load_map_df['name'] # + '<br>' + 'load: ' + load_map_df['load'].astype(str) + \" MW\"\n",
    "))\n",
    "\n",
    "fig.add_trace(go.Scattermapbox(\n",
    "    mode = \"markers\",\n",
    "    lon = network_map_df['longitude'],\n",
    "    lat = network_map_df['latitude'],\n",
    "    marker = go.scattermapbox.Marker(\n",
    "        color=\"blue\"\n",
    "    ),\n",
    "    hoverinfo = 'text',\n",
    "    text = network_map_df['name'] # + '<br>' + 'load: ' + load_map_df['load'].astype(str) + \" MW\"\n",
    "))\n",
    "\n",
    "fig.add_trace(go.Scattermapbox(\n",
    "    mode = \"markers\",\n",
    "    lon = generator_map_df['longitude'],\n",
    "    lat = generator_map_df['latitude'],\n",
    "    marker = go.scattermapbox.Marker(\n",
    "        color=\"green\"\n",
    "    ),\n",
    "    hoverinfo = 'text',\n",
    "    text = generator_map_df['name'] # + '<br>' + 'load: ' + load_map_df['load'].astype(str) + \" MW\"\n",
    "))\n",
    "\n",
    "fig.update_layout(    \n",
    "    margin ={'l':0,'t':0,'b':0,'r':0},\n",
    "    mapbox_style = \"dark\",\n",
    "    mapbox = {\n",
    "        'center': { 'lon': nodes_df['longitude'].mean(), 'lat': nodes_df['latitude'].mean() },\n",
    "        'zoom': 15,\n",
    "        'style': \"open-street-map\"})\n",
    "\n",
    "#fig.update_geos(projection_type='mercator')\n",
    "\n",
    "fig.show()"
   ]
  },
  {
   "cell_type": "code",
   "execution_count": 10,
   "metadata": {},
   "outputs": [
    {
     "data": {
      "text/html": [
       "<div>\n",
       "<style scoped>\n",
       "    .dataframe tbody tr th:only-of-type {\n",
       "        vertical-align: middle;\n",
       "    }\n",
       "\n",
       "    .dataframe tbody tr th {\n",
       "        vertical-align: top;\n",
       "    }\n",
       "\n",
       "    .dataframe thead th {\n",
       "        text-align: right;\n",
       "    }\n",
       "</style>\n",
       "<table border=\"1\" class=\"dataframe\">\n",
       "  <thead>\n",
       "    <tr style=\"text-align: right;\">\n",
       "      <th></th>\n",
       "      <th>name</th>\n",
       "      <th>identifier</th>\n",
       "      <th>latitude</th>\n",
       "      <th>longitude</th>\n",
       "      <th>category</th>\n",
       "    </tr>\n",
       "  </thead>\n",
       "  <tbody>\n",
       "    <tr>\n",
       "      <th>0</th>\n",
       "      <td>location 1</td>\n",
       "      <td>e6c8200f-d84b-499b-ad13-4313eec39ca2</td>\n",
       "      <td>48.3744</td>\n",
       "      <td>14.5123</td>\n",
       "      <td>household</td>\n",
       "    </tr>\n",
       "    <tr>\n",
       "      <th>1</th>\n",
       "      <td>location 2</td>\n",
       "      <td>60d36bfa-92a2-4521-95fa-ed0e95f2413f</td>\n",
       "      <td>48.3744</td>\n",
       "      <td>14.5115</td>\n",
       "      <td>household</td>\n",
       "    </tr>\n",
       "    <tr>\n",
       "      <th>2</th>\n",
       "      <td>location 3</td>\n",
       "      <td>ec28306c-772c-4d65-9916-55c03ce61566</td>\n",
       "      <td>48.3740</td>\n",
       "      <td>14.5111</td>\n",
       "      <td>household</td>\n",
       "    </tr>\n",
       "    <tr>\n",
       "      <th>3</th>\n",
       "      <td>generator 1</td>\n",
       "      <td>8bee677b-b929-4d52-ba2d-d8619b86e199</td>\n",
       "      <td>48.3744</td>\n",
       "      <td>14.5125</td>\n",
       "      <td>household</td>\n",
       "    </tr>\n",
       "    <tr>\n",
       "      <th>4</th>\n",
       "      <td>grid connection</td>\n",
       "      <td>d3ae8923-d4cd-46fb-ae6c-e4a20c7e5dab</td>\n",
       "      <td>48.3744</td>\n",
       "      <td>14.5131</td>\n",
       "      <td>network</td>\n",
       "    </tr>\n",
       "  </tbody>\n",
       "</table>\n",
       "</div>"
      ],
      "text/plain": [
       "              name                            identifier  latitude  longitude  \\\n",
       "0       location 1  e6c8200f-d84b-499b-ad13-4313eec39ca2   48.3744    14.5123   \n",
       "1       location 2  60d36bfa-92a2-4521-95fa-ed0e95f2413f   48.3744    14.5115   \n",
       "2       location 3  ec28306c-772c-4d65-9916-55c03ce61566   48.3740    14.5111   \n",
       "3      generator 1  8bee677b-b929-4d52-ba2d-d8619b86e199   48.3744    14.5125   \n",
       "4  grid connection  d3ae8923-d4cd-46fb-ae6c-e4a20c7e5dab   48.3744    14.5131   \n",
       "\n",
       "    category  \n",
       "0  household  \n",
       "1  household  \n",
       "2  household  \n",
       "3  household  \n",
       "4    network  "
      ]
     },
     "execution_count": 10,
     "metadata": {},
     "output_type": "execute_result"
    }
   ],
   "source": [
    "nodes_df"
   ]
  },
  {
   "cell_type": "code",
   "execution_count": 246,
   "metadata": {},
   "outputs": [],
   "source": [
    "def line_ts(nodes_df, opfs):\n",
    "    node_identifier_map = create_node_identifier_mapping(nodes_df)\n",
    "    opf_keys = [k for k in sorted(opfs.keys())]\n",
    "    dataframes = []\n",
    "    for ok in opf_keys:\n",
    "        o = opfs[ok]\n",
    "        df1 = pd.DataFrame(o['res_line'])\n",
    "        df1 = df1.reset_index()\n",
    "        df1['node_id'] = df1['index'].astype('int64')\n",
    "        dataframe = df1\n",
    "        dataframe['time'] = datetime.datetime.fromtimestamp(ok)\n",
    "        dataframes.append(dataframe)\n",
    "    res_line_ts = pd.concat(dataframes).reset_index()#[['node_id', 'p_mw', 'q_mvar', 'time']]\n",
    "    #res_line_ts['identifier'] = res_line_ts['node_id'].map(node_identifier_map)\n",
    "    #res_line_ts = res_line_ts[['p_mw', 'q_mvar', 'time', 'identifier']]\n",
    "    return res_line_ts"
   ]
  },
  {
   "cell_type": "code",
   "execution_count": 128,
   "metadata": {},
   "outputs": [
    {
     "data": {
      "application/vnd.plotly.v1+json": {
       "config": {
        "plotlyServerURL": "https://plot.ly"
       },
       "data": [
        {
         "mode": "markers+lines",
         "name": "consumer load",
         "type": "scatter",
         "x": [
          "2023-08-21T14:00:00",
          "2023-08-21T14:15:00",
          "2023-08-21T14:30:00",
          "2023-08-21T14:45:00",
          "2023-08-21T15:00:00",
          "2023-08-21T15:15:00",
          "2023-08-21T15:30:00",
          "2023-08-21T15:45:00",
          "2023-08-21T16:00:00",
          "2023-08-21T16:15:00",
          "2023-08-21T16:30:00",
          "2023-08-21T16:45:00",
          "2023-08-21T17:00:00",
          "2023-08-21T17:15:00",
          "2023-08-21T17:30:00",
          "2023-08-21T17:45:00",
          "2023-08-21T18:00:00",
          "2023-08-21T18:15:00",
          "2023-08-21T18:30:00",
          "2023-08-21T18:45:00",
          "2023-08-21T19:00:00",
          "2023-08-21T19:15:00",
          "2023-08-21T19:30:00",
          "2023-08-21T19:45:00",
          "2023-08-21T20:00:00",
          "2023-08-21T20:15:00",
          "2023-08-21T20:30:00",
          "2023-08-21T20:45:00",
          "2023-08-21T21:00:00",
          "2023-08-21T21:15:00",
          "2023-08-21T21:30:00",
          "2023-08-21T21:45:00",
          "2023-08-21T22:00:00",
          "2023-08-21T22:15:00",
          "2023-08-21T22:30:00",
          "2023-08-21T22:45:00",
          "2023-08-21T23:00:00",
          "2023-08-21T23:15:00",
          "2023-08-21T23:30:00",
          "2023-08-21T23:45:00",
          "2023-08-22T00:00:00",
          "2023-08-22T00:15:00",
          "2023-08-22T00:30:00",
          "2023-08-22T00:45:00",
          "2023-08-22T01:00:00",
          "2023-08-22T01:15:00",
          "2023-08-22T01:30:00",
          "2023-08-22T01:45:00",
          "2023-08-22T02:00:00",
          "2023-08-22T02:15:00",
          "2023-08-22T02:30:00",
          "2023-08-22T02:45:00",
          "2023-08-22T03:00:00",
          "2023-08-22T03:15:00",
          "2023-08-22T03:30:00",
          "2023-08-22T03:45:00",
          "2023-08-22T04:00:00",
          "2023-08-22T04:15:00",
          "2023-08-22T04:30:00",
          "2023-08-22T04:45:00",
          "2023-08-22T05:00:00",
          "2023-08-22T05:15:00",
          "2023-08-22T05:30:00",
          "2023-08-22T05:45:00",
          "2023-08-22T06:00:00",
          "2023-08-22T06:15:00",
          "2023-08-22T06:30:00",
          "2023-08-22T06:45:00",
          "2023-08-22T07:00:00",
          "2023-08-22T07:15:00",
          "2023-08-22T07:30:00",
          "2023-08-22T07:45:00",
          "2023-08-22T08:00:00",
          "2023-08-22T08:15:00",
          "2023-08-22T08:30:00",
          "2023-08-22T08:45:00",
          "2023-08-22T09:00:00",
          "2023-08-22T09:15:00",
          "2023-08-22T09:30:00",
          "2023-08-22T09:45:00",
          "2023-08-22T10:00:00",
          "2023-08-22T10:15:00",
          "2023-08-22T10:30:00",
          "2023-08-22T10:45:00",
          "2023-08-22T11:00:00",
          "2023-08-22T11:15:00",
          "2023-08-22T11:30:00",
          "2023-08-22T11:45:00",
          "2023-08-22T12:00:00",
          "2023-08-22T12:15:00",
          "2023-08-22T12:30:00",
          "2023-08-22T12:45:00",
          "2023-08-22T13:00:00",
          "2023-08-22T13:15:00",
          "2023-08-22T13:30:00",
          "2023-08-22T13:45:00"
         ],
         "y": [
          0.004848,
          0.001539,
          0.00218,
          0.004455000000000001,
          0.005133,
          0.007685,
          0.004259,
          0.00409,
          0.004269,
          0.005138,
          0.002872,
          0.004831,
          0.0035269999999999998,
          0.0029100000000000003,
          0.005601,
          0.005119,
          0.001175,
          0.005234,
          0.005703,
          0.003151,
          0.004958,
          0.0032840000000000005,
          0.005481,
          0.003526,
          0.0040160000000000005,
          0.005287,
          0.004413,
          0.004979,
          0.003865,
          0.006482,
          0.003557,
          0.005219,
          0.004802,
          0.0030949999999999997,
          0.007899,
          0.007292999999999999,
          0.004191,
          0.004938,
          0.00284,
          0.004119,
          0.005249,
          0.003837,
          0.00454,
          0.007996,
          0.0028339999999999997,
          0.0058379999999999994,
          0.005408,
          0.005804,
          0.007592,
          0.005015,
          0.004189,
          0.0040950000000000005,
          0.005835,
          0.004032,
          0.005736,
          0.005059,
          0.002842,
          0.00604,
          0.006709,
          0.005319000000000001,
          0.004343,
          0.005295,
          0.0027400000000000002,
          0.00434,
          0.003354,
          0.0060220000000000004,
          0.005053,
          0.00482,
          0.005449,
          0.006685,
          0.004385,
          0.005117,
          0.005959,
          0.003254,
          0.002622,
          0.003391,
          0.002287,
          0.006634,
          0.0044150000000000005,
          0.0053360000000000005,
          0.00537,
          0.003981,
          0.005067,
          0.0028469999999999997,
          0.004589,
          0.0072250000000000005,
          0.003104,
          0.0043,
          0.003947,
          0.004085999999999999,
          0.004144,
          0.003156,
          0.003627,
          0.005826,
          0.006841,
          0.006372
         ]
        },
        {
         "mode": "markers+lines",
         "name": "grid load",
         "type": "scatter",
         "x": [
          "2023-08-21T14:00:00",
          "2023-08-21T14:15:00",
          "2023-08-21T14:30:00",
          "2023-08-21T14:45:00",
          "2023-08-21T15:00:00",
          "2023-08-21T15:15:00",
          "2023-08-21T15:30:00",
          "2023-08-21T15:45:00",
          "2023-08-21T16:00:00",
          "2023-08-21T16:15:00",
          "2023-08-21T16:30:00",
          "2023-08-21T16:45:00",
          "2023-08-21T17:00:00",
          "2023-08-21T17:15:00",
          "2023-08-21T17:30:00",
          "2023-08-21T17:45:00",
          "2023-08-21T18:00:00",
          "2023-08-21T18:15:00",
          "2023-08-21T18:30:00",
          "2023-08-21T18:45:00",
          "2023-08-21T19:00:00",
          "2023-08-21T19:15:00",
          "2023-08-21T19:30:00",
          "2023-08-21T19:45:00",
          "2023-08-21T20:00:00",
          "2023-08-21T20:15:00",
          "2023-08-21T20:30:00",
          "2023-08-21T20:45:00",
          "2023-08-21T21:00:00",
          "2023-08-21T21:15:00",
          "2023-08-21T21:30:00",
          "2023-08-21T21:45:00",
          "2023-08-21T22:00:00",
          "2023-08-21T22:15:00",
          "2023-08-21T22:30:00",
          "2023-08-21T22:45:00",
          "2023-08-21T23:00:00",
          "2023-08-21T23:15:00",
          "2023-08-21T23:30:00",
          "2023-08-21T23:45:00",
          "2023-08-22T00:00:00",
          "2023-08-22T00:15:00",
          "2023-08-22T00:30:00",
          "2023-08-22T00:45:00",
          "2023-08-22T01:00:00",
          "2023-08-22T01:15:00",
          "2023-08-22T01:30:00",
          "2023-08-22T01:45:00",
          "2023-08-22T02:00:00",
          "2023-08-22T02:15:00",
          "2023-08-22T02:30:00",
          "2023-08-22T02:45:00",
          "2023-08-22T03:00:00",
          "2023-08-22T03:15:00",
          "2023-08-22T03:30:00",
          "2023-08-22T03:45:00",
          "2023-08-22T04:00:00",
          "2023-08-22T04:15:00",
          "2023-08-22T04:30:00",
          "2023-08-22T04:45:00",
          "2023-08-22T05:00:00",
          "2023-08-22T05:15:00",
          "2023-08-22T05:30:00",
          "2023-08-22T05:45:00",
          "2023-08-22T06:00:00",
          "2023-08-22T06:15:00",
          "2023-08-22T06:30:00",
          "2023-08-22T06:45:00",
          "2023-08-22T07:00:00",
          "2023-08-22T07:15:00",
          "2023-08-22T07:30:00",
          "2023-08-22T07:45:00",
          "2023-08-22T08:00:00",
          "2023-08-22T08:15:00",
          "2023-08-22T08:30:00",
          "2023-08-22T08:45:00",
          "2023-08-22T09:00:00",
          "2023-08-22T09:15:00",
          "2023-08-22T09:30:00",
          "2023-08-22T09:45:00",
          "2023-08-22T10:00:00",
          "2023-08-22T10:15:00",
          "2023-08-22T10:30:00",
          "2023-08-22T10:45:00",
          "2023-08-22T11:00:00",
          "2023-08-22T11:15:00",
          "2023-08-22T11:30:00",
          "2023-08-22T11:45:00",
          "2023-08-22T12:00:00",
          "2023-08-22T12:15:00",
          "2023-08-22T12:30:00",
          "2023-08-22T12:45:00",
          "2023-08-22T13:00:00",
          "2023-08-22T13:15:00",
          "2023-08-22T13:30:00",
          "2023-08-22T13:45:00"
         ],
         "y": [
          0.0077032094,
          -0.0050610002,
          0.0065865619,
          0.0127179931,
          0.0154481104,
          0.0177927429,
          0.0168854535,
          0.0134213523,
          0.0094747017,
          0.0118156078,
          0.007903292,
          0.0088330048,
          0.0135599353,
          0.0020409742,
          0.0024831941,
          0.004044197,
          0.0137764633,
          0.0136626486,
          0.0102353465,
          -0.0023459943,
          0.0040600814,
          0.0029577211,
          0.007209472,
          -0.0000779246,
          0.0166116278,
          0.0088087805,
          0.0110475103,
          0.0150779269,
          0.0145964564,
          0.0013113462,
          0.0114761975,
          0.0120292897,
          0.0184092492,
          0.0007949088,
          0.0167831767,
          0.0137414237,
          0.0090472717,
          0.0069924265,
          0.0136377714,
          0.0121441889,
          0.0186533141,
          0.0149073956,
          0.0084693912,
          0.0154495993,
          0.0152552948,
          0.0043895133,
          0.0021504073,
          0.0092923003,
          0.0086419905,
          0.0155638129,
          0.015166107,
          -0.001529032,
          0.0033466742,
          0.0074708319,
          0.0019957108,
          0.0011574983,
          0.0070793031,
          0.0109479767,
          0.0095651392,
          0.0009408531,
          0.0124113827,
          0.0088294195,
          0.0037236932,
          0.0123458917,
          0.01013132,
          0.0162660646,
          0.0165116458,
          0.0040430264,
          0.0142609943,
          0.0074627418,
          0.005477339,
          0.0069358966,
          0.0089566112,
          0.0007218399,
          0.0113152604,
          -0.0005815863,
          0.0064615899,
          0.0135307851,
          0.010495287,
          0.0150790827,
          0.0148829357,
          -0.0026668545,
          0.0082358609,
          0.0057710068,
          0.0134186191,
          0.0080329522,
          0.0162401057,
          0.0002801742,
          0.0048409465,
          0.0059189668,
          0.0128365837,
          0.0048212273,
          -0.0019424675,
          0.0145211053,
          0.0023223606,
          0.013888207
         ]
        },
        {
         "mode": "markers+lines",
         "name": "production",
         "type": "scatter",
         "x": [
          "2023-08-21T14:00:00",
          "2023-08-21T14:15:00",
          "2023-08-21T14:30:00",
          "2023-08-21T14:45:00",
          "2023-08-21T15:00:00",
          "2023-08-21T15:15:00",
          "2023-08-21T15:30:00",
          "2023-08-21T15:45:00",
          "2023-08-21T16:00:00",
          "2023-08-21T16:15:00",
          "2023-08-21T16:30:00",
          "2023-08-21T16:45:00",
          "2023-08-21T17:00:00",
          "2023-08-21T17:15:00",
          "2023-08-21T17:30:00",
          "2023-08-21T17:45:00",
          "2023-08-21T18:00:00",
          "2023-08-21T18:15:00",
          "2023-08-21T18:30:00",
          "2023-08-21T18:45:00",
          "2023-08-21T19:00:00",
          "2023-08-21T19:15:00",
          "2023-08-21T19:30:00",
          "2023-08-21T19:45:00",
          "2023-08-21T20:00:00",
          "2023-08-21T20:15:00",
          "2023-08-21T20:30:00",
          "2023-08-21T20:45:00",
          "2023-08-21T21:00:00",
          "2023-08-21T21:15:00",
          "2023-08-21T21:30:00",
          "2023-08-21T21:45:00",
          "2023-08-21T22:00:00",
          "2023-08-21T22:15:00",
          "2023-08-21T22:30:00",
          "2023-08-21T22:45:00",
          "2023-08-21T23:00:00",
          "2023-08-21T23:15:00",
          "2023-08-21T23:30:00",
          "2023-08-21T23:45:00",
          "2023-08-22T00:00:00",
          "2023-08-22T00:15:00",
          "2023-08-22T00:30:00",
          "2023-08-22T00:45:00",
          "2023-08-22T01:00:00",
          "2023-08-22T01:15:00",
          "2023-08-22T01:30:00",
          "2023-08-22T01:45:00",
          "2023-08-22T02:00:00",
          "2023-08-22T02:15:00",
          "2023-08-22T02:30:00",
          "2023-08-22T02:45:00",
          "2023-08-22T03:00:00",
          "2023-08-22T03:15:00",
          "2023-08-22T03:30:00",
          "2023-08-22T03:45:00",
          "2023-08-22T04:00:00",
          "2023-08-22T04:15:00",
          "2023-08-22T04:30:00",
          "2023-08-22T04:45:00",
          "2023-08-22T05:00:00",
          "2023-08-22T05:15:00",
          "2023-08-22T05:30:00",
          "2023-08-22T05:45:00",
          "2023-08-22T06:00:00",
          "2023-08-22T06:15:00",
          "2023-08-22T06:30:00",
          "2023-08-22T06:45:00",
          "2023-08-22T07:00:00",
          "2023-08-22T07:15:00",
          "2023-08-22T07:30:00",
          "2023-08-22T07:45:00",
          "2023-08-22T08:00:00",
          "2023-08-22T08:15:00",
          "2023-08-22T08:30:00",
          "2023-08-22T08:45:00",
          "2023-08-22T09:00:00",
          "2023-08-22T09:15:00",
          "2023-08-22T09:30:00",
          "2023-08-22T09:45:00",
          "2023-08-22T10:00:00",
          "2023-08-22T10:15:00",
          "2023-08-22T10:30:00",
          "2023-08-22T10:45:00",
          "2023-08-22T11:00:00",
          "2023-08-22T11:15:00",
          "2023-08-22T11:30:00",
          "2023-08-22T11:45:00",
          "2023-08-22T12:00:00",
          "2023-08-22T12:15:00",
          "2023-08-22T12:30:00",
          "2023-08-22T12:45:00",
          "2023-08-22T13:00:00",
          "2023-08-22T13:15:00",
          "2023-08-22T13:30:00",
          "2023-08-22T13:45:00"
         ],
         "y": [
          0.020547,
          0.029755,
          0.018903,
          0.015229,
          0.013259,
          0.013602,
          0.010946,
          0.01416,
          0.018226,
          0.016802,
          0.018328,
          0.019416,
          0.013449,
          0.024131,
          0.026456,
          0.024438,
          0.010836,
          0.015107,
          0.018929,
          0.028711,
          0.024246,
          0.023618,
          0.021678,
          0.026861,
          0.010968,
          0.019914,
          0.01681,
          0.013468,
          0.012777,
          0.028532,
          0.015513,
          0.016685,
          0.010036,
          0.025551,
          0.014799,
          0.017139,
          0.018549,
          0.021333,
          0.012677,
          0.01544,
          0.010251,
          0.012458,
          0.019473,
          0.016206,
          0.011086,
          0.024823,
          0.026586,
          0.019963,
          0.022443,
          0.013022,
          0.012573,
          0.028865,
          0.025847,
          0.019934,
          0.027076,
          0.027201,
          0.019106,
          0.018592,
          0.020629,
          0.027681,
          0.015422,
          0.019913,
          0.022294,
          0.015468,
          0.016639,
          0.013367,
          0.012144,
          0.02411,
          0.014731,
          0.022669,
          0.022248,
          0.021582,
          0.020454,
          0.025785,
          0.014725,
          0.027211,
          0.019142,
          0.016672,
          0.017355,
          0.013831,
          0.014054,
          0.029887,
          0.02026,
          0.020393,
          0.014681,
          0.022675,
          0.010409,
          0.027302,
          0.022444,
          0.021525,
          0.014784,
          0.021646,
          0.028803,
          0.014869,
          0.027892,
          0.016047
         ]
        }
       ],
       "layout": {
        "template": {
         "data": {
          "bar": [
           {
            "error_x": {
             "color": "#2a3f5f"
            },
            "error_y": {
             "color": "#2a3f5f"
            },
            "marker": {
             "line": {
              "color": "#E5ECF6",
              "width": 0.5
             },
             "pattern": {
              "fillmode": "overlay",
              "size": 10,
              "solidity": 0.2
             }
            },
            "type": "bar"
           }
          ],
          "barpolar": [
           {
            "marker": {
             "line": {
              "color": "#E5ECF6",
              "width": 0.5
             },
             "pattern": {
              "fillmode": "overlay",
              "size": 10,
              "solidity": 0.2
             }
            },
            "type": "barpolar"
           }
          ],
          "carpet": [
           {
            "aaxis": {
             "endlinecolor": "#2a3f5f",
             "gridcolor": "white",
             "linecolor": "white",
             "minorgridcolor": "white",
             "startlinecolor": "#2a3f5f"
            },
            "baxis": {
             "endlinecolor": "#2a3f5f",
             "gridcolor": "white",
             "linecolor": "white",
             "minorgridcolor": "white",
             "startlinecolor": "#2a3f5f"
            },
            "type": "carpet"
           }
          ],
          "choropleth": [
           {
            "colorbar": {
             "outlinewidth": 0,
             "ticks": ""
            },
            "type": "choropleth"
           }
          ],
          "contour": [
           {
            "colorbar": {
             "outlinewidth": 0,
             "ticks": ""
            },
            "colorscale": [
             [
              0,
              "#0d0887"
             ],
             [
              0.1111111111111111,
              "#46039f"
             ],
             [
              0.2222222222222222,
              "#7201a8"
             ],
             [
              0.3333333333333333,
              "#9c179e"
             ],
             [
              0.4444444444444444,
              "#bd3786"
             ],
             [
              0.5555555555555556,
              "#d8576b"
             ],
             [
              0.6666666666666666,
              "#ed7953"
             ],
             [
              0.7777777777777778,
              "#fb9f3a"
             ],
             [
              0.8888888888888888,
              "#fdca26"
             ],
             [
              1,
              "#f0f921"
             ]
            ],
            "type": "contour"
           }
          ],
          "contourcarpet": [
           {
            "colorbar": {
             "outlinewidth": 0,
             "ticks": ""
            },
            "type": "contourcarpet"
           }
          ],
          "heatmap": [
           {
            "colorbar": {
             "outlinewidth": 0,
             "ticks": ""
            },
            "colorscale": [
             [
              0,
              "#0d0887"
             ],
             [
              0.1111111111111111,
              "#46039f"
             ],
             [
              0.2222222222222222,
              "#7201a8"
             ],
             [
              0.3333333333333333,
              "#9c179e"
             ],
             [
              0.4444444444444444,
              "#bd3786"
             ],
             [
              0.5555555555555556,
              "#d8576b"
             ],
             [
              0.6666666666666666,
              "#ed7953"
             ],
             [
              0.7777777777777778,
              "#fb9f3a"
             ],
             [
              0.8888888888888888,
              "#fdca26"
             ],
             [
              1,
              "#f0f921"
             ]
            ],
            "type": "heatmap"
           }
          ],
          "heatmapgl": [
           {
            "colorbar": {
             "outlinewidth": 0,
             "ticks": ""
            },
            "colorscale": [
             [
              0,
              "#0d0887"
             ],
             [
              0.1111111111111111,
              "#46039f"
             ],
             [
              0.2222222222222222,
              "#7201a8"
             ],
             [
              0.3333333333333333,
              "#9c179e"
             ],
             [
              0.4444444444444444,
              "#bd3786"
             ],
             [
              0.5555555555555556,
              "#d8576b"
             ],
             [
              0.6666666666666666,
              "#ed7953"
             ],
             [
              0.7777777777777778,
              "#fb9f3a"
             ],
             [
              0.8888888888888888,
              "#fdca26"
             ],
             [
              1,
              "#f0f921"
             ]
            ],
            "type": "heatmapgl"
           }
          ],
          "histogram": [
           {
            "marker": {
             "pattern": {
              "fillmode": "overlay",
              "size": 10,
              "solidity": 0.2
             }
            },
            "type": "histogram"
           }
          ],
          "histogram2d": [
           {
            "colorbar": {
             "outlinewidth": 0,
             "ticks": ""
            },
            "colorscale": [
             [
              0,
              "#0d0887"
             ],
             [
              0.1111111111111111,
              "#46039f"
             ],
             [
              0.2222222222222222,
              "#7201a8"
             ],
             [
              0.3333333333333333,
              "#9c179e"
             ],
             [
              0.4444444444444444,
              "#bd3786"
             ],
             [
              0.5555555555555556,
              "#d8576b"
             ],
             [
              0.6666666666666666,
              "#ed7953"
             ],
             [
              0.7777777777777778,
              "#fb9f3a"
             ],
             [
              0.8888888888888888,
              "#fdca26"
             ],
             [
              1,
              "#f0f921"
             ]
            ],
            "type": "histogram2d"
           }
          ],
          "histogram2dcontour": [
           {
            "colorbar": {
             "outlinewidth": 0,
             "ticks": ""
            },
            "colorscale": [
             [
              0,
              "#0d0887"
             ],
             [
              0.1111111111111111,
              "#46039f"
             ],
             [
              0.2222222222222222,
              "#7201a8"
             ],
             [
              0.3333333333333333,
              "#9c179e"
             ],
             [
              0.4444444444444444,
              "#bd3786"
             ],
             [
              0.5555555555555556,
              "#d8576b"
             ],
             [
              0.6666666666666666,
              "#ed7953"
             ],
             [
              0.7777777777777778,
              "#fb9f3a"
             ],
             [
              0.8888888888888888,
              "#fdca26"
             ],
             [
              1,
              "#f0f921"
             ]
            ],
            "type": "histogram2dcontour"
           }
          ],
          "mesh3d": [
           {
            "colorbar": {
             "outlinewidth": 0,
             "ticks": ""
            },
            "type": "mesh3d"
           }
          ],
          "parcoords": [
           {
            "line": {
             "colorbar": {
              "outlinewidth": 0,
              "ticks": ""
             }
            },
            "type": "parcoords"
           }
          ],
          "pie": [
           {
            "automargin": true,
            "type": "pie"
           }
          ],
          "scatter": [
           {
            "fillpattern": {
             "fillmode": "overlay",
             "size": 10,
             "solidity": 0.2
            },
            "type": "scatter"
           }
          ],
          "scatter3d": [
           {
            "line": {
             "colorbar": {
              "outlinewidth": 0,
              "ticks": ""
             }
            },
            "marker": {
             "colorbar": {
              "outlinewidth": 0,
              "ticks": ""
             }
            },
            "type": "scatter3d"
           }
          ],
          "scattercarpet": [
           {
            "marker": {
             "colorbar": {
              "outlinewidth": 0,
              "ticks": ""
             }
            },
            "type": "scattercarpet"
           }
          ],
          "scattergeo": [
           {
            "marker": {
             "colorbar": {
              "outlinewidth": 0,
              "ticks": ""
             }
            },
            "type": "scattergeo"
           }
          ],
          "scattergl": [
           {
            "marker": {
             "colorbar": {
              "outlinewidth": 0,
              "ticks": ""
             }
            },
            "type": "scattergl"
           }
          ],
          "scattermapbox": [
           {
            "marker": {
             "colorbar": {
              "outlinewidth": 0,
              "ticks": ""
             }
            },
            "type": "scattermapbox"
           }
          ],
          "scatterpolar": [
           {
            "marker": {
             "colorbar": {
              "outlinewidth": 0,
              "ticks": ""
             }
            },
            "type": "scatterpolar"
           }
          ],
          "scatterpolargl": [
           {
            "marker": {
             "colorbar": {
              "outlinewidth": 0,
              "ticks": ""
             }
            },
            "type": "scatterpolargl"
           }
          ],
          "scatterternary": [
           {
            "marker": {
             "colorbar": {
              "outlinewidth": 0,
              "ticks": ""
             }
            },
            "type": "scatterternary"
           }
          ],
          "surface": [
           {
            "colorbar": {
             "outlinewidth": 0,
             "ticks": ""
            },
            "colorscale": [
             [
              0,
              "#0d0887"
             ],
             [
              0.1111111111111111,
              "#46039f"
             ],
             [
              0.2222222222222222,
              "#7201a8"
             ],
             [
              0.3333333333333333,
              "#9c179e"
             ],
             [
              0.4444444444444444,
              "#bd3786"
             ],
             [
              0.5555555555555556,
              "#d8576b"
             ],
             [
              0.6666666666666666,
              "#ed7953"
             ],
             [
              0.7777777777777778,
              "#fb9f3a"
             ],
             [
              0.8888888888888888,
              "#fdca26"
             ],
             [
              1,
              "#f0f921"
             ]
            ],
            "type": "surface"
           }
          ],
          "table": [
           {
            "cells": {
             "fill": {
              "color": "#EBF0F8"
             },
             "line": {
              "color": "white"
             }
            },
            "header": {
             "fill": {
              "color": "#C8D4E3"
             },
             "line": {
              "color": "white"
             }
            },
            "type": "table"
           }
          ]
         },
         "layout": {
          "annotationdefaults": {
           "arrowcolor": "#2a3f5f",
           "arrowhead": 0,
           "arrowwidth": 1
          },
          "autotypenumbers": "strict",
          "coloraxis": {
           "colorbar": {
            "outlinewidth": 0,
            "ticks": ""
           }
          },
          "colorscale": {
           "diverging": [
            [
             0,
             "#8e0152"
            ],
            [
             0.1,
             "#c51b7d"
            ],
            [
             0.2,
             "#de77ae"
            ],
            [
             0.3,
             "#f1b6da"
            ],
            [
             0.4,
             "#fde0ef"
            ],
            [
             0.5,
             "#f7f7f7"
            ],
            [
             0.6,
             "#e6f5d0"
            ],
            [
             0.7,
             "#b8e186"
            ],
            [
             0.8,
             "#7fbc41"
            ],
            [
             0.9,
             "#4d9221"
            ],
            [
             1,
             "#276419"
            ]
           ],
           "sequential": [
            [
             0,
             "#0d0887"
            ],
            [
             0.1111111111111111,
             "#46039f"
            ],
            [
             0.2222222222222222,
             "#7201a8"
            ],
            [
             0.3333333333333333,
             "#9c179e"
            ],
            [
             0.4444444444444444,
             "#bd3786"
            ],
            [
             0.5555555555555556,
             "#d8576b"
            ],
            [
             0.6666666666666666,
             "#ed7953"
            ],
            [
             0.7777777777777778,
             "#fb9f3a"
            ],
            [
             0.8888888888888888,
             "#fdca26"
            ],
            [
             1,
             "#f0f921"
            ]
           ],
           "sequentialminus": [
            [
             0,
             "#0d0887"
            ],
            [
             0.1111111111111111,
             "#46039f"
            ],
            [
             0.2222222222222222,
             "#7201a8"
            ],
            [
             0.3333333333333333,
             "#9c179e"
            ],
            [
             0.4444444444444444,
             "#bd3786"
            ],
            [
             0.5555555555555556,
             "#d8576b"
            ],
            [
             0.6666666666666666,
             "#ed7953"
            ],
            [
             0.7777777777777778,
             "#fb9f3a"
            ],
            [
             0.8888888888888888,
             "#fdca26"
            ],
            [
             1,
             "#f0f921"
            ]
           ]
          },
          "colorway": [
           "#636efa",
           "#EF553B",
           "#00cc96",
           "#ab63fa",
           "#FFA15A",
           "#19d3f3",
           "#FF6692",
           "#B6E880",
           "#FF97FF",
           "#FECB52"
          ],
          "font": {
           "color": "#2a3f5f"
          },
          "geo": {
           "bgcolor": "white",
           "lakecolor": "white",
           "landcolor": "#E5ECF6",
           "showlakes": true,
           "showland": true,
           "subunitcolor": "white"
          },
          "hoverlabel": {
           "align": "left"
          },
          "hovermode": "closest",
          "mapbox": {
           "style": "light"
          },
          "paper_bgcolor": "white",
          "plot_bgcolor": "#E5ECF6",
          "polar": {
           "angularaxis": {
            "gridcolor": "white",
            "linecolor": "white",
            "ticks": ""
           },
           "bgcolor": "#E5ECF6",
           "radialaxis": {
            "gridcolor": "white",
            "linecolor": "white",
            "ticks": ""
           }
          },
          "scene": {
           "xaxis": {
            "backgroundcolor": "#E5ECF6",
            "gridcolor": "white",
            "gridwidth": 2,
            "linecolor": "white",
            "showbackground": true,
            "ticks": "",
            "zerolinecolor": "white"
           },
           "yaxis": {
            "backgroundcolor": "#E5ECF6",
            "gridcolor": "white",
            "gridwidth": 2,
            "linecolor": "white",
            "showbackground": true,
            "ticks": "",
            "zerolinecolor": "white"
           },
           "zaxis": {
            "backgroundcolor": "#E5ECF6",
            "gridcolor": "white",
            "gridwidth": 2,
            "linecolor": "white",
            "showbackground": true,
            "ticks": "",
            "zerolinecolor": "white"
           }
          },
          "shapedefaults": {
           "line": {
            "color": "#2a3f5f"
           }
          },
          "ternary": {
           "aaxis": {
            "gridcolor": "white",
            "linecolor": "white",
            "ticks": ""
           },
           "baxis": {
            "gridcolor": "white",
            "linecolor": "white",
            "ticks": ""
           },
           "bgcolor": "#E5ECF6",
           "caxis": {
            "gridcolor": "white",
            "linecolor": "white",
            "ticks": ""
           }
          },
          "title": {
           "x": 0.05
          },
          "xaxis": {
           "automargin": true,
           "gridcolor": "white",
           "linecolor": "white",
           "ticks": "",
           "title": {
            "standoff": 15
           },
           "zerolinecolor": "white",
           "zerolinewidth": 2
          },
          "yaxis": {
           "automargin": true,
           "gridcolor": "white",
           "linecolor": "white",
           "ticks": "",
           "title": {
            "standoff": 15
           },
           "zerolinecolor": "white",
           "zerolinewidth": 2
          }
         }
        }
       }
      }
     },
     "metadata": {},
     "output_type": "display_data"
    }
   ],
   "source": [
    "res_load_ts = load_ts(nodes_df, opfs)\n",
    "res_sum_load_ts = res_load_ts[['time', 'p_mw', 'q_mvar']].groupby(by=['time']).sum().reset_index().sort_values(by=['time'])\n",
    "\n",
    "res_gen_ts = gen_ts(nodes_df, opfs)\n",
    "\n",
    "fig_sum_load = go.Figure()\n",
    "\n",
    "res_ext_grid_ts = ext_grid_ts(nodes_df, opfs)\n",
    "\n",
    "fig_sum_load.add_trace(go.Scatter(x=res_sum_load_ts['time'], y=res_sum_load_ts['p_mw'],\n",
    "                mode='markers+lines',\n",
    "                name='consumer load'))\n",
    "\n",
    "\n",
    "fig_sum_load.add_trace(go.Scatter(x=res_ext_grid_ts['time'], y=res_ext_grid_ts['p_mw'],\n",
    "                mode='markers+lines',\n",
    "                name='grid load'))\n",
    "\n",
    "fig_sum_load.add_trace(go.Scatter(x=res_gen_ts['time'], y=res_gen_ts['p_mw'],\n",
    "                mode='markers+lines',\n",
    "                name='production'))\n",
    "\n",
    "#fig_sum_load.add_trag\n",
    "fig_sum_load.show()"
   ]
  },
  {
   "cell_type": "code",
   "execution_count": null,
   "metadata": {},
   "outputs": [],
   "source": []
  }
 ],
 "metadata": {
  "kernelspec": {
   "display_name": "coordinator-QDhkpr0G-py3.11",
   "language": "python",
   "name": "python3"
  },
  "language_info": {
   "codemirror_mode": {
    "name": "ipython",
    "version": 3
   },
   "file_extension": ".py",
   "mimetype": "text/x-python",
   "name": "python",
   "nbconvert_exporter": "python",
   "pygments_lexer": "ipython3",
   "version": "3.11.4"
  },
  "orig_nbformat": 4
 },
 "nbformat": 4,
 "nbformat_minor": 2
}
