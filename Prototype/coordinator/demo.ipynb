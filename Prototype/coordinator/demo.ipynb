{
 "cells": [
  {
   "cell_type": "code",
   "execution_count": 196,
   "metadata": {},
   "outputs": [],
   "source": [
    "import requests\n",
    "import json\n",
    "import pandas as pd\n",
    "import plotly.graph_objects as go\n",
    "import plotly.express as px\n",
    "import datetime"
   ]
  },
  {
   "cell_type": "code",
   "execution_count": 2,
   "metadata": {},
   "outputs": [],
   "source": [
    "config_file = \"config.json\"\n",
    "with open(config_file, \"r\") as input_file:\n",
    "    config = json.load(input_file)"
   ]
  },
  {
   "cell_type": "code",
   "execution_count": 11,
   "metadata": {},
   "outputs": [],
   "source": [
    "# query 24 hours\n",
    "start_timestamp = 1692619200 # unix epoch in utc\n",
    "interval = 900 # timestep in seconds (= 15 minutes)\n",
    "number_intervals = 96\n",
    "query_times = [start_timestamp + i*interval for i in range(0, 96)]"
   ]
  },
  {
   "cell_type": "code",
   "execution_count": 13,
   "metadata": {},
   "outputs": [],
   "source": [
    "# read consumer data\n",
    "def query_consumers():\n",
    "    request_consumers = f\"{config['consumer_api']}/consumer/all\"\n",
    "    result = requests.get(request_consumers)\n",
    "    consumers = json.loads(result.text)\n",
    "    return consumers\n",
    "\n",
    "# read network data\n",
    "def query_network():\n",
    "    initialize_network = f\"{config['network_api']}/initialize\"\n",
    "    request_initialize = requests.get(initialize_network)\n",
    "\n",
    "    request_network = f\"{config['network_api']}/network\"\n",
    "    result = requests.get(request_network)\n",
    "    network = json.loads(result.text)\n",
    "    return network\n",
    "\n",
    "def query_range(queries):\n",
    "    opfs = {}\n",
    "    for ts in queries:\n",
    "        request_opf = f\"{config['network_api']}/opf/{ts}\"\n",
    "        result = requests.get(request_opf)\n",
    "        opfs[ts] = json.loads(result.text)\n",
    "    return opfs"
   ]
  },
  {
   "cell_type": "code",
   "execution_count": 178,
   "metadata": {},
   "outputs": [],
   "source": [
    "def get_consumer_lat_lon(identifier, consumers):\n",
    "    return [{ 'latitude': x['latitude'], 'longitude': x['longitude']}  for x in consumers if x['identifier'] == identifier][0]\n",
    "\n",
    "def get_network_entity_lat_lon(identifier, entities):\n",
    "    return [{ 'latitude': x['latitude'], 'longitude': x['longitude']} for x in entities if x['identifier'] == identifier][0]\n",
    "\n",
    "def get_nodes(consumers, network) -> pd.DataFrame:\n",
    "    data = {}\n",
    "    data['name'] = [x['name'] for x in consumers]\n",
    "    data['identifier'] = [x['identifier'] for x in consumers]\n",
    "    data['latitude'] = [x['latitude'] for x in consumers]\n",
    "    data['longitude'] = [x['longitude'] for x in consumers]\n",
    "    data['category'] = [x['category'] for x in consumers]\n",
    "\n",
    "\n",
    "    data['name'] += ([x['name'] for x in network['entities']])\n",
    "    data['identifier'] += ([x['identifier'] for x in network['entities']])\n",
    "    data['latitude'] += ([x['latitude'] for x in network['entities']])\n",
    "    data['longitude'] += ([x['longitude'] for x in network['entities']])\n",
    "    data['category'] += [x['category'] for x in network['entities']]\n",
    "\n",
    "    return pd.DataFrame(data=data)\n",
    "\n",
    "def get_line_connections(consumers, network) -> pd.DataFrame:\n",
    "    latitudes = []\n",
    "    longitudes = []\n",
    "    identifiers = []\n",
    "\n",
    "    consumer_ids = [c['identifier'] for c in consumers]\n",
    "    network_entity_ids = [n['identifier'] for n in network['entities']]\n",
    "    print(consumer_ids)\n",
    "    print(network_entity_ids)\n",
    "    for line in network['lines']:\n",
    "        fb = line['from_bus']\n",
    "        tb = line['to_bus']        \n",
    "        if fb in consumer_ids:\n",
    "            lt = get_consumer_lat_lon(fb, consumers)\n",
    "            longitudes.append(lt['longitude'])\n",
    "            latitudes.append(lt['latitude'])\n",
    "            identifiers.append(fb)\n",
    "        elif fb in network_entity_ids:\n",
    "            lt = get_network_entity_lat_lon(fb, network['entities'])\n",
    "            longitudes.append(lt['longitude'])\n",
    "            latitudes.append(lt['latitude'])\n",
    "            identifiers.append(fb)\n",
    "        else:\n",
    "            print(f\"identifier {fb} not found\")\n",
    "        if tb in consumer_ids:\n",
    "            lt = get_consumer_lat_lon(tb, consumers)\n",
    "            longitudes.append(lt['longitude'])\n",
    "            latitudes.append(lt['latitude'])\n",
    "            identifiers.append(tb)            \n",
    "        elif tb in network_entity_ids:\n",
    "            lt = get_network_entity_lat_lon(tb, network['entities'])\n",
    "            longitudes.append(lt['longitude'])\n",
    "            latitudes.append(lt['latitude'])\n",
    "            identifiers.append(tb)            \n",
    "        else:\n",
    "            print(f\"identifier {tb} not found\")\n",
    "        print(line)\n",
    "    data = { 'identifier': identifiers, 'longitude': longitudes, 'latitude': latitudes }\n",
    "    return pd.DataFrame(data=data)\n",
    "\n",
    "def create_node_identifier_mapping(nodes_dataframe):\n",
    "    t = nodes_dataframe.reset_index()\n",
    "    return dict(zip(t.index, t.identifier))\n",
    "    \n",
    "# # create load dataset\n",
    "# def create_load_dataframe(consumers, network, opf):\n",
    "#     load = opf['load']\n",
    "#     data = {}\n",
    "#     identifiers = [v for k, v in load['name'].items()]\n",
    "#     #print(identifiers)\n",
    "#     reverse_map ={ v: k for k, v in load['name'].items() }\n",
    "#     loads = [load['p_mw'][reverse_map[k]] for k in identifiers]\n",
    "#     #print(loads)\n",
    "#     data['identifier'] = identifiers\n",
    "#     data['load'] = loads\n",
    "#     return pd.DataFrame(data=data)\n"
   ]
  },
  {
   "cell_type": "code",
   "execution_count": 14,
   "metadata": {},
   "outputs": [],
   "source": [
    "consumers = query_consumers()\n",
    "network = query_network()\n",
    "opfs = query_range(query_times)"
   ]
  },
  {
   "cell_type": "code",
   "execution_count": 19,
   "metadata": {},
   "outputs": [
    {
     "name": "stdout",
     "output_type": "stream",
     "text": [
      "['e6c8200f-d84b-499b-ad13-4313eec39ca2', '60d36bfa-92a2-4521-95fa-ed0e95f2413f', 'ec28306c-772c-4d65-9916-55c03ce61566']\n",
      "['d3ae8923-d4cd-46fb-ae6c-e4a20c7e5dab']\n",
      "{'from_bus': 'ec28306c-772c-4d65-9916-55c03ce61566', 'to_bus': '60d36bfa-92a2-4521-95fa-ed0e95f2413f', 'std_type': 'NAYY 4x50 SE', 'length_km': 0.1}\n",
      "{'from_bus': '60d36bfa-92a2-4521-95fa-ed0e95f2413f', 'to_bus': 'e6c8200f-d84b-499b-ad13-4313eec39ca2', 'std_type': 'NAYY 4x50 SE', 'length_km': 0.1}\n",
      "{'from_bus': 'e6c8200f-d84b-499b-ad13-4313eec39ca2', 'to_bus': 'd3ae8923-d4cd-46fb-ae6c-e4a20c7e5dab', 'std_type': 'NAYY 4x50 SE', 'length_km': 0.1}\n"
     ]
    }
   ],
   "source": [
    "nodes_df = get_nodes(consumers, network)\n",
    "lines_df = get_line_connections(consumers, network)\n"
   ]
  },
  {
   "cell_type": "code",
   "execution_count": 20,
   "metadata": {},
   "outputs": [
    {
     "data": {
      "text/html": [
       "<div>\n",
       "<style scoped>\n",
       "    .dataframe tbody tr th:only-of-type {\n",
       "        vertical-align: middle;\n",
       "    }\n",
       "\n",
       "    .dataframe tbody tr th {\n",
       "        vertical-align: top;\n",
       "    }\n",
       "\n",
       "    .dataframe thead th {\n",
       "        text-align: right;\n",
       "    }\n",
       "</style>\n",
       "<table border=\"1\" class=\"dataframe\">\n",
       "  <thead>\n",
       "    <tr style=\"text-align: right;\">\n",
       "      <th></th>\n",
       "      <th>name</th>\n",
       "      <th>identifier</th>\n",
       "      <th>latitude</th>\n",
       "      <th>longitude</th>\n",
       "      <th>category</th>\n",
       "    </tr>\n",
       "  </thead>\n",
       "  <tbody>\n",
       "    <tr>\n",
       "      <th>0</th>\n",
       "      <td>location 1</td>\n",
       "      <td>e6c8200f-d84b-499b-ad13-4313eec39ca2</td>\n",
       "      <td>48.3744</td>\n",
       "      <td>14.5123</td>\n",
       "      <td>household</td>\n",
       "    </tr>\n",
       "    <tr>\n",
       "      <th>1</th>\n",
       "      <td>location 2</td>\n",
       "      <td>60d36bfa-92a2-4521-95fa-ed0e95f2413f</td>\n",
       "      <td>48.3744</td>\n",
       "      <td>14.5115</td>\n",
       "      <td>household</td>\n",
       "    </tr>\n",
       "    <tr>\n",
       "      <th>2</th>\n",
       "      <td>location 3</td>\n",
       "      <td>ec28306c-772c-4d65-9916-55c03ce61566</td>\n",
       "      <td>48.3740</td>\n",
       "      <td>14.5111</td>\n",
       "      <td>household</td>\n",
       "    </tr>\n",
       "    <tr>\n",
       "      <th>3</th>\n",
       "      <td>grid connection</td>\n",
       "      <td>d3ae8923-d4cd-46fb-ae6c-e4a20c7e5dab</td>\n",
       "      <td>48.3744</td>\n",
       "      <td>14.5131</td>\n",
       "      <td>network</td>\n",
       "    </tr>\n",
       "  </tbody>\n",
       "</table>\n",
       "</div>"
      ],
      "text/plain": [
       "              name                            identifier  latitude  longitude  \\\n",
       "0       location 1  e6c8200f-d84b-499b-ad13-4313eec39ca2   48.3744    14.5123   \n",
       "1       location 2  60d36bfa-92a2-4521-95fa-ed0e95f2413f   48.3744    14.5115   \n",
       "2       location 3  ec28306c-772c-4d65-9916-55c03ce61566   48.3740    14.5111   \n",
       "3  grid connection  d3ae8923-d4cd-46fb-ae6c-e4a20c7e5dab   48.3744    14.5131   \n",
       "\n",
       "    category  \n",
       "0  household  \n",
       "1  household  \n",
       "2  household  \n",
       "3    network  "
      ]
     },
     "execution_count": 20,
     "metadata": {},
     "output_type": "execute_result"
    }
   ],
   "source": [
    "nodes_df"
   ]
  },
  {
   "cell_type": "code",
   "execution_count": 22,
   "metadata": {},
   "outputs": [
    {
     "data": {
      "text/html": [
       "<div>\n",
       "<style scoped>\n",
       "    .dataframe tbody tr th:only-of-type {\n",
       "        vertical-align: middle;\n",
       "    }\n",
       "\n",
       "    .dataframe tbody tr th {\n",
       "        vertical-align: top;\n",
       "    }\n",
       "\n",
       "    .dataframe thead th {\n",
       "        text-align: right;\n",
       "    }\n",
       "</style>\n",
       "<table border=\"1\" class=\"dataframe\">\n",
       "  <thead>\n",
       "    <tr style=\"text-align: right;\">\n",
       "      <th></th>\n",
       "      <th>identifier</th>\n",
       "      <th>longitude</th>\n",
       "      <th>latitude</th>\n",
       "    </tr>\n",
       "  </thead>\n",
       "  <tbody>\n",
       "    <tr>\n",
       "      <th>0</th>\n",
       "      <td>ec28306c-772c-4d65-9916-55c03ce61566</td>\n",
       "      <td>14.5111</td>\n",
       "      <td>48.3740</td>\n",
       "    </tr>\n",
       "    <tr>\n",
       "      <th>1</th>\n",
       "      <td>60d36bfa-92a2-4521-95fa-ed0e95f2413f</td>\n",
       "      <td>14.5115</td>\n",
       "      <td>48.3744</td>\n",
       "    </tr>\n",
       "    <tr>\n",
       "      <th>2</th>\n",
       "      <td>60d36bfa-92a2-4521-95fa-ed0e95f2413f</td>\n",
       "      <td>14.5115</td>\n",
       "      <td>48.3744</td>\n",
       "    </tr>\n",
       "    <tr>\n",
       "      <th>3</th>\n",
       "      <td>e6c8200f-d84b-499b-ad13-4313eec39ca2</td>\n",
       "      <td>14.5123</td>\n",
       "      <td>48.3744</td>\n",
       "    </tr>\n",
       "    <tr>\n",
       "      <th>4</th>\n",
       "      <td>e6c8200f-d84b-499b-ad13-4313eec39ca2</td>\n",
       "      <td>14.5123</td>\n",
       "      <td>48.3744</td>\n",
       "    </tr>\n",
       "    <tr>\n",
       "      <th>5</th>\n",
       "      <td>d3ae8923-d4cd-46fb-ae6c-e4a20c7e5dab</td>\n",
       "      <td>14.5131</td>\n",
       "      <td>48.3744</td>\n",
       "    </tr>\n",
       "  </tbody>\n",
       "</table>\n",
       "</div>"
      ],
      "text/plain": [
       "                             identifier  longitude  latitude\n",
       "0  ec28306c-772c-4d65-9916-55c03ce61566    14.5111   48.3740\n",
       "1  60d36bfa-92a2-4521-95fa-ed0e95f2413f    14.5115   48.3744\n",
       "2  60d36bfa-92a2-4521-95fa-ed0e95f2413f    14.5115   48.3744\n",
       "3  e6c8200f-d84b-499b-ad13-4313eec39ca2    14.5123   48.3744\n",
       "4  e6c8200f-d84b-499b-ad13-4313eec39ca2    14.5123   48.3744\n",
       "5  d3ae8923-d4cd-46fb-ae6c-e4a20c7e5dab    14.5131   48.3744"
      ]
     },
     "execution_count": 22,
     "metadata": {},
     "output_type": "execute_result"
    }
   ],
   "source": [
    "lines_df"
   ]
  },
  {
   "cell_type": "code",
   "execution_count": 203,
   "metadata": {},
   "outputs": [],
   "source": [
    "# read consumer data\n",
    "request_consumers = f\"{config['consumer_api']}/consumer/all\"\n",
    "result = requests.get(request_consumers)\n",
    "consumers = json.loads(result.text)\n",
    "# read network data\n",
    "initialize_network = f\"{config['network_api']}/initialize\"\n",
    "request_initialize = requests.get(initialize_network)\n",
    "\n",
    "request_network = f\"{config['network_api']}/network\"\n",
    "result = requests.get(request_network)\n",
    "network = json.loads(result.text)\n",
    "\n",
    "unix_time_seconds = 1692619200\n",
    "request_opf = f\"{config['network_api']}/opf/{unix_time_seconds}\"\n",
    "result = requests.get(request_opf)\n",
    "opf = json.loads(result.text)\n",
    "\n",
    "# create pandas data frame\n",
    "data = {}\n",
    "data['name'] = [x['name'] for x in consumers]\n",
    "data['identifier'] = [x['identifier'] for x in consumers]\n",
    "data['latitude'] = [x['latitude'] for x in consumers]\n",
    "data['longitude'] = [x['longitude'] for x in consumers]\n",
    "data['category'] = [x['category'] for x in consumers]\n",
    "\n",
    "\n",
    "data['name'] += ([x['name'] for x in network['entities']])\n",
    "data['identifier'] += ([x['identifier'] for x in network['entities']])\n",
    "data['latitude'] += ([x['latitude'] for x in network['entities']])\n",
    "data['longitude'] += ([x['longitude'] for x in network['entities']])\n",
    "data['category'] += [x['category'] for x in network['entities']]\n",
    "\n",
    "node_df = pd.DataFrame(data=data)\n",
    "bus_df = pd.DataFrame(data=opf['bus'])\n",
    "load_df = pd.DataFrame(data=opf['load'])\n",
    "line_df = pd.DataFrame(data=opf['line'])\n",
    "res_bus = pd.DataFrame(data=opf['res_bus'])\n",
    "res_line = pd.DataFrame(data=opf['res_line'])\n",
    "res_load = pd.DataFrame(data=opf['res_load'])\n",
    "res_ext_grid = pd.DataFrame(data=opf['res_ext_grid'])"
   ]
  },
  {
   "cell_type": "code",
   "execution_count": 169,
   "metadata": {},
   "outputs": [],
   "source": [
    "# create load dataset\n",
    "def create_load_dataframe(consumers, network, opf):\n",
    "    load = opf['load']\n",
    "    data = {}\n",
    "    identifiers = [v for k, v in load['name'].items()]\n",
    "    #print(identifiers)\n",
    "    reverse_map ={ v: k for k, v in load['name'].items() }\n",
    "    loads = [load['p_mw'][reverse_map[k]] for k in identifiers]\n",
    "    #print(loads)\n",
    "    data['identifier'] = identifiers\n",
    "    data['load'] = loads\n",
    "    return pd.DataFrame(data=data)\n",
    "\n",
    "# create consumer load timeseries\n",
    "def load_ts(nodes_df, opfs):\n",
    "    node_identifier_map = create_node_identifier_mapping(nodes_df)\n",
    "    opf_keys = [k for k in sorted(opfs.keys())]\n",
    "    dataframes = []\n",
    "    for ok in opf_keys:\n",
    "        o = opfs[ok]\n",
    "        df1 = pd.DataFrame(o['res_load'])\n",
    "        df1 = df1.reset_index()\n",
    "        df1['node_id'] = df1['index'].astype('int64')\n",
    "        #df2 = nodes_df.reset_index()\n",
    "        #df2['idx'] =df2['index'].astype('int64')\n",
    "        #dataframe = df1.join(df2, on='idx')\n",
    "        dataframe = df1\n",
    "        dataframe['time'] = datetime.datetime.fromtimestamp(ok)\n",
    "        dataframes.append(dataframe)\n",
    "    res_load_ts = pd.concat(dataframes).reset_index()[['node_id', 'p_mw', 'q_mvar', 'time']]\n",
    "    res_load_ts['identifier'] = res_load_ts['node_id'].map(node_identifier_map)\n",
    "    res_load_ts = res_load_ts[['p_mw', 'q_mvar', 'time', 'identifier']]\n",
    "    return res_load_ts\n",
    "   \n",
    "def bus_ts(nodes_df, opfs):\n",
    "    node_identifier_map = create_node_identifier_mapping(nodes_df)\n",
    "    opf_keys = [k for k in sorted(opfs.keys())]\n",
    "    dataframes = []\n",
    "    for ok in opf_keys:\n",
    "        o = opfs[ok]\n",
    "        df1 = pd.DataFrame(o['res_bus'])\n",
    "        df1 = df1.reset_index()\n",
    "        df1['node_id'] = df1['index'].astype('int64')\n",
    "        #df2 = nodes_df.reset_index()\n",
    "        #df2['idx'] =df2['index'].astype('int64')\n",
    "        #dataframe = df1.join(df2, on='idx')\n",
    "        dataframe = df1\n",
    "        dataframe['time'] = datetime.datetime.fromtimestamp(ok)\n",
    "        dataframes.append(dataframe)\n",
    "    res_bus_ts = pd.concat(dataframes).reset_index()[['node_id', 'p_mw', 'q_mvar', 'time']]\n",
    "    res_bus_ts['identifier'] = res_bus_ts['node_id'].map(node_identifier_map)\n",
    "    res_bus_ts = res_bus_ts[['p_mw', 'q_mvar', 'time', 'identifier']]\n",
    "    res_bus_ts['abs_p_mw'] = abs(res_bus_ts['p_mw'])\n",
    "    return res_bus_ts\n"
   ]
  },
  {
   "cell_type": "code",
   "execution_count": 263,
   "metadata": {},
   "outputs": [
    {
     "data": {
      "application/vnd.plotly.v1+json": {
       "config": {
        "plotlyServerURL": "https://plot.ly"
       },
       "data": [
        {
         "hovertemplate": "category=household<br>latitude=%{lat}<br>longitude=%{lon}<extra></extra>",
         "lat": [
          48.3744,
          48.3744,
          48.374
         ],
         "legendgroup": "household",
         "lon": [
          14.5123,
          14.5115,
          14.5111
         ],
         "marker": {
          "color": "#636efa"
         },
         "mode": "markers",
         "name": "household",
         "showlegend": true,
         "subplot": "mapbox",
         "type": "scattermapbox"
        },
        {
         "hovertemplate": "category=network<br>latitude=%{lat}<br>longitude=%{lon}<extra></extra>",
         "lat": [
          48.3744
         ],
         "legendgroup": "network",
         "lon": [
          14.5131
         ],
         "marker": {
          "color": "#EF553B"
         },
         "mode": "markers",
         "name": "network",
         "showlegend": true,
         "subplot": "mapbox",
         "type": "scattermapbox"
        }
       ],
       "layout": {
        "height": 500,
        "legend": {
         "title": {
          "text": "category"
         },
         "tracegroupgap": 0
        },
        "mapbox": {
         "center": {
          "lat": 48.374300000000005,
          "lon": 14.512
         },
         "domain": {
          "x": [
           0,
           1
          ],
          "y": [
           0,
           1
          ]
         },
         "style": "open-street-map",
         "zoom": 15
        },
        "margin": {
         "b": 0,
         "l": 0,
         "r": 0,
         "t": 0
        },
        "template": {
         "data": {
          "bar": [
           {
            "error_x": {
             "color": "#2a3f5f"
            },
            "error_y": {
             "color": "#2a3f5f"
            },
            "marker": {
             "line": {
              "color": "#E5ECF6",
              "width": 0.5
             },
             "pattern": {
              "fillmode": "overlay",
              "size": 10,
              "solidity": 0.2
             }
            },
            "type": "bar"
           }
          ],
          "barpolar": [
           {
            "marker": {
             "line": {
              "color": "#E5ECF6",
              "width": 0.5
             },
             "pattern": {
              "fillmode": "overlay",
              "size": 10,
              "solidity": 0.2
             }
            },
            "type": "barpolar"
           }
          ],
          "carpet": [
           {
            "aaxis": {
             "endlinecolor": "#2a3f5f",
             "gridcolor": "white",
             "linecolor": "white",
             "minorgridcolor": "white",
             "startlinecolor": "#2a3f5f"
            },
            "baxis": {
             "endlinecolor": "#2a3f5f",
             "gridcolor": "white",
             "linecolor": "white",
             "minorgridcolor": "white",
             "startlinecolor": "#2a3f5f"
            },
            "type": "carpet"
           }
          ],
          "choropleth": [
           {
            "colorbar": {
             "outlinewidth": 0,
             "ticks": ""
            },
            "type": "choropleth"
           }
          ],
          "contour": [
           {
            "colorbar": {
             "outlinewidth": 0,
             "ticks": ""
            },
            "colorscale": [
             [
              0,
              "#0d0887"
             ],
             [
              0.1111111111111111,
              "#46039f"
             ],
             [
              0.2222222222222222,
              "#7201a8"
             ],
             [
              0.3333333333333333,
              "#9c179e"
             ],
             [
              0.4444444444444444,
              "#bd3786"
             ],
             [
              0.5555555555555556,
              "#d8576b"
             ],
             [
              0.6666666666666666,
              "#ed7953"
             ],
             [
              0.7777777777777778,
              "#fb9f3a"
             ],
             [
              0.8888888888888888,
              "#fdca26"
             ],
             [
              1,
              "#f0f921"
             ]
            ],
            "type": "contour"
           }
          ],
          "contourcarpet": [
           {
            "colorbar": {
             "outlinewidth": 0,
             "ticks": ""
            },
            "type": "contourcarpet"
           }
          ],
          "heatmap": [
           {
            "colorbar": {
             "outlinewidth": 0,
             "ticks": ""
            },
            "colorscale": [
             [
              0,
              "#0d0887"
             ],
             [
              0.1111111111111111,
              "#46039f"
             ],
             [
              0.2222222222222222,
              "#7201a8"
             ],
             [
              0.3333333333333333,
              "#9c179e"
             ],
             [
              0.4444444444444444,
              "#bd3786"
             ],
             [
              0.5555555555555556,
              "#d8576b"
             ],
             [
              0.6666666666666666,
              "#ed7953"
             ],
             [
              0.7777777777777778,
              "#fb9f3a"
             ],
             [
              0.8888888888888888,
              "#fdca26"
             ],
             [
              1,
              "#f0f921"
             ]
            ],
            "type": "heatmap"
           }
          ],
          "heatmapgl": [
           {
            "colorbar": {
             "outlinewidth": 0,
             "ticks": ""
            },
            "colorscale": [
             [
              0,
              "#0d0887"
             ],
             [
              0.1111111111111111,
              "#46039f"
             ],
             [
              0.2222222222222222,
              "#7201a8"
             ],
             [
              0.3333333333333333,
              "#9c179e"
             ],
             [
              0.4444444444444444,
              "#bd3786"
             ],
             [
              0.5555555555555556,
              "#d8576b"
             ],
             [
              0.6666666666666666,
              "#ed7953"
             ],
             [
              0.7777777777777778,
              "#fb9f3a"
             ],
             [
              0.8888888888888888,
              "#fdca26"
             ],
             [
              1,
              "#f0f921"
             ]
            ],
            "type": "heatmapgl"
           }
          ],
          "histogram": [
           {
            "marker": {
             "pattern": {
              "fillmode": "overlay",
              "size": 10,
              "solidity": 0.2
             }
            },
            "type": "histogram"
           }
          ],
          "histogram2d": [
           {
            "colorbar": {
             "outlinewidth": 0,
             "ticks": ""
            },
            "colorscale": [
             [
              0,
              "#0d0887"
             ],
             [
              0.1111111111111111,
              "#46039f"
             ],
             [
              0.2222222222222222,
              "#7201a8"
             ],
             [
              0.3333333333333333,
              "#9c179e"
             ],
             [
              0.4444444444444444,
              "#bd3786"
             ],
             [
              0.5555555555555556,
              "#d8576b"
             ],
             [
              0.6666666666666666,
              "#ed7953"
             ],
             [
              0.7777777777777778,
              "#fb9f3a"
             ],
             [
              0.8888888888888888,
              "#fdca26"
             ],
             [
              1,
              "#f0f921"
             ]
            ],
            "type": "histogram2d"
           }
          ],
          "histogram2dcontour": [
           {
            "colorbar": {
             "outlinewidth": 0,
             "ticks": ""
            },
            "colorscale": [
             [
              0,
              "#0d0887"
             ],
             [
              0.1111111111111111,
              "#46039f"
             ],
             [
              0.2222222222222222,
              "#7201a8"
             ],
             [
              0.3333333333333333,
              "#9c179e"
             ],
             [
              0.4444444444444444,
              "#bd3786"
             ],
             [
              0.5555555555555556,
              "#d8576b"
             ],
             [
              0.6666666666666666,
              "#ed7953"
             ],
             [
              0.7777777777777778,
              "#fb9f3a"
             ],
             [
              0.8888888888888888,
              "#fdca26"
             ],
             [
              1,
              "#f0f921"
             ]
            ],
            "type": "histogram2dcontour"
           }
          ],
          "mesh3d": [
           {
            "colorbar": {
             "outlinewidth": 0,
             "ticks": ""
            },
            "type": "mesh3d"
           }
          ],
          "parcoords": [
           {
            "line": {
             "colorbar": {
              "outlinewidth": 0,
              "ticks": ""
             }
            },
            "type": "parcoords"
           }
          ],
          "pie": [
           {
            "automargin": true,
            "type": "pie"
           }
          ],
          "scatter": [
           {
            "fillpattern": {
             "fillmode": "overlay",
             "size": 10,
             "solidity": 0.2
            },
            "type": "scatter"
           }
          ],
          "scatter3d": [
           {
            "line": {
             "colorbar": {
              "outlinewidth": 0,
              "ticks": ""
             }
            },
            "marker": {
             "colorbar": {
              "outlinewidth": 0,
              "ticks": ""
             }
            },
            "type": "scatter3d"
           }
          ],
          "scattercarpet": [
           {
            "marker": {
             "colorbar": {
              "outlinewidth": 0,
              "ticks": ""
             }
            },
            "type": "scattercarpet"
           }
          ],
          "scattergeo": [
           {
            "marker": {
             "colorbar": {
              "outlinewidth": 0,
              "ticks": ""
             }
            },
            "type": "scattergeo"
           }
          ],
          "scattergl": [
           {
            "marker": {
             "colorbar": {
              "outlinewidth": 0,
              "ticks": ""
             }
            },
            "type": "scattergl"
           }
          ],
          "scattermapbox": [
           {
            "marker": {
             "colorbar": {
              "outlinewidth": 0,
              "ticks": ""
             }
            },
            "type": "scattermapbox"
           }
          ],
          "scatterpolar": [
           {
            "marker": {
             "colorbar": {
              "outlinewidth": 0,
              "ticks": ""
             }
            },
            "type": "scatterpolar"
           }
          ],
          "scatterpolargl": [
           {
            "marker": {
             "colorbar": {
              "outlinewidth": 0,
              "ticks": ""
             }
            },
            "type": "scatterpolargl"
           }
          ],
          "scatterternary": [
           {
            "marker": {
             "colorbar": {
              "outlinewidth": 0,
              "ticks": ""
             }
            },
            "type": "scatterternary"
           }
          ],
          "surface": [
           {
            "colorbar": {
             "outlinewidth": 0,
             "ticks": ""
            },
            "colorscale": [
             [
              0,
              "#0d0887"
             ],
             [
              0.1111111111111111,
              "#46039f"
             ],
             [
              0.2222222222222222,
              "#7201a8"
             ],
             [
              0.3333333333333333,
              "#9c179e"
             ],
             [
              0.4444444444444444,
              "#bd3786"
             ],
             [
              0.5555555555555556,
              "#d8576b"
             ],
             [
              0.6666666666666666,
              "#ed7953"
             ],
             [
              0.7777777777777778,
              "#fb9f3a"
             ],
             [
              0.8888888888888888,
              "#fdca26"
             ],
             [
              1,
              "#f0f921"
             ]
            ],
            "type": "surface"
           }
          ],
          "table": [
           {
            "cells": {
             "fill": {
              "color": "#EBF0F8"
             },
             "line": {
              "color": "white"
             }
            },
            "header": {
             "fill": {
              "color": "#C8D4E3"
             },
             "line": {
              "color": "white"
             }
            },
            "type": "table"
           }
          ]
         },
         "layout": {
          "annotationdefaults": {
           "arrowcolor": "#2a3f5f",
           "arrowhead": 0,
           "arrowwidth": 1
          },
          "autotypenumbers": "strict",
          "coloraxis": {
           "colorbar": {
            "outlinewidth": 0,
            "ticks": ""
           }
          },
          "colorscale": {
           "diverging": [
            [
             0,
             "#8e0152"
            ],
            [
             0.1,
             "#c51b7d"
            ],
            [
             0.2,
             "#de77ae"
            ],
            [
             0.3,
             "#f1b6da"
            ],
            [
             0.4,
             "#fde0ef"
            ],
            [
             0.5,
             "#f7f7f7"
            ],
            [
             0.6,
             "#e6f5d0"
            ],
            [
             0.7,
             "#b8e186"
            ],
            [
             0.8,
             "#7fbc41"
            ],
            [
             0.9,
             "#4d9221"
            ],
            [
             1,
             "#276419"
            ]
           ],
           "sequential": [
            [
             0,
             "#0d0887"
            ],
            [
             0.1111111111111111,
             "#46039f"
            ],
            [
             0.2222222222222222,
             "#7201a8"
            ],
            [
             0.3333333333333333,
             "#9c179e"
            ],
            [
             0.4444444444444444,
             "#bd3786"
            ],
            [
             0.5555555555555556,
             "#d8576b"
            ],
            [
             0.6666666666666666,
             "#ed7953"
            ],
            [
             0.7777777777777778,
             "#fb9f3a"
            ],
            [
             0.8888888888888888,
             "#fdca26"
            ],
            [
             1,
             "#f0f921"
            ]
           ],
           "sequentialminus": [
            [
             0,
             "#0d0887"
            ],
            [
             0.1111111111111111,
             "#46039f"
            ],
            [
             0.2222222222222222,
             "#7201a8"
            ],
            [
             0.3333333333333333,
             "#9c179e"
            ],
            [
             0.4444444444444444,
             "#bd3786"
            ],
            [
             0.5555555555555556,
             "#d8576b"
            ],
            [
             0.6666666666666666,
             "#ed7953"
            ],
            [
             0.7777777777777778,
             "#fb9f3a"
            ],
            [
             0.8888888888888888,
             "#fdca26"
            ],
            [
             1,
             "#f0f921"
            ]
           ]
          },
          "colorway": [
           "#636efa",
           "#EF553B",
           "#00cc96",
           "#ab63fa",
           "#FFA15A",
           "#19d3f3",
           "#FF6692",
           "#B6E880",
           "#FF97FF",
           "#FECB52"
          ],
          "font": {
           "color": "#2a3f5f"
          },
          "geo": {
           "bgcolor": "white",
           "lakecolor": "white",
           "landcolor": "#E5ECF6",
           "showlakes": true,
           "showland": true,
           "subunitcolor": "white"
          },
          "hoverlabel": {
           "align": "left"
          },
          "hovermode": "closest",
          "mapbox": {
           "style": "light"
          },
          "paper_bgcolor": "white",
          "plot_bgcolor": "#E5ECF6",
          "polar": {
           "angularaxis": {
            "gridcolor": "white",
            "linecolor": "white",
            "ticks": ""
           },
           "bgcolor": "#E5ECF6",
           "radialaxis": {
            "gridcolor": "white",
            "linecolor": "white",
            "ticks": ""
           }
          },
          "scene": {
           "xaxis": {
            "backgroundcolor": "#E5ECF6",
            "gridcolor": "white",
            "gridwidth": 2,
            "linecolor": "white",
            "showbackground": true,
            "ticks": "",
            "zerolinecolor": "white"
           },
           "yaxis": {
            "backgroundcolor": "#E5ECF6",
            "gridcolor": "white",
            "gridwidth": 2,
            "linecolor": "white",
            "showbackground": true,
            "ticks": "",
            "zerolinecolor": "white"
           },
           "zaxis": {
            "backgroundcolor": "#E5ECF6",
            "gridcolor": "white",
            "gridwidth": 2,
            "linecolor": "white",
            "showbackground": true,
            "ticks": "",
            "zerolinecolor": "white"
           }
          },
          "shapedefaults": {
           "line": {
            "color": "#2a3f5f"
           }
          },
          "ternary": {
           "aaxis": {
            "gridcolor": "white",
            "linecolor": "white",
            "ticks": ""
           },
           "baxis": {
            "gridcolor": "white",
            "linecolor": "white",
            "ticks": ""
           },
           "bgcolor": "#E5ECF6",
           "caxis": {
            "gridcolor": "white",
            "linecolor": "white",
            "ticks": ""
           }
          },
          "title": {
           "x": 0.05
          },
          "xaxis": {
           "automargin": true,
           "gridcolor": "white",
           "linecolor": "white",
           "ticks": "",
           "title": {
            "standoff": 15
           },
           "zerolinecolor": "white",
           "zerolinewidth": 2
          },
          "yaxis": {
           "automargin": true,
           "gridcolor": "white",
           "linecolor": "white",
           "ticks": "",
           "title": {
            "standoff": 15
           },
           "zerolinecolor": "white",
           "zerolinewidth": 2
          }
         }
        }
       }
      }
     },
     "metadata": {},
     "output_type": "display_data"
    }
   ],
   "source": [
    "fig = px.scatter_mapbox(nodes_df, lat=\"latitude\", lon=\"longitude\", color=\"category\",  color_continuous_scale=px.colors.cyclical.IceFire, zoom=15, height=500)\n",
    "fig.update_layout(mapbox_style=\"open-street-map\")\n",
    "fig.update_layout(margin={\"r\":0,\"t\":0,\"l\":0,\"b\":0})\n",
    "fig.show()"
   ]
  },
  {
   "cell_type": "code",
   "execution_count": 264,
   "metadata": {},
   "outputs": [
    {
     "name": "stdout",
     "output_type": "stream",
     "text": [
      "['e6c8200f-d84b-499b-ad13-4313eec39ca2', '60d36bfa-92a2-4521-95fa-ed0e95f2413f', 'ec28306c-772c-4d65-9916-55c03ce61566']\n",
      "['d3ae8923-d4cd-46fb-ae6c-e4a20c7e5dab']\n",
      "{'from_bus': 'ec28306c-772c-4d65-9916-55c03ce61566', 'to_bus': '60d36bfa-92a2-4521-95fa-ed0e95f2413f', 'std_type': 'NAYY 4x50 SE', 'length_km': 0.1}\n",
      "{'from_bus': '60d36bfa-92a2-4521-95fa-ed0e95f2413f', 'to_bus': 'e6c8200f-d84b-499b-ad13-4313eec39ca2', 'std_type': 'NAYY 4x50 SE', 'length_km': 0.1}\n",
      "{'from_bus': 'e6c8200f-d84b-499b-ad13-4313eec39ca2', 'to_bus': 'd3ae8923-d4cd-46fb-ae6c-e4a20c7e5dab', 'std_type': 'NAYY 4x50 SE', 'length_km': 0.1}\n"
     ]
    },
    {
     "data": {
      "application/vnd.plotly.v1+json": {
       "config": {
        "plotlyServerURL": "https://plot.ly"
       },
       "data": [
        {
         "lat": [
          48.374,
          48.3744,
          48.3744,
          48.3744,
          48.3744,
          48.3744
         ],
         "lon": [
          14.5111,
          14.5115,
          14.5115,
          14.5123,
          14.5123,
          14.5131
         ],
         "mode": "lines",
         "type": "scattermapbox"
        },
        {
         "hoverinfo": "text",
         "lat": [
          48.3744,
          48.3744,
          48.374
         ],
         "lon": [
          14.5123,
          14.5115,
          14.5111
         ],
         "marker": {
          "color": "blue"
         },
         "mode": "markers",
         "text": [
          "location 1<br>load: 0.002177 MW",
          "location 2<br>load: 0.002903 MW",
          "location 3<br>load: 0.000235 MW"
         ],
         "type": "scattermapbox"
        }
       ],
       "layout": {
        "geo": {
         "projection": {
          "type": "mercator"
         }
        },
        "mapbox": {
         "center": {
          "lat": 48.374300000000005,
          "lon": 14.512
         },
         "style": "open-street-map",
         "zoom": 15
        },
        "margin": {
         "b": 0,
         "l": 0,
         "r": 0,
         "t": 0
        },
        "template": {
         "data": {
          "bar": [
           {
            "error_x": {
             "color": "#2a3f5f"
            },
            "error_y": {
             "color": "#2a3f5f"
            },
            "marker": {
             "line": {
              "color": "#E5ECF6",
              "width": 0.5
             },
             "pattern": {
              "fillmode": "overlay",
              "size": 10,
              "solidity": 0.2
             }
            },
            "type": "bar"
           }
          ],
          "barpolar": [
           {
            "marker": {
             "line": {
              "color": "#E5ECF6",
              "width": 0.5
             },
             "pattern": {
              "fillmode": "overlay",
              "size": 10,
              "solidity": 0.2
             }
            },
            "type": "barpolar"
           }
          ],
          "carpet": [
           {
            "aaxis": {
             "endlinecolor": "#2a3f5f",
             "gridcolor": "white",
             "linecolor": "white",
             "minorgridcolor": "white",
             "startlinecolor": "#2a3f5f"
            },
            "baxis": {
             "endlinecolor": "#2a3f5f",
             "gridcolor": "white",
             "linecolor": "white",
             "minorgridcolor": "white",
             "startlinecolor": "#2a3f5f"
            },
            "type": "carpet"
           }
          ],
          "choropleth": [
           {
            "colorbar": {
             "outlinewidth": 0,
             "ticks": ""
            },
            "type": "choropleth"
           }
          ],
          "contour": [
           {
            "colorbar": {
             "outlinewidth": 0,
             "ticks": ""
            },
            "colorscale": [
             [
              0,
              "#0d0887"
             ],
             [
              0.1111111111111111,
              "#46039f"
             ],
             [
              0.2222222222222222,
              "#7201a8"
             ],
             [
              0.3333333333333333,
              "#9c179e"
             ],
             [
              0.4444444444444444,
              "#bd3786"
             ],
             [
              0.5555555555555556,
              "#d8576b"
             ],
             [
              0.6666666666666666,
              "#ed7953"
             ],
             [
              0.7777777777777778,
              "#fb9f3a"
             ],
             [
              0.8888888888888888,
              "#fdca26"
             ],
             [
              1,
              "#f0f921"
             ]
            ],
            "type": "contour"
           }
          ],
          "contourcarpet": [
           {
            "colorbar": {
             "outlinewidth": 0,
             "ticks": ""
            },
            "type": "contourcarpet"
           }
          ],
          "heatmap": [
           {
            "colorbar": {
             "outlinewidth": 0,
             "ticks": ""
            },
            "colorscale": [
             [
              0,
              "#0d0887"
             ],
             [
              0.1111111111111111,
              "#46039f"
             ],
             [
              0.2222222222222222,
              "#7201a8"
             ],
             [
              0.3333333333333333,
              "#9c179e"
             ],
             [
              0.4444444444444444,
              "#bd3786"
             ],
             [
              0.5555555555555556,
              "#d8576b"
             ],
             [
              0.6666666666666666,
              "#ed7953"
             ],
             [
              0.7777777777777778,
              "#fb9f3a"
             ],
             [
              0.8888888888888888,
              "#fdca26"
             ],
             [
              1,
              "#f0f921"
             ]
            ],
            "type": "heatmap"
           }
          ],
          "heatmapgl": [
           {
            "colorbar": {
             "outlinewidth": 0,
             "ticks": ""
            },
            "colorscale": [
             [
              0,
              "#0d0887"
             ],
             [
              0.1111111111111111,
              "#46039f"
             ],
             [
              0.2222222222222222,
              "#7201a8"
             ],
             [
              0.3333333333333333,
              "#9c179e"
             ],
             [
              0.4444444444444444,
              "#bd3786"
             ],
             [
              0.5555555555555556,
              "#d8576b"
             ],
             [
              0.6666666666666666,
              "#ed7953"
             ],
             [
              0.7777777777777778,
              "#fb9f3a"
             ],
             [
              0.8888888888888888,
              "#fdca26"
             ],
             [
              1,
              "#f0f921"
             ]
            ],
            "type": "heatmapgl"
           }
          ],
          "histogram": [
           {
            "marker": {
             "pattern": {
              "fillmode": "overlay",
              "size": 10,
              "solidity": 0.2
             }
            },
            "type": "histogram"
           }
          ],
          "histogram2d": [
           {
            "colorbar": {
             "outlinewidth": 0,
             "ticks": ""
            },
            "colorscale": [
             [
              0,
              "#0d0887"
             ],
             [
              0.1111111111111111,
              "#46039f"
             ],
             [
              0.2222222222222222,
              "#7201a8"
             ],
             [
              0.3333333333333333,
              "#9c179e"
             ],
             [
              0.4444444444444444,
              "#bd3786"
             ],
             [
              0.5555555555555556,
              "#d8576b"
             ],
             [
              0.6666666666666666,
              "#ed7953"
             ],
             [
              0.7777777777777778,
              "#fb9f3a"
             ],
             [
              0.8888888888888888,
              "#fdca26"
             ],
             [
              1,
              "#f0f921"
             ]
            ],
            "type": "histogram2d"
           }
          ],
          "histogram2dcontour": [
           {
            "colorbar": {
             "outlinewidth": 0,
             "ticks": ""
            },
            "colorscale": [
             [
              0,
              "#0d0887"
             ],
             [
              0.1111111111111111,
              "#46039f"
             ],
             [
              0.2222222222222222,
              "#7201a8"
             ],
             [
              0.3333333333333333,
              "#9c179e"
             ],
             [
              0.4444444444444444,
              "#bd3786"
             ],
             [
              0.5555555555555556,
              "#d8576b"
             ],
             [
              0.6666666666666666,
              "#ed7953"
             ],
             [
              0.7777777777777778,
              "#fb9f3a"
             ],
             [
              0.8888888888888888,
              "#fdca26"
             ],
             [
              1,
              "#f0f921"
             ]
            ],
            "type": "histogram2dcontour"
           }
          ],
          "mesh3d": [
           {
            "colorbar": {
             "outlinewidth": 0,
             "ticks": ""
            },
            "type": "mesh3d"
           }
          ],
          "parcoords": [
           {
            "line": {
             "colorbar": {
              "outlinewidth": 0,
              "ticks": ""
             }
            },
            "type": "parcoords"
           }
          ],
          "pie": [
           {
            "automargin": true,
            "type": "pie"
           }
          ],
          "scatter": [
           {
            "fillpattern": {
             "fillmode": "overlay",
             "size": 10,
             "solidity": 0.2
            },
            "type": "scatter"
           }
          ],
          "scatter3d": [
           {
            "line": {
             "colorbar": {
              "outlinewidth": 0,
              "ticks": ""
             }
            },
            "marker": {
             "colorbar": {
              "outlinewidth": 0,
              "ticks": ""
             }
            },
            "type": "scatter3d"
           }
          ],
          "scattercarpet": [
           {
            "marker": {
             "colorbar": {
              "outlinewidth": 0,
              "ticks": ""
             }
            },
            "type": "scattercarpet"
           }
          ],
          "scattergeo": [
           {
            "marker": {
             "colorbar": {
              "outlinewidth": 0,
              "ticks": ""
             }
            },
            "type": "scattergeo"
           }
          ],
          "scattergl": [
           {
            "marker": {
             "colorbar": {
              "outlinewidth": 0,
              "ticks": ""
             }
            },
            "type": "scattergl"
           }
          ],
          "scattermapbox": [
           {
            "marker": {
             "colorbar": {
              "outlinewidth": 0,
              "ticks": ""
             }
            },
            "type": "scattermapbox"
           }
          ],
          "scatterpolar": [
           {
            "marker": {
             "colorbar": {
              "outlinewidth": 0,
              "ticks": ""
             }
            },
            "type": "scatterpolar"
           }
          ],
          "scatterpolargl": [
           {
            "marker": {
             "colorbar": {
              "outlinewidth": 0,
              "ticks": ""
             }
            },
            "type": "scatterpolargl"
           }
          ],
          "scatterternary": [
           {
            "marker": {
             "colorbar": {
              "outlinewidth": 0,
              "ticks": ""
             }
            },
            "type": "scatterternary"
           }
          ],
          "surface": [
           {
            "colorbar": {
             "outlinewidth": 0,
             "ticks": ""
            },
            "colorscale": [
             [
              0,
              "#0d0887"
             ],
             [
              0.1111111111111111,
              "#46039f"
             ],
             [
              0.2222222222222222,
              "#7201a8"
             ],
             [
              0.3333333333333333,
              "#9c179e"
             ],
             [
              0.4444444444444444,
              "#bd3786"
             ],
             [
              0.5555555555555556,
              "#d8576b"
             ],
             [
              0.6666666666666666,
              "#ed7953"
             ],
             [
              0.7777777777777778,
              "#fb9f3a"
             ],
             [
              0.8888888888888888,
              "#fdca26"
             ],
             [
              1,
              "#f0f921"
             ]
            ],
            "type": "surface"
           }
          ],
          "table": [
           {
            "cells": {
             "fill": {
              "color": "#EBF0F8"
             },
             "line": {
              "color": "white"
             }
            },
            "header": {
             "fill": {
              "color": "#C8D4E3"
             },
             "line": {
              "color": "white"
             }
            },
            "type": "table"
           }
          ]
         },
         "layout": {
          "annotationdefaults": {
           "arrowcolor": "#2a3f5f",
           "arrowhead": 0,
           "arrowwidth": 1
          },
          "autotypenumbers": "strict",
          "coloraxis": {
           "colorbar": {
            "outlinewidth": 0,
            "ticks": ""
           }
          },
          "colorscale": {
           "diverging": [
            [
             0,
             "#8e0152"
            ],
            [
             0.1,
             "#c51b7d"
            ],
            [
             0.2,
             "#de77ae"
            ],
            [
             0.3,
             "#f1b6da"
            ],
            [
             0.4,
             "#fde0ef"
            ],
            [
             0.5,
             "#f7f7f7"
            ],
            [
             0.6,
             "#e6f5d0"
            ],
            [
             0.7,
             "#b8e186"
            ],
            [
             0.8,
             "#7fbc41"
            ],
            [
             0.9,
             "#4d9221"
            ],
            [
             1,
             "#276419"
            ]
           ],
           "sequential": [
            [
             0,
             "#0d0887"
            ],
            [
             0.1111111111111111,
             "#46039f"
            ],
            [
             0.2222222222222222,
             "#7201a8"
            ],
            [
             0.3333333333333333,
             "#9c179e"
            ],
            [
             0.4444444444444444,
             "#bd3786"
            ],
            [
             0.5555555555555556,
             "#d8576b"
            ],
            [
             0.6666666666666666,
             "#ed7953"
            ],
            [
             0.7777777777777778,
             "#fb9f3a"
            ],
            [
             0.8888888888888888,
             "#fdca26"
            ],
            [
             1,
             "#f0f921"
            ]
           ],
           "sequentialminus": [
            [
             0,
             "#0d0887"
            ],
            [
             0.1111111111111111,
             "#46039f"
            ],
            [
             0.2222222222222222,
             "#7201a8"
            ],
            [
             0.3333333333333333,
             "#9c179e"
            ],
            [
             0.4444444444444444,
             "#bd3786"
            ],
            [
             0.5555555555555556,
             "#d8576b"
            ],
            [
             0.6666666666666666,
             "#ed7953"
            ],
            [
             0.7777777777777778,
             "#fb9f3a"
            ],
            [
             0.8888888888888888,
             "#fdca26"
            ],
            [
             1,
             "#f0f921"
            ]
           ]
          },
          "colorway": [
           "#636efa",
           "#EF553B",
           "#00cc96",
           "#ab63fa",
           "#FFA15A",
           "#19d3f3",
           "#FF6692",
           "#B6E880",
           "#FF97FF",
           "#FECB52"
          ],
          "font": {
           "color": "#2a3f5f"
          },
          "geo": {
           "bgcolor": "white",
           "lakecolor": "white",
           "landcolor": "#E5ECF6",
           "showlakes": true,
           "showland": true,
           "subunitcolor": "white"
          },
          "hoverlabel": {
           "align": "left"
          },
          "hovermode": "closest",
          "mapbox": {
           "style": "light"
          },
          "paper_bgcolor": "white",
          "plot_bgcolor": "#E5ECF6",
          "polar": {
           "angularaxis": {
            "gridcolor": "white",
            "linecolor": "white",
            "ticks": ""
           },
           "bgcolor": "#E5ECF6",
           "radialaxis": {
            "gridcolor": "white",
            "linecolor": "white",
            "ticks": ""
           }
          },
          "scene": {
           "xaxis": {
            "backgroundcolor": "#E5ECF6",
            "gridcolor": "white",
            "gridwidth": 2,
            "linecolor": "white",
            "showbackground": true,
            "ticks": "",
            "zerolinecolor": "white"
           },
           "yaxis": {
            "backgroundcolor": "#E5ECF6",
            "gridcolor": "white",
            "gridwidth": 2,
            "linecolor": "white",
            "showbackground": true,
            "ticks": "",
            "zerolinecolor": "white"
           },
           "zaxis": {
            "backgroundcolor": "#E5ECF6",
            "gridcolor": "white",
            "gridwidth": 2,
            "linecolor": "white",
            "showbackground": true,
            "ticks": "",
            "zerolinecolor": "white"
           }
          },
          "shapedefaults": {
           "line": {
            "color": "#2a3f5f"
           }
          },
          "ternary": {
           "aaxis": {
            "gridcolor": "white",
            "linecolor": "white",
            "ticks": ""
           },
           "baxis": {
            "gridcolor": "white",
            "linecolor": "white",
            "ticks": ""
           },
           "bgcolor": "#E5ECF6",
           "caxis": {
            "gridcolor": "white",
            "linecolor": "white",
            "ticks": ""
           }
          },
          "title": {
           "x": 0.05
          },
          "xaxis": {
           "automargin": true,
           "gridcolor": "white",
           "linecolor": "white",
           "ticks": "",
           "title": {
            "standoff": 15
           },
           "zerolinecolor": "white",
           "zerolinewidth": 2
          },
          "yaxis": {
           "automargin": true,
           "gridcolor": "white",
           "linecolor": "white",
           "ticks": "",
           "title": {
            "standoff": 15
           },
           "zerolinecolor": "white",
           "zerolinewidth": 2
          }
         }
        }
       }
      }
     },
     "metadata": {},
     "output_type": "display_data"
    }
   ],
   "source": [
    "mapbox_token = \"\"\n",
    "\n",
    "fig = go.Figure()\n",
    "\n",
    "opf_keys = [k for k in sorted(opfs.keys())]\n",
    "lines_df = get_line_connections(consumers, network)\n",
    "load_df = create_load_dataframe(consumers, network, opfs[opf_keys[0]])\n",
    "load_map_df = load_df.join(nodes_df.set_index('identifier'), on='identifier')\n",
    "\n",
    "# add lines\n",
    "fig.add_trace(go.Scattermapbox(\n",
    "    mode = 'lines',\n",
    "    lon = lines_df['longitude'],\n",
    "    lat = lines_df['latitude']\n",
    "))\n",
    "\n",
    "# nodes\n",
    "fig.add_trace(go.Scattermapbox(\n",
    "    mode = \"markers\",\n",
    "    lon = load_map_df['longitude'],\n",
    "    lat = load_map_df['latitude'],\n",
    "    marker = go.scattermapbox.Marker(\n",
    "        color=\"blue\"\n",
    "    ),\n",
    "    hoverinfo = 'text',\n",
    "    text = load_map_df['name'] + '<br>' + 'load: ' + load_map_df['load'].astype(str) + \" MW\"\n",
    "))\n",
    "\n",
    "fig.update_layout(    \n",
    "    margin ={'l':0,'t':0,'b':0,'r':0},\n",
    "    mapbox_style = \"dark\",\n",
    "    mapbox = {\n",
    "        'center': { 'lon': nodes_df['longitude'].mean(), 'lat': nodes_df['latitude'].mean() },\n",
    "        'zoom': 15,\n",
    "        'style': \"open-street-map\"})\n",
    "\n",
    "fig.update_geos(projection_type='mercator')\n",
    "\n",
    "fig.show()"
   ]
  },
  {
   "cell_type": "code",
   "execution_count": 46,
   "metadata": {},
   "outputs": [
    {
     "data": {
      "text/html": [
       "<div>\n",
       "<style scoped>\n",
       "    .dataframe tbody tr th:only-of-type {\n",
       "        vertical-align: middle;\n",
       "    }\n",
       "\n",
       "    .dataframe tbody tr th {\n",
       "        vertical-align: top;\n",
       "    }\n",
       "\n",
       "    .dataframe thead th {\n",
       "        text-align: right;\n",
       "    }\n",
       "</style>\n",
       "<table border=\"1\" class=\"dataframe\">\n",
       "  <thead>\n",
       "    <tr style=\"text-align: right;\">\n",
       "      <th></th>\n",
       "      <th>name</th>\n",
       "      <th>identifier</th>\n",
       "      <th>latitude</th>\n",
       "      <th>longitude</th>\n",
       "      <th>category</th>\n",
       "    </tr>\n",
       "  </thead>\n",
       "  <tbody>\n",
       "    <tr>\n",
       "      <th>0</th>\n",
       "      <td>location 1</td>\n",
       "      <td>e6c8200f-d84b-499b-ad13-4313eec39ca2</td>\n",
       "      <td>48.3744</td>\n",
       "      <td>14.5123</td>\n",
       "      <td>household</td>\n",
       "    </tr>\n",
       "    <tr>\n",
       "      <th>1</th>\n",
       "      <td>location 2</td>\n",
       "      <td>60d36bfa-92a2-4521-95fa-ed0e95f2413f</td>\n",
       "      <td>48.3744</td>\n",
       "      <td>14.5115</td>\n",
       "      <td>household</td>\n",
       "    </tr>\n",
       "    <tr>\n",
       "      <th>2</th>\n",
       "      <td>location 3</td>\n",
       "      <td>ec28306c-772c-4d65-9916-55c03ce61566</td>\n",
       "      <td>48.3740</td>\n",
       "      <td>14.5111</td>\n",
       "      <td>household</td>\n",
       "    </tr>\n",
       "    <tr>\n",
       "      <th>3</th>\n",
       "      <td>grid connection</td>\n",
       "      <td>d3ae8923-d4cd-46fb-ae6c-e4a20c7e5dab</td>\n",
       "      <td>48.3744</td>\n",
       "      <td>14.5131</td>\n",
       "      <td>network</td>\n",
       "    </tr>\n",
       "  </tbody>\n",
       "</table>\n",
       "</div>"
      ],
      "text/plain": [
       "              name                            identifier  latitude  longitude  \\\n",
       "0       location 1  e6c8200f-d84b-499b-ad13-4313eec39ca2   48.3744    14.5123   \n",
       "1       location 2  60d36bfa-92a2-4521-95fa-ed0e95f2413f   48.3744    14.5115   \n",
       "2       location 3  ec28306c-772c-4d65-9916-55c03ce61566   48.3740    14.5111   \n",
       "3  grid connection  d3ae8923-d4cd-46fb-ae6c-e4a20c7e5dab   48.3744    14.5131   \n",
       "\n",
       "    category  \n",
       "0  household  \n",
       "1  household  \n",
       "2  household  \n",
       "3    network  "
      ]
     },
     "execution_count": 46,
     "metadata": {},
     "output_type": "execute_result"
    }
   ],
   "source": [
    "nodes_df"
   ]
  },
  {
   "cell_type": "code",
   "execution_count": 43,
   "metadata": {},
   "outputs": [],
   "source": [
    "rline = opfs[opf_keys[0]]['res_line']\n",
    "rbus = opfs[opf_keys[0]]['res_bus']\n",
    "rload = opfs[opf_keys[0]]['res_load']\n",
    "regrid = opfs[opf_keys[0]]['res_ext_grid']"
   ]
  },
  {
   "cell_type": "code",
   "execution_count": 44,
   "metadata": {},
   "outputs": [
    {
     "data": {
      "text/plain": [
       "{'p_mw': {'0': 0.002177, '1': 0.002903, '2': 0.000235},\n",
       " 'q_mvar': {'0': 0.05, '1': 0.05, '2': 0.05}}"
      ]
     },
     "execution_count": 44,
     "metadata": {},
     "output_type": "execute_result"
    }
   ],
   "source": [
    "rload"
   ]
  },
  {
   "cell_type": "code",
   "execution_count": 45,
   "metadata": {},
   "outputs": [
    {
     "data": {
      "text/plain": [
       "{'p_from_mw': {'0': -0.0002349999, '1': -0.0041496133, '2': -0.0103669092},\n",
       " 'q_from_mvar': {'0': -0.0499999985, '1': -0.1001297335, '2': -0.1506510175},\n",
       " 'p_to_mw': {'0': 0.001246614, '1': 0.0081899102, '2': 0.019401306},\n",
       " 'q_to_mvar': {'0': 0.0501297337, '1': 0.1006510162, '2': 0.1518179322},\n",
       " 'pl_mw': {'0': 0.0010116141, '1': 0.0040402969, '2': 0.0090343967},\n",
       " 'ql_mvar': {'0': 0.0001297352, '1': 0.0005212827, '2': 0.0011669147},\n",
       " 'i_from_ka': {'0': 0.0724742681, '1': 0.1448374191, '2': 0.2165823049},\n",
       " 'i_to_ka': {'0': 0.0724727489, '1': 0.1448358949, '2': 0.2165807693},\n",
       " 'i_ka': {'0': 0.0724742681, '1': 0.1448374191, '2': 0.2165823049},\n",
       " 'vm_from_pu': {'0': 0.9957958942, '1': 0.998698248, '2': 1.0063622241},\n",
       " 'va_from_degree': {'0': 6.7798901983, '1': 5.6246721777, '2': 3.3459509393},\n",
       " 'vm_to_pu': {'0': 0.998698248, '1': 1.0063622241, '2': 1.02},\n",
       " 'va_to_degree': {'0': 5.6246721777, '1': 3.3459509393, '2': 0.0},\n",
       " 'loading_percent': {'0': 51.0382169481,\n",
       "  '1': 101.9981824801,\n",
       "  '2': 152.5227499091}}"
      ]
     },
     "execution_count": 45,
     "metadata": {},
     "output_type": "execute_result"
    }
   ],
   "source": [
    "rline"
   ]
  },
  {
   "cell_type": "code",
   "execution_count": null,
   "metadata": {},
   "outputs": [],
   "source": [
    "def convert_opfs_to_ts(opfs, ) -> pd.DataFrame:\n",
    "    opf_keys = [k for k in sorted(opfs.keys())]\n",
    "    "
   ]
  },
  {
   "cell_type": "code",
   "execution_count": 56,
   "metadata": {},
   "outputs": [
    {
     "name": "stdout",
     "output_type": "stream",
     "text": [
      "2023-08-21 14:00:00\n"
     ]
    },
    {
     "data": {
      "text/plain": [
       "{'bus': {'name': {'0': 'e6c8200f-d84b-499b-ad13-4313eec39ca2',\n",
       "   '1': '60d36bfa-92a2-4521-95fa-ed0e95f2413f',\n",
       "   '2': 'ec28306c-772c-4d65-9916-55c03ce61566',\n",
       "   '3': 'd3ae8923-d4cd-46fb-ae6c-e4a20c7e5dab'},\n",
       "  'vn_kv': {'0': 0.4, '1': 0.4, '2': 0.4, '3': 0.4},\n",
       "  'type': {'0': 'b', '1': 'b', '2': 'b', '3': 'b'},\n",
       "  'zone': {'0': None, '1': None, '2': None, '3': None},\n",
       "  'in_service': {'0': True, '1': True, '2': True, '3': True}},\n",
       " 'load': {'name': {'0': 'e6c8200f-d84b-499b-ad13-4313eec39ca2',\n",
       "   '1': '60d36bfa-92a2-4521-95fa-ed0e95f2413f',\n",
       "   '2': 'ec28306c-772c-4d65-9916-55c03ce61566'},\n",
       "  'bus': {'0': 0, '1': 1, '2': 2},\n",
       "  'p_mw': {'0': 0.002177, '1': 0.002903, '2': 0.000235},\n",
       "  'q_mvar': {'0': 0.05, '1': 0.05, '2': 0.05},\n",
       "  'const_z_percent': {'0': 0.0, '1': 0.0, '2': 0.0},\n",
       "  'const_i_percent': {'0': 0.0, '1': 0.0, '2': 0.0},\n",
       "  'sn_mva': {'0': None, '1': None, '2': None},\n",
       "  'scaling': {'0': 1.0, '1': 1.0, '2': 1.0},\n",
       "  'in_service': {'0': True, '1': True, '2': True},\n",
       "  'type': {'0': 'wye', '1': 'wye', '2': 'wye'}},\n",
       " 'line': {'name': {'0': None, '1': None, '2': None},\n",
       "  'std_type': {'0': 'NAYY 4x50 SE', '1': 'NAYY 4x50 SE', '2': 'NAYY 4x50 SE'},\n",
       "  'from_bus': {'0': 2, '1': 1, '2': 0},\n",
       "  'to_bus': {'0': 1, '1': 0, '2': 3},\n",
       "  'length_km': {'0': 0.1, '1': 0.1, '2': 0.1},\n",
       "  'r_ohm_per_km': {'0': 0.642, '1': 0.642, '2': 0.642},\n",
       "  'x_ohm_per_km': {'0': 0.083, '1': 0.083, '2': 0.083},\n",
       "  'c_nf_per_km': {'0': 210.0, '1': 210.0, '2': 210.0},\n",
       "  'g_us_per_km': {'0': 0.0, '1': 0.0, '2': 0.0},\n",
       "  'max_i_ka': {'0': 0.142, '1': 0.142, '2': 0.142},\n",
       "  'df': {'0': 1.0, '1': 1.0, '2': 1.0},\n",
       "  'parallel': {'0': 1, '1': 1, '2': 1},\n",
       "  'type': {'0': 'cs', '1': 'cs', '2': 'cs'},\n",
       "  'in_service': {'0': True, '1': True, '2': True}},\n",
       " 'res_bus': {'vm_pu': {'0': 1.0063622241,\n",
       "   '1': 0.998698248,\n",
       "   '2': 0.9957958942,\n",
       "   '3': 1.02},\n",
       "  'va_degree': {'0': 3.3459509393,\n",
       "   '1': 5.6246721777,\n",
       "   '2': 6.7798901983,\n",
       "   '3': 0.0},\n",
       "  'p_mw': {'0': 0.002177, '1': 0.002903, '2': 0.000235, '3': -0.019401306},\n",
       "  'q_mvar': {'0': 0.05, '1': 0.05, '2': 0.05, '3': -0.1518179322}},\n",
       " 'res_line': {'p_from_mw': {'0': -0.0002349999,\n",
       "   '1': -0.0041496133,\n",
       "   '2': -0.0103669092},\n",
       "  'q_from_mvar': {'0': -0.0499999985, '1': -0.1001297335, '2': -0.1506510175},\n",
       "  'p_to_mw': {'0': 0.001246614, '1': 0.0081899102, '2': 0.019401306},\n",
       "  'q_to_mvar': {'0': 0.0501297337, '1': 0.1006510162, '2': 0.1518179322},\n",
       "  'pl_mw': {'0': 0.0010116141, '1': 0.0040402969, '2': 0.0090343967},\n",
       "  'ql_mvar': {'0': 0.0001297352, '1': 0.0005212827, '2': 0.0011669147},\n",
       "  'i_from_ka': {'0': 0.0724742681, '1': 0.1448374191, '2': 0.2165823049},\n",
       "  'i_to_ka': {'0': 0.0724727489, '1': 0.1448358949, '2': 0.2165807693},\n",
       "  'i_ka': {'0': 0.0724742681, '1': 0.1448374191, '2': 0.2165823049},\n",
       "  'vm_from_pu': {'0': 0.9957958942, '1': 0.998698248, '2': 1.0063622241},\n",
       "  'va_from_degree': {'0': 6.7798901983, '1': 5.6246721777, '2': 3.3459509393},\n",
       "  'vm_to_pu': {'0': 0.998698248, '1': 1.0063622241, '2': 1.02},\n",
       "  'va_to_degree': {'0': 5.6246721777, '1': 3.3459509393, '2': 0.0},\n",
       "  'loading_percent': {'0': 51.0382169481,\n",
       "   '1': 101.9981824801,\n",
       "   '2': 152.5227499091}},\n",
       " 'res_load': {'p_mw': {'0': 0.002177, '1': 0.002903, '2': 0.000235},\n",
       "  'q_mvar': {'0': 0.05, '1': 0.05, '2': 0.05}},\n",
       " 'res_ext_grid': {'p_mw': {'0': 0.019401306}, 'q_mvar': {'0': 0.1518179322}}}"
      ]
     },
     "execution_count": 56,
     "metadata": {},
     "output_type": "execute_result"
    }
   ],
   "source": [
    "print(datetime.datetime.fromtimestamp(opf_keys[0]))\n",
    "opfs[opf_keys[0]]"
   ]
  },
  {
   "cell_type": "code",
   "execution_count": 246,
   "metadata": {},
   "outputs": [],
   "source": [
    "def line_ts(nodes_df, opfs):\n",
    "    node_identifier_map = create_node_identifier_mapping(nodes_df)\n",
    "    opf_keys = [k for k in sorted(opfs.keys())]\n",
    "    dataframes = []\n",
    "    for ok in opf_keys:\n",
    "        o = opfs[ok]\n",
    "        df1 = pd.DataFrame(o['res_line'])\n",
    "        df1 = df1.reset_index()\n",
    "        df1['node_id'] = df1['index'].astype('int64')\n",
    "        dataframe = df1\n",
    "        dataframe['time'] = datetime.datetime.fromtimestamp(ok)\n",
    "        dataframes.append(dataframe)\n",
    "    res_line_ts = pd.concat(dataframes).reset_index()#[['node_id', 'p_mw', 'q_mvar', 'time']]\n",
    "    #res_line_ts['identifier'] = res_line_ts['node_id'].map(node_identifier_map)\n",
    "    #res_line_ts = res_line_ts[['p_mw', 'q_mvar', 'time', 'identifier']]\n",
    "    return res_line_ts"
   ]
  },
  {
   "cell_type": "code",
   "execution_count": 248,
   "metadata": {},
   "outputs": [
    {
     "data": {
      "text/plain": [
       "{'p_from_mw': {'0': -0.0020739999, '1': -0.0054593879, '2': -0.0109209071},\n",
       " 'q_from_mvar': {'0': -0.0499999984, '1': -0.100130353, '2': -0.1506530892},\n",
       " 'p_to_mw': {'0': 0.0030903887, '1': 0.0095109081, '2': 0.0199642279},\n",
       " 'q_to_mvar': {'0': 0.0501303533, '1': 0.1006530878, '2': 0.1518211578},\n",
       " 'pl_mw': {'0': 0.0010163888, '1': 0.0040515201, '2': 0.0090433208},\n",
       " 'ql_mvar': {'0': 0.0001303549, '1': 0.0005227347, '2': 0.0011680687},\n",
       " 'i_from_ka': {'0': 0.0726450989, '1': 0.1450384439, '2': 0.2166892462},\n",
       " 'i_to_ka': {'0': 0.0726435833, '1': 0.1450369217, '2': 0.2166877114},\n",
       " 'i_ka': {'0': 0.0726450989, '1': 0.1450384439, '2': 0.2166892462},\n",
       " 'vm_from_pu': {'0': 0.9942975115, '1': 0.9979448955, '2': 1.0061393975},\n",
       " 'va_from_degree': {'0': 6.7745367462, '1': 5.6222137558, '2': 3.3451320878},\n",
       " 'vm_to_pu': {'0': 0.9979448955, '1': 1.0061393975, '2': 1.02},\n",
       " 'va_to_degree': {'0': 5.6222137558, '1': 3.3451320878, '2': 0.0},\n",
       " 'loading_percent': {'0': 51.1585203623,\n",
       "  '1': 102.1397492189,\n",
       "  '2': 152.5980607195}}"
      ]
     },
     "execution_count": 248,
     "metadata": {},
     "output_type": "execute_result"
    }
   ],
   "source": [
    "opfs[ok]['res_line']\n"
   ]
  },
  {
   "cell_type": "code",
   "execution_count": 249,
   "metadata": {},
   "outputs": [
    {
     "data": {
      "text/plain": [
       "{'p_mw': {'0': 0.00141, '1': 0.002369, '2': 0.002074},\n",
       " 'q_mvar': {'0': 0.05, '1': 0.05, '2': 0.05}}"
      ]
     },
     "execution_count": 249,
     "metadata": {},
     "output_type": "execute_result"
    }
   ],
   "source": [
    "opfs[ok]['res_load']"
   ]
  },
  {
   "cell_type": "code",
   "execution_count": 260,
   "metadata": {},
   "outputs": [
    {
     "name": "stdout",
     "output_type": "stream",
     "text": [
      "{\n",
      "  \"p_from_mw\": {\n",
      "    \"0\": -0.0020739999,\n",
      "    \"1\": -0.0054593879,\n",
      "    \"2\": -0.0109209071\n",
      "  },\n",
      "  \"q_from_mvar\": {\n",
      "    \"0\": -0.0499999984,\n",
      "    \"1\": -0.100130353,\n",
      "    \"2\": -0.1506530892\n",
      "  },\n",
      "  \"p_to_mw\": {\n",
      "    \"0\": 0.0030903887,\n",
      "    \"1\": 0.0095109081,\n",
      "    \"2\": 0.0199642279\n",
      "  },\n",
      "  \"q_to_mvar\": {\n",
      "    \"0\": 0.0501303533,\n",
      "    \"1\": 0.1006530878,\n",
      "    \"2\": 0.1518211578\n",
      "  },\n",
      "  \"pl_mw\": {\n",
      "    \"0\": 0.0010163888,\n",
      "    \"1\": 0.0040515201,\n",
      "    \"2\": 0.0090433208\n",
      "  },\n",
      "  \"ql_mvar\": {\n",
      "    \"0\": 0.0001303549,\n",
      "    \"1\": 0.0005227347,\n",
      "    \"2\": 0.0011680687\n",
      "  },\n",
      "  \"i_from_ka\": {\n",
      "    \"0\": 0.0726450989,\n",
      "    \"1\": 0.1450384439,\n",
      "    \"2\": 0.2166892462\n",
      "  },\n",
      "  \"i_to_ka\": {\n",
      "    \"0\": 0.0726435833,\n",
      "    \"1\": 0.1450369217,\n",
      "    \"2\": 0.2166877114\n",
      "  },\n",
      "  \"i_ka\": {\n",
      "    \"0\": 0.0726450989,\n",
      "    \"1\": 0.1450384439,\n",
      "    \"2\": 0.2166892462\n",
      "  },\n",
      "  \"vm_from_pu\": {\n",
      "    \"0\": 0.9942975115,\n",
      "    \"1\": 0.9979448955,\n",
      "    \"2\": 1.0061393975\n",
      "  },\n",
      "  \"va_from_degree\": {\n",
      "    \"0\": 6.7745367462,\n",
      "    \"1\": 5.6222137558,\n",
      "    \"2\": 3.3451320878\n",
      "  },\n",
      "  \"vm_to_pu\": {\n",
      "    \"0\": 0.9979448955,\n",
      "    \"1\": 1.0061393975,\n",
      "    \"2\": 1.02\n",
      "  },\n",
      "  \"va_to_degree\": {\n",
      "    \"0\": 5.6222137558,\n",
      "    \"1\": 3.3451320878,\n",
      "    \"2\": 0.0\n",
      "  },\n",
      "  \"loading_percent\": {\n",
      "    \"0\": 51.1585203623,\n",
      "    \"1\": 102.1397492189,\n",
      "    \"2\": 152.5980607195\n",
      "  }\n",
      "}\n",
      "{\n",
      "  \"name\": {\n",
      "    \"0\": \"e6c8200f-d84b-499b-ad13-4313eec39ca2\",\n",
      "    \"1\": \"60d36bfa-92a2-4521-95fa-ed0e95f2413f\",\n",
      "    \"2\": \"ec28306c-772c-4d65-9916-55c03ce61566\",\n",
      "    \"3\": \"d3ae8923-d4cd-46fb-ae6c-e4a20c7e5dab\"\n",
      "  },\n",
      "  \"vn_kv\": {\n",
      "    \"0\": 0.4,\n",
      "    \"1\": 0.4,\n",
      "    \"2\": 0.4,\n",
      "    \"3\": 0.4\n",
      "  },\n",
      "  \"type\": {\n",
      "    \"0\": \"b\",\n",
      "    \"1\": \"b\",\n",
      "    \"2\": \"b\",\n",
      "    \"3\": \"b\"\n",
      "  },\n",
      "  \"zone\": {\n",
      "    \"0\": null,\n",
      "    \"1\": null,\n",
      "    \"2\": null,\n",
      "    \"3\": null\n",
      "  },\n",
      "  \"in_service\": {\n",
      "    \"0\": true,\n",
      "    \"1\": true,\n",
      "    \"2\": true,\n",
      "    \"3\": true\n",
      "  }\n",
      "}\n"
     ]
    }
   ],
   "source": [
    "print(json.dumps(opfs[ok]['res_line'], indent=2))"
   ]
  },
  {
   "cell_type": "code",
   "execution_count": 262,
   "metadata": {},
   "outputs": [
    {
     "name": "stdout",
     "output_type": "stream",
     "text": [
      "{\n",
      "  \"name\": {\n",
      "    \"0\": null,\n",
      "    \"1\": null,\n",
      "    \"2\": null\n",
      "  },\n",
      "  \"std_type\": {\n",
      "    \"0\": \"NAYY 4x50 SE\",\n",
      "    \"1\": \"NAYY 4x50 SE\",\n",
      "    \"2\": \"NAYY 4x50 SE\"\n",
      "  },\n",
      "  \"from_bus\": {\n",
      "    \"0\": 2,\n",
      "    \"1\": 1,\n",
      "    \"2\": 0\n",
      "  },\n",
      "  \"to_bus\": {\n",
      "    \"0\": 1,\n",
      "    \"1\": 0,\n",
      "    \"2\": 3\n",
      "  },\n",
      "  \"length_km\": {\n",
      "    \"0\": 0.1,\n",
      "    \"1\": 0.1,\n",
      "    \"2\": 0.1\n",
      "  },\n",
      "  \"r_ohm_per_km\": {\n",
      "    \"0\": 0.642,\n",
      "    \"1\": 0.642,\n",
      "    \"2\": 0.642\n",
      "  },\n",
      "  \"x_ohm_per_km\": {\n",
      "    \"0\": 0.083,\n",
      "    \"1\": 0.083,\n",
      "    \"2\": 0.083\n",
      "  },\n",
      "  \"c_nf_per_km\": {\n",
      "    \"0\": 210.0,\n",
      "    \"1\": 210.0,\n",
      "    \"2\": 210.0\n",
      "  },\n",
      "  \"g_us_per_km\": {\n",
      "    \"0\": 0.0,\n",
      "    \"1\": 0.0,\n",
      "    \"2\": 0.0\n",
      "  },\n",
      "  \"max_i_ka\": {\n",
      "    \"0\": 0.142,\n",
      "    \"1\": 0.142,\n",
      "    \"2\": 0.142\n",
      "  },\n",
      "  \"df\": {\n",
      "    \"0\": 1.0,\n",
      "    \"1\": 1.0,\n",
      "    \"2\": 1.0\n",
      "  },\n",
      "  \"parallel\": {\n",
      "    \"0\": 1,\n",
      "    \"1\": 1,\n",
      "    \"2\": 1\n",
      "  },\n",
      "  \"type\": {\n",
      "    \"0\": \"cs\",\n",
      "    \"1\": \"cs\",\n",
      "    \"2\": \"cs\"\n",
      "  },\n",
      "  \"in_service\": {\n",
      "    \"0\": true,\n",
      "    \"1\": true,\n",
      "    \"2\": true\n",
      "  }\n",
      "}\n"
     ]
    }
   ],
   "source": [
    "print(json.dumps(opfs[ok]['line'], indent=2))"
   ]
  },
  {
   "cell_type": "code",
   "execution_count": 253,
   "metadata": {},
   "outputs": [
    {
     "data": {
      "text/html": [
       "<div>\n",
       "<style scoped>\n",
       "    .dataframe tbody tr th:only-of-type {\n",
       "        vertical-align: middle;\n",
       "    }\n",
       "\n",
       "    .dataframe tbody tr th {\n",
       "        vertical-align: top;\n",
       "    }\n",
       "\n",
       "    .dataframe thead th {\n",
       "        text-align: right;\n",
       "    }\n",
       "</style>\n",
       "<table border=\"1\" class=\"dataframe\">\n",
       "  <thead>\n",
       "    <tr style=\"text-align: right;\">\n",
       "      <th></th>\n",
       "      <th>level_0</th>\n",
       "      <th>index</th>\n",
       "      <th>p_from_mw</th>\n",
       "      <th>q_from_mvar</th>\n",
       "      <th>p_to_mw</th>\n",
       "      <th>q_to_mvar</th>\n",
       "      <th>pl_mw</th>\n",
       "      <th>ql_mvar</th>\n",
       "      <th>i_from_ka</th>\n",
       "      <th>i_to_ka</th>\n",
       "      <th>i_ka</th>\n",
       "      <th>vm_from_pu</th>\n",
       "      <th>va_from_degree</th>\n",
       "      <th>vm_to_pu</th>\n",
       "      <th>va_to_degree</th>\n",
       "      <th>loading_percent</th>\n",
       "      <th>node_id</th>\n",
       "      <th>time</th>\n",
       "    </tr>\n",
       "  </thead>\n",
       "  <tbody>\n",
       "    <tr>\n",
       "      <th>0</th>\n",
       "      <td>0</td>\n",
       "      <td>0</td>\n",
       "      <td>-0.000235</td>\n",
       "      <td>-0.050000</td>\n",
       "      <td>0.001247</td>\n",
       "      <td>0.050130</td>\n",
       "      <td>0.001012</td>\n",
       "      <td>0.000130</td>\n",
       "      <td>0.072474</td>\n",
       "      <td>0.072473</td>\n",
       "      <td>0.072474</td>\n",
       "      <td>0.995796</td>\n",
       "      <td>6.779890</td>\n",
       "      <td>0.998698</td>\n",
       "      <td>5.624672</td>\n",
       "      <td>51.038217</td>\n",
       "      <td>0</td>\n",
       "      <td>2023-08-21 14:00:00</td>\n",
       "    </tr>\n",
       "    <tr>\n",
       "      <th>1</th>\n",
       "      <td>1</td>\n",
       "      <td>1</td>\n",
       "      <td>-0.004150</td>\n",
       "      <td>-0.100130</td>\n",
       "      <td>0.008190</td>\n",
       "      <td>0.100651</td>\n",
       "      <td>0.004040</td>\n",
       "      <td>0.000521</td>\n",
       "      <td>0.144837</td>\n",
       "      <td>0.144836</td>\n",
       "      <td>0.144837</td>\n",
       "      <td>0.998698</td>\n",
       "      <td>5.624672</td>\n",
       "      <td>1.006362</td>\n",
       "      <td>3.345951</td>\n",
       "      <td>101.998182</td>\n",
       "      <td>1</td>\n",
       "      <td>2023-08-21 14:00:00</td>\n",
       "    </tr>\n",
       "    <tr>\n",
       "      <th>2</th>\n",
       "      <td>2</td>\n",
       "      <td>2</td>\n",
       "      <td>-0.010367</td>\n",
       "      <td>-0.150651</td>\n",
       "      <td>0.019401</td>\n",
       "      <td>0.151818</td>\n",
       "      <td>0.009034</td>\n",
       "      <td>0.001167</td>\n",
       "      <td>0.216582</td>\n",
       "      <td>0.216581</td>\n",
       "      <td>0.216582</td>\n",
       "      <td>1.006362</td>\n",
       "      <td>3.345951</td>\n",
       "      <td>1.020000</td>\n",
       "      <td>0.000000</td>\n",
       "      <td>152.522750</td>\n",
       "      <td>2</td>\n",
       "      <td>2023-08-21 14:00:00</td>\n",
       "    </tr>\n",
       "    <tr>\n",
       "      <th>3</th>\n",
       "      <td>0</td>\n",
       "      <td>0</td>\n",
       "      <td>-0.000830</td>\n",
       "      <td>-0.050000</td>\n",
       "      <td>0.001843</td>\n",
       "      <td>0.050130</td>\n",
       "      <td>0.001013</td>\n",
       "      <td>0.000130</td>\n",
       "      <td>0.072528</td>\n",
       "      <td>0.072527</td>\n",
       "      <td>0.072528</td>\n",
       "      <td>0.995180</td>\n",
       "      <td>6.777952</td>\n",
       "      <td>0.998324</td>\n",
       "      <td>5.623366</td>\n",
       "      <td>51.076280</td>\n",
       "      <td>0</td>\n",
       "      <td>2023-08-21 14:15:00</td>\n",
       "    </tr>\n",
       "    <tr>\n",
       "      <th>4</th>\n",
       "      <td>1</td>\n",
       "      <td>1</td>\n",
       "      <td>-0.004835</td>\n",
       "      <td>-0.100130</td>\n",
       "      <td>0.008881</td>\n",
       "      <td>0.100652</td>\n",
       "      <td>0.004046</td>\n",
       "      <td>0.000522</td>\n",
       "      <td>0.144936</td>\n",
       "      <td>0.144935</td>\n",
       "      <td>0.144936</td>\n",
       "      <td>0.998324</td>\n",
       "      <td>5.623366</td>\n",
       "      <td>1.006265</td>\n",
       "      <td>3.345593</td>\n",
       "      <td>102.067949</td>\n",
       "      <td>1</td>\n",
       "      <td>2023-08-21 14:15:00</td>\n",
       "    </tr>\n",
       "    <tr>\n",
       "      <th>...</th>\n",
       "      <td>...</td>\n",
       "      <td>...</td>\n",
       "      <td>...</td>\n",
       "      <td>...</td>\n",
       "      <td>...</td>\n",
       "      <td>...</td>\n",
       "      <td>...</td>\n",
       "      <td>...</td>\n",
       "      <td>...</td>\n",
       "      <td>...</td>\n",
       "      <td>...</td>\n",
       "      <td>...</td>\n",
       "      <td>...</td>\n",
       "      <td>...</td>\n",
       "      <td>...</td>\n",
       "      <td>...</td>\n",
       "      <td>...</td>\n",
       "      <td>...</td>\n",
       "    </tr>\n",
       "    <tr>\n",
       "      <th>283</th>\n",
       "      <td>1</td>\n",
       "      <td>1</td>\n",
       "      <td>-0.005736</td>\n",
       "      <td>-0.100130</td>\n",
       "      <td>0.009787</td>\n",
       "      <td>0.100653</td>\n",
       "      <td>0.004051</td>\n",
       "      <td>0.000523</td>\n",
       "      <td>0.145036</td>\n",
       "      <td>0.145034</td>\n",
       "      <td>0.145036</td>\n",
       "      <td>0.998118</td>\n",
       "      <td>5.621455</td>\n",
       "      <td>1.006422</td>\n",
       "      <td>3.346229</td>\n",
       "      <td>102.137683</td>\n",
       "      <td>1</td>\n",
       "      <td>2023-08-22 13:30:00</td>\n",
       "    </tr>\n",
       "    <tr>\n",
       "      <th>284</th>\n",
       "      <td>2</td>\n",
       "      <td>2</td>\n",
       "      <td>-0.010218</td>\n",
       "      <td>-0.150653</td>\n",
       "      <td>0.019251</td>\n",
       "      <td>0.151820</td>\n",
       "      <td>0.009032</td>\n",
       "      <td>0.001167</td>\n",
       "      <td>0.216558</td>\n",
       "      <td>0.216556</td>\n",
       "      <td>0.216558</td>\n",
       "      <td>1.006422</td>\n",
       "      <td>3.346229</td>\n",
       "      <td>1.020000</td>\n",
       "      <td>0.000000</td>\n",
       "      <td>152.505533</td>\n",
       "      <td>2</td>\n",
       "      <td>2023-08-22 13:30:00</td>\n",
       "    </tr>\n",
       "    <tr>\n",
       "      <th>285</th>\n",
       "      <td>0</td>\n",
       "      <td>0</td>\n",
       "      <td>-0.002074</td>\n",
       "      <td>-0.050000</td>\n",
       "      <td>0.003090</td>\n",
       "      <td>0.050130</td>\n",
       "      <td>0.001016</td>\n",
       "      <td>0.000130</td>\n",
       "      <td>0.072645</td>\n",
       "      <td>0.072644</td>\n",
       "      <td>0.072645</td>\n",
       "      <td>0.994298</td>\n",
       "      <td>6.774537</td>\n",
       "      <td>0.997945</td>\n",
       "      <td>5.622214</td>\n",
       "      <td>51.158520</td>\n",
       "      <td>0</td>\n",
       "      <td>2023-08-22 13:45:00</td>\n",
       "    </tr>\n",
       "    <tr>\n",
       "      <th>286</th>\n",
       "      <td>1</td>\n",
       "      <td>1</td>\n",
       "      <td>-0.005459</td>\n",
       "      <td>-0.100130</td>\n",
       "      <td>0.009511</td>\n",
       "      <td>0.100653</td>\n",
       "      <td>0.004052</td>\n",
       "      <td>0.000523</td>\n",
       "      <td>0.145038</td>\n",
       "      <td>0.145037</td>\n",
       "      <td>0.145038</td>\n",
       "      <td>0.997945</td>\n",
       "      <td>5.622214</td>\n",
       "      <td>1.006139</td>\n",
       "      <td>3.345132</td>\n",
       "      <td>102.139749</td>\n",
       "      <td>1</td>\n",
       "      <td>2023-08-22 13:45:00</td>\n",
       "    </tr>\n",
       "    <tr>\n",
       "      <th>287</th>\n",
       "      <td>2</td>\n",
       "      <td>2</td>\n",
       "      <td>-0.010921</td>\n",
       "      <td>-0.150653</td>\n",
       "      <td>0.019964</td>\n",
       "      <td>0.151821</td>\n",
       "      <td>0.009043</td>\n",
       "      <td>0.001168</td>\n",
       "      <td>0.216689</td>\n",
       "      <td>0.216688</td>\n",
       "      <td>0.216689</td>\n",
       "      <td>1.006139</td>\n",
       "      <td>3.345132</td>\n",
       "      <td>1.020000</td>\n",
       "      <td>0.000000</td>\n",
       "      <td>152.598061</td>\n",
       "      <td>2</td>\n",
       "      <td>2023-08-22 13:45:00</td>\n",
       "    </tr>\n",
       "  </tbody>\n",
       "</table>\n",
       "<p>288 rows × 18 columns</p>\n",
       "</div>"
      ],
      "text/plain": [
       "     level_0 index  p_from_mw  q_from_mvar   p_to_mw  q_to_mvar     pl_mw  \\\n",
       "0          0     0  -0.000235    -0.050000  0.001247   0.050130  0.001012   \n",
       "1          1     1  -0.004150    -0.100130  0.008190   0.100651  0.004040   \n",
       "2          2     2  -0.010367    -0.150651  0.019401   0.151818  0.009034   \n",
       "3          0     0  -0.000830    -0.050000  0.001843   0.050130  0.001013   \n",
       "4          1     1  -0.004835    -0.100130  0.008881   0.100652  0.004046   \n",
       "..       ...   ...        ...          ...       ...        ...       ...   \n",
       "283        1     1  -0.005736    -0.100130  0.009787   0.100653  0.004051   \n",
       "284        2     2  -0.010218    -0.150653  0.019251   0.151820  0.009032   \n",
       "285        0     0  -0.002074    -0.050000  0.003090   0.050130  0.001016   \n",
       "286        1     1  -0.005459    -0.100130  0.009511   0.100653  0.004052   \n",
       "287        2     2  -0.010921    -0.150653  0.019964   0.151821  0.009043   \n",
       "\n",
       "      ql_mvar  i_from_ka   i_to_ka      i_ka  vm_from_pu  va_from_degree  \\\n",
       "0    0.000130   0.072474  0.072473  0.072474    0.995796        6.779890   \n",
       "1    0.000521   0.144837  0.144836  0.144837    0.998698        5.624672   \n",
       "2    0.001167   0.216582  0.216581  0.216582    1.006362        3.345951   \n",
       "3    0.000130   0.072528  0.072527  0.072528    0.995180        6.777952   \n",
       "4    0.000522   0.144936  0.144935  0.144936    0.998324        5.623366   \n",
       "..        ...        ...       ...       ...         ...             ...   \n",
       "283  0.000523   0.145036  0.145034  0.145036    0.998118        5.621455   \n",
       "284  0.001167   0.216558  0.216556  0.216558    1.006422        3.346229   \n",
       "285  0.000130   0.072645  0.072644  0.072645    0.994298        6.774537   \n",
       "286  0.000523   0.145038  0.145037  0.145038    0.997945        5.622214   \n",
       "287  0.001168   0.216689  0.216688  0.216689    1.006139        3.345132   \n",
       "\n",
       "     vm_to_pu  va_to_degree  loading_percent  node_id                time  \n",
       "0    0.998698      5.624672        51.038217        0 2023-08-21 14:00:00  \n",
       "1    1.006362      3.345951       101.998182        1 2023-08-21 14:00:00  \n",
       "2    1.020000      0.000000       152.522750        2 2023-08-21 14:00:00  \n",
       "3    0.998324      5.623366        51.076280        0 2023-08-21 14:15:00  \n",
       "4    1.006265      3.345593       102.067949        1 2023-08-21 14:15:00  \n",
       "..        ...           ...              ...      ...                 ...  \n",
       "283  1.006422      3.346229       102.137683        1 2023-08-22 13:30:00  \n",
       "284  1.020000      0.000000       152.505533        2 2023-08-22 13:30:00  \n",
       "285  0.997945      5.622214        51.158520        0 2023-08-22 13:45:00  \n",
       "286  1.006139      3.345132       102.139749        1 2023-08-22 13:45:00  \n",
       "287  1.020000      0.000000       152.598061        2 2023-08-22 13:45:00  \n",
       "\n",
       "[288 rows x 18 columns]"
      ]
     },
     "execution_count": 253,
     "metadata": {},
     "output_type": "execute_result"
    }
   ],
   "source": [
    "res_line_ts"
   ]
  },
  {
   "cell_type": "code",
   "execution_count": 254,
   "metadata": {},
   "outputs": [
    {
     "data": {
      "application/vnd.plotly.v1+json": {
       "config": {
        "plotlyServerURL": "https://plot.ly"
       },
       "data": [
        {
         "hovertemplate": "index=0<br>time=%{x}<br>p_from_mw=%{y}<extra></extra>",
         "legendgroup": "0",
         "line": {
          "color": "#636efa",
          "dash": "solid"
         },
         "marker": {
          "symbol": "circle"
         },
         "mode": "lines",
         "name": "0",
         "orientation": "v",
         "showlegend": true,
         "type": "scatter",
         "x": [
          "2023-08-21T14:00:00",
          "2023-08-21T14:15:00",
          "2023-08-21T14:30:00",
          "2023-08-21T14:45:00",
          "2023-08-21T15:00:00",
          "2023-08-21T15:15:00",
          "2023-08-21T15:30:00",
          "2023-08-21T15:45:00",
          "2023-08-21T16:00:00",
          "2023-08-21T16:15:00",
          "2023-08-21T16:30:00",
          "2023-08-21T16:45:00",
          "2023-08-21T17:00:00",
          "2023-08-21T17:15:00",
          "2023-08-21T17:30:00",
          "2023-08-21T17:45:00",
          "2023-08-21T18:00:00",
          "2023-08-21T18:15:00",
          "2023-08-21T18:30:00",
          "2023-08-21T18:45:00",
          "2023-08-21T19:00:00",
          "2023-08-21T19:15:00",
          "2023-08-21T19:30:00",
          "2023-08-21T19:45:00",
          "2023-08-21T20:00:00",
          "2023-08-21T20:15:00",
          "2023-08-21T20:30:00",
          "2023-08-21T20:45:00",
          "2023-08-21T21:00:00",
          "2023-08-21T21:15:00",
          "2023-08-21T21:30:00",
          "2023-08-21T21:45:00",
          "2023-08-21T22:00:00",
          "2023-08-21T22:15:00",
          "2023-08-21T22:30:00",
          "2023-08-21T22:45:00",
          "2023-08-21T23:00:00",
          "2023-08-21T23:15:00",
          "2023-08-21T23:30:00",
          "2023-08-21T23:45:00",
          "2023-08-22T00:00:00",
          "2023-08-22T00:15:00",
          "2023-08-22T00:30:00",
          "2023-08-22T00:45:00",
          "2023-08-22T01:00:00",
          "2023-08-22T01:15:00",
          "2023-08-22T01:30:00",
          "2023-08-22T01:45:00",
          "2023-08-22T02:00:00",
          "2023-08-22T02:15:00",
          "2023-08-22T02:30:00",
          "2023-08-22T02:45:00",
          "2023-08-22T03:00:00",
          "2023-08-22T03:15:00",
          "2023-08-22T03:30:00",
          "2023-08-22T03:45:00",
          "2023-08-22T04:00:00",
          "2023-08-22T04:15:00",
          "2023-08-22T04:30:00",
          "2023-08-22T04:45:00",
          "2023-08-22T05:00:00",
          "2023-08-22T05:15:00",
          "2023-08-22T05:30:00",
          "2023-08-22T05:45:00",
          "2023-08-22T06:00:00",
          "2023-08-22T06:15:00",
          "2023-08-22T06:30:00",
          "2023-08-22T06:45:00",
          "2023-08-22T07:00:00",
          "2023-08-22T07:15:00",
          "2023-08-22T07:30:00",
          "2023-08-22T07:45:00",
          "2023-08-22T08:00:00",
          "2023-08-22T08:15:00",
          "2023-08-22T08:30:00",
          "2023-08-22T08:45:00",
          "2023-08-22T09:00:00",
          "2023-08-22T09:15:00",
          "2023-08-22T09:30:00",
          "2023-08-22T09:45:00",
          "2023-08-22T10:00:00",
          "2023-08-22T10:15:00",
          "2023-08-22T10:30:00",
          "2023-08-22T10:45:00",
          "2023-08-22T11:00:00",
          "2023-08-22T11:15:00",
          "2023-08-22T11:30:00",
          "2023-08-22T11:45:00",
          "2023-08-22T12:00:00",
          "2023-08-22T12:15:00",
          "2023-08-22T12:30:00",
          "2023-08-22T12:45:00",
          "2023-08-22T13:00:00",
          "2023-08-22T13:15:00",
          "2023-08-22T13:30:00",
          "2023-08-22T13:45:00"
         ],
         "xaxis": "x",
         "y": [
          -0.0002349999,
          -0.0008299999,
          -0.0023129999,
          -0.0011219999,
          -0.0005629999,
          -0.0019919999,
          -0.0016869999,
          -0.0026209999,
          -0.000725,
          -0.0016079999,
          -0.0007689999,
          -0.0018369999,
          -0.0028569999,
          -0.0029939999,
          -0.0009179999,
          -0.0016269999,
          -0.0022639999,
          -0.0022829999,
          -0.0005739999,
          -0.0009519999,
          -0.000232,
          -0.0001199999,
          -0.0020539999,
          -0.0019469999,
          -0.0009459999,
          -0.0019939999,
          -0.0025559999,
          -0.0013709999,
          -0.0019199999,
          -0.0004669999,
          -0.0020159999,
          -0.0011409999,
          -0.0012039999,
          -0.0019079999,
          -0.0017869999,
          -0.0008519999,
          -0.0013079999,
          -0.0016719999,
          -0.0023999999,
          -0.00022,
          -0.0005429999,
          -0.000276,
          -0.0009359999,
          -0.0023099999,
          -0.0008199999,
          -0.0010699999,
          -0.000382,
          -0.0003959999,
          -0.0027299999,
          -0.0010169999,
          -0.0019669999,
          -0.0019969999,
          -0.0014749999,
          -0.0026209999,
          -0.0016899999,
          -0.0028799999,
          -0.000208,
          -0.0014439999,
          -0.0019209999,
          -0.0008029999,
          -0.0023189999,
          -0.000352,
          -0.0017919999,
          -0.0014769999,
          -0.0006409999,
          -0.0014659999,
          -0.0023889999,
          -0.0022789999,
          -0.0029309999,
          -0.0023959999,
          -0.0020039999,
          -0.0028599999,
          -0.000287,
          -0.0013609999,
          -0.0028489999,
          -0.0019759999,
          -0.0010629999,
          -0.0026689999,
          -0.0009429999,
          -0.0020189999,
          -0.0028339999,
          -0.0021659999,
          -0.000141,
          -0.0001019999,
          -0.0022639999,
          -0.000212,
          -0.0026449999,
          -0.0020319999,
          -0.000122,
          -0.0015609999,
          -0.0024909999,
          -0.0019329999,
          -0.0024409999,
          -0.0018519999,
          -0.0020889999,
          -0.0020739999
         ],
         "yaxis": "y"
        },
        {
         "hovertemplate": "index=1<br>time=%{x}<br>p_from_mw=%{y}<extra></extra>",
         "legendgroup": "1",
         "line": {
          "color": "#EF553B",
          "dash": "solid"
         },
         "marker": {
          "symbol": "circle"
         },
         "mode": "lines",
         "name": "1",
         "orientation": "v",
         "showlegend": true,
         "type": "scatter",
         "x": [
          "2023-08-21T14:00:00",
          "2023-08-21T14:15:00",
          "2023-08-21T14:30:00",
          "2023-08-21T14:45:00",
          "2023-08-21T15:00:00",
          "2023-08-21T15:15:00",
          "2023-08-21T15:30:00",
          "2023-08-21T15:45:00",
          "2023-08-21T16:00:00",
          "2023-08-21T16:15:00",
          "2023-08-21T16:30:00",
          "2023-08-21T16:45:00",
          "2023-08-21T17:00:00",
          "2023-08-21T17:15:00",
          "2023-08-21T17:30:00",
          "2023-08-21T17:45:00",
          "2023-08-21T18:00:00",
          "2023-08-21T18:15:00",
          "2023-08-21T18:30:00",
          "2023-08-21T18:45:00",
          "2023-08-21T19:00:00",
          "2023-08-21T19:15:00",
          "2023-08-21T19:30:00",
          "2023-08-21T19:45:00",
          "2023-08-21T20:00:00",
          "2023-08-21T20:15:00",
          "2023-08-21T20:30:00",
          "2023-08-21T20:45:00",
          "2023-08-21T21:00:00",
          "2023-08-21T21:15:00",
          "2023-08-21T21:30:00",
          "2023-08-21T21:45:00",
          "2023-08-21T22:00:00",
          "2023-08-21T22:15:00",
          "2023-08-21T22:30:00",
          "2023-08-21T22:45:00",
          "2023-08-21T23:00:00",
          "2023-08-21T23:15:00",
          "2023-08-21T23:30:00",
          "2023-08-21T23:45:00",
          "2023-08-22T00:00:00",
          "2023-08-22T00:15:00",
          "2023-08-22T00:30:00",
          "2023-08-22T00:45:00",
          "2023-08-22T01:00:00",
          "2023-08-22T01:15:00",
          "2023-08-22T01:30:00",
          "2023-08-22T01:45:00",
          "2023-08-22T02:00:00",
          "2023-08-22T02:15:00",
          "2023-08-22T02:30:00",
          "2023-08-22T02:45:00",
          "2023-08-22T03:00:00",
          "2023-08-22T03:15:00",
          "2023-08-22T03:30:00",
          "2023-08-22T03:45:00",
          "2023-08-22T04:00:00",
          "2023-08-22T04:15:00",
          "2023-08-22T04:30:00",
          "2023-08-22T04:45:00",
          "2023-08-22T05:00:00",
          "2023-08-22T05:15:00",
          "2023-08-22T05:30:00",
          "2023-08-22T05:45:00",
          "2023-08-22T06:00:00",
          "2023-08-22T06:15:00",
          "2023-08-22T06:30:00",
          "2023-08-22T06:45:00",
          "2023-08-22T07:00:00",
          "2023-08-22T07:15:00",
          "2023-08-22T07:30:00",
          "2023-08-22T07:45:00",
          "2023-08-22T08:00:00",
          "2023-08-22T08:15:00",
          "2023-08-22T08:30:00",
          "2023-08-22T08:45:00",
          "2023-08-22T09:00:00",
          "2023-08-22T09:15:00",
          "2023-08-22T09:30:00",
          "2023-08-22T09:45:00",
          "2023-08-22T10:00:00",
          "2023-08-22T10:15:00",
          "2023-08-22T10:30:00",
          "2023-08-22T10:45:00",
          "2023-08-22T11:00:00",
          "2023-08-22T11:15:00",
          "2023-08-22T11:30:00",
          "2023-08-22T11:45:00",
          "2023-08-22T12:00:00",
          "2023-08-22T12:15:00",
          "2023-08-22T12:30:00",
          "2023-08-22T12:45:00",
          "2023-08-22T13:00:00",
          "2023-08-22T13:15:00",
          "2023-08-22T13:30:00",
          "2023-08-22T13:45:00"
         ],
         "xaxis": "x",
         "y": [
          -0.0041496133,
          -0.0048351227,
          -0.0034364485,
          -0.0022480745,
          -0.0036371541,
          -0.0035267359,
          -0.0049104034,
          -0.0060249554,
          -0.0019071611,
          -0.0038214948,
          -0.0020419299,
          -0.00544897,
          -0.0055408501,
          -0.0047469506,
          -0.0033495312,
          -0.0030905028,
          -0.0034026593,
          -0.0062130203,
          -0.0036405967,
          -0.0026882915,
          -0.0021379777,
          -0.0033759925,
          -0.0040029917,
          -0.0050451478,
          -0.0038806732,
          -0.0058061808,
          -0.0060777767,
          -0.0031724292,
          -0.0031598587,
          -0.0023885678,
          -0.0053433146,
          -0.0028067642,
          -0.0041444763,
          -0.0048873393,
          -0.0041527918,
          -0.0046691053,
          -0.0033694323,
          -0.0041562095,
          -0.0055416718,
          -0.0018585369,
          -0.0033789369,
          -0.0018315765,
          -0.003052176,
          -0.0050223166,
          -0.0042716249,
          -0.0030472959,
          -0.0021582445,
          -0.0034803636,
          -0.005552637,
          -0.003159743,
          -0.0044754593,
          -0.003860823,
          -0.0052746519,
          -0.0060258251,
          -0.0039383006,
          -0.0041185093,
          -0.0019065075,
          -0.003189136,
          -0.0037470849,
          -0.0042839045,
          -0.0036233287,
          -0.0018911981,
          -0.0056608528,
          -0.0034847118,
          -0.0037771158,
          -0.0046539901,
          -0.0057069913,
          -0.005468952,
          -0.0044684038,
          -0.0049626946,
          -0.0036291984,
          -0.0058145876,
          -0.0017187682,
          -0.0032834904,
          -0.0057281465,
          -0.0054677362,
          -0.0034740238,
          -0.0050090829,
          -0.0047359872,
          -0.0036395103,
          -0.0066179078,
          -0.0050279381,
          -0.0014589931,
          -0.0034739301,
          -0.0037560839,
          -0.0020446541,
          -0.0040417378,
          -0.0041791278,
          -0.0015178385,
          -0.0046781577,
          -0.0046983263,
          -0.004699764,
          -0.0045674653,
          -0.0052553491,
          -0.0057360697,
          -0.0054593879
         ],
         "yaxis": "y"
        },
        {
         "hovertemplate": "index=2<br>time=%{x}<br>p_from_mw=%{y}<extra></extra>",
         "legendgroup": "2",
         "line": {
          "color": "#00cc96",
          "dash": "solid"
         },
         "marker": {
          "symbol": "circle"
         },
         "mode": "lines",
         "name": "2",
         "orientation": "v",
         "showlegend": true,
         "type": "scatter",
         "x": [
          "2023-08-21T14:00:00",
          "2023-08-21T14:15:00",
          "2023-08-21T14:30:00",
          "2023-08-21T14:45:00",
          "2023-08-21T15:00:00",
          "2023-08-21T15:15:00",
          "2023-08-21T15:30:00",
          "2023-08-21T15:45:00",
          "2023-08-21T16:00:00",
          "2023-08-21T16:15:00",
          "2023-08-21T16:30:00",
          "2023-08-21T16:45:00",
          "2023-08-21T17:00:00",
          "2023-08-21T17:15:00",
          "2023-08-21T17:30:00",
          "2023-08-21T17:45:00",
          "2023-08-21T18:00:00",
          "2023-08-21T18:15:00",
          "2023-08-21T18:30:00",
          "2023-08-21T18:45:00",
          "2023-08-21T19:00:00",
          "2023-08-21T19:15:00",
          "2023-08-21T19:30:00",
          "2023-08-21T19:45:00",
          "2023-08-21T20:00:00",
          "2023-08-21T20:15:00",
          "2023-08-21T20:30:00",
          "2023-08-21T20:45:00",
          "2023-08-21T21:00:00",
          "2023-08-21T21:15:00",
          "2023-08-21T21:30:00",
          "2023-08-21T21:45:00",
          "2023-08-21T22:00:00",
          "2023-08-21T22:15:00",
          "2023-08-21T22:30:00",
          "2023-08-21T22:45:00",
          "2023-08-21T23:00:00",
          "2023-08-21T23:15:00",
          "2023-08-21T23:30:00",
          "2023-08-21T23:45:00",
          "2023-08-22T00:00:00",
          "2023-08-22T00:15:00",
          "2023-08-22T00:30:00",
          "2023-08-22T00:45:00",
          "2023-08-22T01:00:00",
          "2023-08-22T01:15:00",
          "2023-08-22T01:30:00",
          "2023-08-22T01:45:00",
          "2023-08-22T02:00:00",
          "2023-08-22T02:15:00",
          "2023-08-22T02:30:00",
          "2023-08-22T02:45:00",
          "2023-08-22T03:00:00",
          "2023-08-22T03:15:00",
          "2023-08-22T03:30:00",
          "2023-08-22T03:45:00",
          "2023-08-22T04:00:00",
          "2023-08-22T04:15:00",
          "2023-08-22T04:30:00",
          "2023-08-22T04:45:00",
          "2023-08-22T05:00:00",
          "2023-08-22T05:15:00",
          "2023-08-22T05:30:00",
          "2023-08-22T05:45:00",
          "2023-08-22T06:00:00",
          "2023-08-22T06:15:00",
          "2023-08-22T06:30:00",
          "2023-08-22T06:45:00",
          "2023-08-22T07:00:00",
          "2023-08-22T07:15:00",
          "2023-08-22T07:30:00",
          "2023-08-22T07:45:00",
          "2023-08-22T08:00:00",
          "2023-08-22T08:15:00",
          "2023-08-22T08:30:00",
          "2023-08-22T08:45:00",
          "2023-08-22T09:00:00",
          "2023-08-22T09:15:00",
          "2023-08-22T09:30:00",
          "2023-08-22T09:45:00",
          "2023-08-22T10:00:00",
          "2023-08-22T10:15:00",
          "2023-08-22T10:30:00",
          "2023-08-22T10:45:00",
          "2023-08-22T11:00:00",
          "2023-08-22T11:15:00",
          "2023-08-22T11:30:00",
          "2023-08-22T11:45:00",
          "2023-08-22T12:00:00",
          "2023-08-22T12:15:00",
          "2023-08-22T12:30:00",
          "2023-08-22T12:45:00",
          "2023-08-22T13:00:00",
          "2023-08-22T13:15:00",
          "2023-08-22T13:30:00",
          "2023-08-22T13:45:00"
         ],
         "xaxis": "x",
         "y": [
          -0.0103669092,
          -0.0106089477,
          -0.0098515869,
          -0.0064886309,
          -0.0098675335,
          -0.0098955571,
          -0.0113773241,
          -0.0128343163,
          -0.0064669714,
          -0.0103676913,
          -0.0071957593,
          -0.0111160482,
          -0.0099377741,
          -0.0115192052,
          -0.0100006066,
          -0.0098475753,
          -0.0090910995,
          -0.01267138,
          -0.0091717145,
          -0.0078756594,
          -0.0067347722,
          -0.0080909594,
          -0.0095466649,
          -0.0114191963,
          -0.0107996546,
          -0.0105652362,
          -0.0127964422,
          -0.0090965079,
          -0.0081999436,
          -0.0093280897,
          -0.0123195744,
          -0.007951027,
          -0.0097727988,
          -0.0107169181,
          -0.0111266378,
          -0.0107130946,
          -0.0090495148,
          -0.0083158375,
          -0.010146276,
          -0.0077101537,
          -0.0098918252,
          -0.0077160861,
          -0.0098319642,
          -0.011731239,
          -0.010586464,
          -0.0072897448,
          -0.0068465045,
          -0.0080949733,
          -0.0125332359,
          -0.0090425647,
          -0.0086914752,
          -0.0084459716,
          -0.0106488522,
          -0.0114847132,
          -0.0085954266,
          -0.0084523706,
          -0.0088601013,
          -0.0073375631,
          -0.0090966458,
          -0.0109419972,
          -0.008294503,
          -0.0070959723,
          -0.0108888238,
          -0.0076629536,
          -0.0107683317,
          -0.0116941225,
          -0.010401731,
          -0.0121476107,
          -0.0101873171,
          -0.0119609433,
          -0.0103160302,
          -0.0117326004,
          -0.00682686,
          -0.0102931429,
          -0.0113331486,
          -0.0104206641,
          -0.0101884662,
          -0.0114369461,
          -0.0115391772,
          -0.009431502,
          -0.0114135397,
          -0.0093259619,
          -0.0063122431,
          -0.0091529615,
          -0.0104571781,
          -0.0064560845,
          -0.010872039,
          -0.0083941729,
          -0.007309588,
          -0.0116372747,
          -0.010263076,
          -0.0113420673,
          -0.0095278774,
          -0.0105209906,
          -0.0102184249,
          -0.0109209071
         ],
         "yaxis": "y"
        }
       ],
       "layout": {
        "legend": {
         "title": {
          "text": "index"
         },
         "tracegroupgap": 0
        },
        "margin": {
         "t": 60
        },
        "template": {
         "data": {
          "bar": [
           {
            "error_x": {
             "color": "#2a3f5f"
            },
            "error_y": {
             "color": "#2a3f5f"
            },
            "marker": {
             "line": {
              "color": "#E5ECF6",
              "width": 0.5
             },
             "pattern": {
              "fillmode": "overlay",
              "size": 10,
              "solidity": 0.2
             }
            },
            "type": "bar"
           }
          ],
          "barpolar": [
           {
            "marker": {
             "line": {
              "color": "#E5ECF6",
              "width": 0.5
             },
             "pattern": {
              "fillmode": "overlay",
              "size": 10,
              "solidity": 0.2
             }
            },
            "type": "barpolar"
           }
          ],
          "carpet": [
           {
            "aaxis": {
             "endlinecolor": "#2a3f5f",
             "gridcolor": "white",
             "linecolor": "white",
             "minorgridcolor": "white",
             "startlinecolor": "#2a3f5f"
            },
            "baxis": {
             "endlinecolor": "#2a3f5f",
             "gridcolor": "white",
             "linecolor": "white",
             "minorgridcolor": "white",
             "startlinecolor": "#2a3f5f"
            },
            "type": "carpet"
           }
          ],
          "choropleth": [
           {
            "colorbar": {
             "outlinewidth": 0,
             "ticks": ""
            },
            "type": "choropleth"
           }
          ],
          "contour": [
           {
            "colorbar": {
             "outlinewidth": 0,
             "ticks": ""
            },
            "colorscale": [
             [
              0,
              "#0d0887"
             ],
             [
              0.1111111111111111,
              "#46039f"
             ],
             [
              0.2222222222222222,
              "#7201a8"
             ],
             [
              0.3333333333333333,
              "#9c179e"
             ],
             [
              0.4444444444444444,
              "#bd3786"
             ],
             [
              0.5555555555555556,
              "#d8576b"
             ],
             [
              0.6666666666666666,
              "#ed7953"
             ],
             [
              0.7777777777777778,
              "#fb9f3a"
             ],
             [
              0.8888888888888888,
              "#fdca26"
             ],
             [
              1,
              "#f0f921"
             ]
            ],
            "type": "contour"
           }
          ],
          "contourcarpet": [
           {
            "colorbar": {
             "outlinewidth": 0,
             "ticks": ""
            },
            "type": "contourcarpet"
           }
          ],
          "heatmap": [
           {
            "colorbar": {
             "outlinewidth": 0,
             "ticks": ""
            },
            "colorscale": [
             [
              0,
              "#0d0887"
             ],
             [
              0.1111111111111111,
              "#46039f"
             ],
             [
              0.2222222222222222,
              "#7201a8"
             ],
             [
              0.3333333333333333,
              "#9c179e"
             ],
             [
              0.4444444444444444,
              "#bd3786"
             ],
             [
              0.5555555555555556,
              "#d8576b"
             ],
             [
              0.6666666666666666,
              "#ed7953"
             ],
             [
              0.7777777777777778,
              "#fb9f3a"
             ],
             [
              0.8888888888888888,
              "#fdca26"
             ],
             [
              1,
              "#f0f921"
             ]
            ],
            "type": "heatmap"
           }
          ],
          "heatmapgl": [
           {
            "colorbar": {
             "outlinewidth": 0,
             "ticks": ""
            },
            "colorscale": [
             [
              0,
              "#0d0887"
             ],
             [
              0.1111111111111111,
              "#46039f"
             ],
             [
              0.2222222222222222,
              "#7201a8"
             ],
             [
              0.3333333333333333,
              "#9c179e"
             ],
             [
              0.4444444444444444,
              "#bd3786"
             ],
             [
              0.5555555555555556,
              "#d8576b"
             ],
             [
              0.6666666666666666,
              "#ed7953"
             ],
             [
              0.7777777777777778,
              "#fb9f3a"
             ],
             [
              0.8888888888888888,
              "#fdca26"
             ],
             [
              1,
              "#f0f921"
             ]
            ],
            "type": "heatmapgl"
           }
          ],
          "histogram": [
           {
            "marker": {
             "pattern": {
              "fillmode": "overlay",
              "size": 10,
              "solidity": 0.2
             }
            },
            "type": "histogram"
           }
          ],
          "histogram2d": [
           {
            "colorbar": {
             "outlinewidth": 0,
             "ticks": ""
            },
            "colorscale": [
             [
              0,
              "#0d0887"
             ],
             [
              0.1111111111111111,
              "#46039f"
             ],
             [
              0.2222222222222222,
              "#7201a8"
             ],
             [
              0.3333333333333333,
              "#9c179e"
             ],
             [
              0.4444444444444444,
              "#bd3786"
             ],
             [
              0.5555555555555556,
              "#d8576b"
             ],
             [
              0.6666666666666666,
              "#ed7953"
             ],
             [
              0.7777777777777778,
              "#fb9f3a"
             ],
             [
              0.8888888888888888,
              "#fdca26"
             ],
             [
              1,
              "#f0f921"
             ]
            ],
            "type": "histogram2d"
           }
          ],
          "histogram2dcontour": [
           {
            "colorbar": {
             "outlinewidth": 0,
             "ticks": ""
            },
            "colorscale": [
             [
              0,
              "#0d0887"
             ],
             [
              0.1111111111111111,
              "#46039f"
             ],
             [
              0.2222222222222222,
              "#7201a8"
             ],
             [
              0.3333333333333333,
              "#9c179e"
             ],
             [
              0.4444444444444444,
              "#bd3786"
             ],
             [
              0.5555555555555556,
              "#d8576b"
             ],
             [
              0.6666666666666666,
              "#ed7953"
             ],
             [
              0.7777777777777778,
              "#fb9f3a"
             ],
             [
              0.8888888888888888,
              "#fdca26"
             ],
             [
              1,
              "#f0f921"
             ]
            ],
            "type": "histogram2dcontour"
           }
          ],
          "mesh3d": [
           {
            "colorbar": {
             "outlinewidth": 0,
             "ticks": ""
            },
            "type": "mesh3d"
           }
          ],
          "parcoords": [
           {
            "line": {
             "colorbar": {
              "outlinewidth": 0,
              "ticks": ""
             }
            },
            "type": "parcoords"
           }
          ],
          "pie": [
           {
            "automargin": true,
            "type": "pie"
           }
          ],
          "scatter": [
           {
            "fillpattern": {
             "fillmode": "overlay",
             "size": 10,
             "solidity": 0.2
            },
            "type": "scatter"
           }
          ],
          "scatter3d": [
           {
            "line": {
             "colorbar": {
              "outlinewidth": 0,
              "ticks": ""
             }
            },
            "marker": {
             "colorbar": {
              "outlinewidth": 0,
              "ticks": ""
             }
            },
            "type": "scatter3d"
           }
          ],
          "scattercarpet": [
           {
            "marker": {
             "colorbar": {
              "outlinewidth": 0,
              "ticks": ""
             }
            },
            "type": "scattercarpet"
           }
          ],
          "scattergeo": [
           {
            "marker": {
             "colorbar": {
              "outlinewidth": 0,
              "ticks": ""
             }
            },
            "type": "scattergeo"
           }
          ],
          "scattergl": [
           {
            "marker": {
             "colorbar": {
              "outlinewidth": 0,
              "ticks": ""
             }
            },
            "type": "scattergl"
           }
          ],
          "scattermapbox": [
           {
            "marker": {
             "colorbar": {
              "outlinewidth": 0,
              "ticks": ""
             }
            },
            "type": "scattermapbox"
           }
          ],
          "scatterpolar": [
           {
            "marker": {
             "colorbar": {
              "outlinewidth": 0,
              "ticks": ""
             }
            },
            "type": "scatterpolar"
           }
          ],
          "scatterpolargl": [
           {
            "marker": {
             "colorbar": {
              "outlinewidth": 0,
              "ticks": ""
             }
            },
            "type": "scatterpolargl"
           }
          ],
          "scatterternary": [
           {
            "marker": {
             "colorbar": {
              "outlinewidth": 0,
              "ticks": ""
             }
            },
            "type": "scatterternary"
           }
          ],
          "surface": [
           {
            "colorbar": {
             "outlinewidth": 0,
             "ticks": ""
            },
            "colorscale": [
             [
              0,
              "#0d0887"
             ],
             [
              0.1111111111111111,
              "#46039f"
             ],
             [
              0.2222222222222222,
              "#7201a8"
             ],
             [
              0.3333333333333333,
              "#9c179e"
             ],
             [
              0.4444444444444444,
              "#bd3786"
             ],
             [
              0.5555555555555556,
              "#d8576b"
             ],
             [
              0.6666666666666666,
              "#ed7953"
             ],
             [
              0.7777777777777778,
              "#fb9f3a"
             ],
             [
              0.8888888888888888,
              "#fdca26"
             ],
             [
              1,
              "#f0f921"
             ]
            ],
            "type": "surface"
           }
          ],
          "table": [
           {
            "cells": {
             "fill": {
              "color": "#EBF0F8"
             },
             "line": {
              "color": "white"
             }
            },
            "header": {
             "fill": {
              "color": "#C8D4E3"
             },
             "line": {
              "color": "white"
             }
            },
            "type": "table"
           }
          ]
         },
         "layout": {
          "annotationdefaults": {
           "arrowcolor": "#2a3f5f",
           "arrowhead": 0,
           "arrowwidth": 1
          },
          "autotypenumbers": "strict",
          "coloraxis": {
           "colorbar": {
            "outlinewidth": 0,
            "ticks": ""
           }
          },
          "colorscale": {
           "diverging": [
            [
             0,
             "#8e0152"
            ],
            [
             0.1,
             "#c51b7d"
            ],
            [
             0.2,
             "#de77ae"
            ],
            [
             0.3,
             "#f1b6da"
            ],
            [
             0.4,
             "#fde0ef"
            ],
            [
             0.5,
             "#f7f7f7"
            ],
            [
             0.6,
             "#e6f5d0"
            ],
            [
             0.7,
             "#b8e186"
            ],
            [
             0.8,
             "#7fbc41"
            ],
            [
             0.9,
             "#4d9221"
            ],
            [
             1,
             "#276419"
            ]
           ],
           "sequential": [
            [
             0,
             "#0d0887"
            ],
            [
             0.1111111111111111,
             "#46039f"
            ],
            [
             0.2222222222222222,
             "#7201a8"
            ],
            [
             0.3333333333333333,
             "#9c179e"
            ],
            [
             0.4444444444444444,
             "#bd3786"
            ],
            [
             0.5555555555555556,
             "#d8576b"
            ],
            [
             0.6666666666666666,
             "#ed7953"
            ],
            [
             0.7777777777777778,
             "#fb9f3a"
            ],
            [
             0.8888888888888888,
             "#fdca26"
            ],
            [
             1,
             "#f0f921"
            ]
           ],
           "sequentialminus": [
            [
             0,
             "#0d0887"
            ],
            [
             0.1111111111111111,
             "#46039f"
            ],
            [
             0.2222222222222222,
             "#7201a8"
            ],
            [
             0.3333333333333333,
             "#9c179e"
            ],
            [
             0.4444444444444444,
             "#bd3786"
            ],
            [
             0.5555555555555556,
             "#d8576b"
            ],
            [
             0.6666666666666666,
             "#ed7953"
            ],
            [
             0.7777777777777778,
             "#fb9f3a"
            ],
            [
             0.8888888888888888,
             "#fdca26"
            ],
            [
             1,
             "#f0f921"
            ]
           ]
          },
          "colorway": [
           "#636efa",
           "#EF553B",
           "#00cc96",
           "#ab63fa",
           "#FFA15A",
           "#19d3f3",
           "#FF6692",
           "#B6E880",
           "#FF97FF",
           "#FECB52"
          ],
          "font": {
           "color": "#2a3f5f"
          },
          "geo": {
           "bgcolor": "white",
           "lakecolor": "white",
           "landcolor": "#E5ECF6",
           "showlakes": true,
           "showland": true,
           "subunitcolor": "white"
          },
          "hoverlabel": {
           "align": "left"
          },
          "hovermode": "closest",
          "mapbox": {
           "style": "light"
          },
          "paper_bgcolor": "white",
          "plot_bgcolor": "#E5ECF6",
          "polar": {
           "angularaxis": {
            "gridcolor": "white",
            "linecolor": "white",
            "ticks": ""
           },
           "bgcolor": "#E5ECF6",
           "radialaxis": {
            "gridcolor": "white",
            "linecolor": "white",
            "ticks": ""
           }
          },
          "scene": {
           "xaxis": {
            "backgroundcolor": "#E5ECF6",
            "gridcolor": "white",
            "gridwidth": 2,
            "linecolor": "white",
            "showbackground": true,
            "ticks": "",
            "zerolinecolor": "white"
           },
           "yaxis": {
            "backgroundcolor": "#E5ECF6",
            "gridcolor": "white",
            "gridwidth": 2,
            "linecolor": "white",
            "showbackground": true,
            "ticks": "",
            "zerolinecolor": "white"
           },
           "zaxis": {
            "backgroundcolor": "#E5ECF6",
            "gridcolor": "white",
            "gridwidth": 2,
            "linecolor": "white",
            "showbackground": true,
            "ticks": "",
            "zerolinecolor": "white"
           }
          },
          "shapedefaults": {
           "line": {
            "color": "#2a3f5f"
           }
          },
          "ternary": {
           "aaxis": {
            "gridcolor": "white",
            "linecolor": "white",
            "ticks": ""
           },
           "baxis": {
            "gridcolor": "white",
            "linecolor": "white",
            "ticks": ""
           },
           "bgcolor": "#E5ECF6",
           "caxis": {
            "gridcolor": "white",
            "linecolor": "white",
            "ticks": ""
           }
          },
          "title": {
           "x": 0.05
          },
          "xaxis": {
           "automargin": true,
           "gridcolor": "white",
           "linecolor": "white",
           "ticks": "",
           "title": {
            "standoff": 15
           },
           "zerolinecolor": "white",
           "zerolinewidth": 2
          },
          "yaxis": {
           "automargin": true,
           "gridcolor": "white",
           "linecolor": "white",
           "ticks": "",
           "title": {
            "standoff": 15
           },
           "zerolinecolor": "white",
           "zerolinewidth": 2
          }
         }
        },
        "xaxis": {
         "anchor": "y",
         "domain": [
          0,
          1
         ],
         "title": {
          "text": "time"
         }
        },
        "yaxis": {
         "anchor": "x",
         "domain": [
          0,
          1
         ],
         "title": {
          "text": "p_from_mw"
         }
        }
       }
      }
     },
     "metadata": {},
     "output_type": "display_data"
    }
   ],
   "source": [
    "#res_bus_ts = bus_ts(nodes_df, opfs)\n",
    "#res_load_ts = load_ts(nodes_df, opfs)\n",
    "res_line_ts = line_ts(nodes_df, opfs)\n",
    "px.line(res_line_ts, x='time', y='p_from_mw', color='index')\n"
   ]
  },
  {
   "cell_type": "code",
   "execution_count": 291,
   "metadata": {},
   "outputs": [
    {
     "data": {
      "text/html": [
       "<div>\n",
       "<style scoped>\n",
       "    .dataframe tbody tr th:only-of-type {\n",
       "        vertical-align: middle;\n",
       "    }\n",
       "\n",
       "    .dataframe tbody tr th {\n",
       "        vertical-align: top;\n",
       "    }\n",
       "\n",
       "    .dataframe thead th {\n",
       "        text-align: right;\n",
       "    }\n",
       "</style>\n",
       "<table border=\"1\" class=\"dataframe\">\n",
       "  <thead>\n",
       "    <tr style=\"text-align: right;\">\n",
       "      <th></th>\n",
       "      <th>name</th>\n",
       "      <th>identifier</th>\n",
       "      <th>latitude</th>\n",
       "      <th>longitude</th>\n",
       "      <th>category</th>\n",
       "    </tr>\n",
       "  </thead>\n",
       "  <tbody>\n",
       "    <tr>\n",
       "      <th>0</th>\n",
       "      <td>location 1</td>\n",
       "      <td>e6c8200f-d84b-499b-ad13-4313eec39ca2</td>\n",
       "      <td>48.3744</td>\n",
       "      <td>14.5123</td>\n",
       "      <td>household</td>\n",
       "    </tr>\n",
       "    <tr>\n",
       "      <th>1</th>\n",
       "      <td>location 2</td>\n",
       "      <td>60d36bfa-92a2-4521-95fa-ed0e95f2413f</td>\n",
       "      <td>48.3744</td>\n",
       "      <td>14.5115</td>\n",
       "      <td>household</td>\n",
       "    </tr>\n",
       "    <tr>\n",
       "      <th>2</th>\n",
       "      <td>location 3</td>\n",
       "      <td>ec28306c-772c-4d65-9916-55c03ce61566</td>\n",
       "      <td>48.3740</td>\n",
       "      <td>14.5111</td>\n",
       "      <td>household</td>\n",
       "    </tr>\n",
       "    <tr>\n",
       "      <th>3</th>\n",
       "      <td>grid connection</td>\n",
       "      <td>d3ae8923-d4cd-46fb-ae6c-e4a20c7e5dab</td>\n",
       "      <td>48.3744</td>\n",
       "      <td>14.5131</td>\n",
       "      <td>network</td>\n",
       "    </tr>\n",
       "  </tbody>\n",
       "</table>\n",
       "</div>"
      ],
      "text/plain": [
       "              name                            identifier  latitude  longitude  \\\n",
       "0       location 1  e6c8200f-d84b-499b-ad13-4313eec39ca2   48.3744    14.5123   \n",
       "1       location 2  60d36bfa-92a2-4521-95fa-ed0e95f2413f   48.3744    14.5115   \n",
       "2       location 3  ec28306c-772c-4d65-9916-55c03ce61566   48.3740    14.5111   \n",
       "3  grid connection  d3ae8923-d4cd-46fb-ae6c-e4a20c7e5dab   48.3744    14.5131   \n",
       "\n",
       "    category  \n",
       "0  household  \n",
       "1  household  \n",
       "2  household  \n",
       "3    network  "
      ]
     },
     "execution_count": 291,
     "metadata": {},
     "output_type": "execute_result"
    }
   ],
   "source": [
    "nodes_df"
   ]
  },
  {
   "cell_type": "code",
   "execution_count": 290,
   "metadata": {},
   "outputs": [
    {
     "name": "stdout",
     "output_type": "stream",
     "text": [
      "{0: 'e6c8200f-d84b-499b-ad13-4313eec39ca2', 1: '60d36bfa-92a2-4521-95fa-ed0e95f2413f', 2: 'ec28306c-772c-4d65-9916-55c03ce61566', 3: 'd3ae8923-d4cd-46fb-ae6c-e4a20c7e5dab'}\n",
      "{'60d36bfa-92a2-4521-95fa-ed0e95f2413f', 'ec28306c-772c-4d65-9916-55c03ce61566', 'e6c8200f-d84b-499b-ad13-4313eec39ca2'}\n",
      "        p_mw  q_mvar                time                            identifier\n",
      "1   0.002903    0.05 2023-08-21 14:00:00  60d36bfa-92a2-4521-95fa-ed0e95f2413f\n",
      "4   0.002992    0.05 2023-08-21 14:15:00  60d36bfa-92a2-4521-95fa-ed0e95f2413f\n",
      "7   0.000109    0.05 2023-08-21 14:30:00  60d36bfa-92a2-4521-95fa-ed0e95f2413f\n",
      "10  0.000118    0.05 2023-08-21 14:45:00  60d36bfa-92a2-4521-95fa-ed0e95f2413f\n",
      "13  0.002063    0.05 2023-08-21 15:00:00  60d36bfa-92a2-4521-95fa-ed0e95f2413f\n"
     ]
    },
    {
     "ename": "KeyError",
     "evalue": "'60d36bfa-92a2-4521-95fa-ed0e95f2413f'",
     "output_type": "error",
     "traceback": [
      "\u001b[1;31m---------------------------------------------------------------------------\u001b[0m",
      "\u001b[1;31mKeyError\u001b[0m                                  Traceback (most recent call last)",
      "Cell \u001b[1;32mIn[290], line 11\u001b[0m\n\u001b[0;32m      7\u001b[0m     data \u001b[39m=\u001b[39m res_load_ts[res_load_ts[\u001b[39m'\u001b[39m\u001b[39midentifier\u001b[39m\u001b[39m'\u001b[39m]\u001b[39m==\u001b[39mln]\n\u001b[0;32m      8\u001b[0m     \u001b[39mprint\u001b[39m(data\u001b[39m.\u001b[39mhead())\n\u001b[0;32m      9\u001b[0m     fig_load\u001b[39m.\u001b[39madd_trace(go\u001b[39m.\u001b[39mScatter(x\u001b[39m=\u001b[39mdata[\u001b[39m'\u001b[39m\u001b[39mtime\u001b[39m\u001b[39m'\u001b[39m], y\u001b[39m=\u001b[39mdata[\u001b[39m'\u001b[39m\u001b[39mp_mw\u001b[39m\u001b[39m'\u001b[39m],\n\u001b[0;32m     10\u001b[0m                     mode\u001b[39m=\u001b[39m\u001b[39m'\u001b[39m\u001b[39mmarkers+lines\u001b[39m\u001b[39m'\u001b[39m,\n\u001b[1;32m---> 11\u001b[0m                     name\u001b[39m=\u001b[39mnimap[ln]))\n\u001b[0;32m     12\u001b[0m \u001b[39m#res_load_ts\u001b[39;00m\n\u001b[0;32m     13\u001b[0m fig_load\u001b[39m.\u001b[39mshow()\n",
      "\u001b[1;31mKeyError\u001b[0m: '60d36bfa-92a2-4521-95fa-ed0e95f2413f'"
     ]
    }
   ],
   "source": [
    "inm = create_identifier_name_mapping(nodes_df)\n",
    "load_nodes = set(res_load_ts['identifier'])\n",
    "print(load_nodes)\n",
    "fig_load = go.Figure()\n",
    "for ln in load_nodes:\n",
    "    data = res_load_ts[res_load_ts['identifier']==ln]\n",
    "    print(data.head())\n",
    "    fig_load.add_trace(go.Scatter(x=data['time'], y=data['p_mw'],\n",
    "                    mode='markers+lines',\n",
    "                    name=nimap[ln]))\n",
    "#res_load_ts\n",
    "fig_load.show()"
   ]
  },
  {
   "cell_type": "code",
   "execution_count": 147,
   "metadata": {},
   "outputs": [
    {
     "ename": "SyntaxError",
     "evalue": "invalid syntax (3393917304.py, line 2)",
     "output_type": "error",
     "traceback": [
      "\u001b[1;36m  Cell \u001b[1;32mIn[147], line 2\u001b[1;36m\u001b[0m\n\u001b[1;33m    tdf['time'] =\u001b[0m\n\u001b[1;37m                 ^\u001b[0m\n\u001b[1;31mSyntaxError\u001b[0m\u001b[1;31m:\u001b[0m invalid syntax\n"
     ]
    }
   ],
   "source": [
    "tdf = df1.join(df2, on='index')#, lsuffix='_l', rsuffix='_r')\n",
    "tdf['time'] ="
   ]
  },
  {
   "cell_type": "code",
   "execution_count": 124,
   "metadata": {},
   "outputs": [
    {
     "data": {
      "text/html": [
       "<div>\n",
       "<style scoped>\n",
       "    .dataframe tbody tr th:only-of-type {\n",
       "        vertical-align: middle;\n",
       "    }\n",
       "\n",
       "    .dataframe tbody tr th {\n",
       "        vertical-align: top;\n",
       "    }\n",
       "\n",
       "    .dataframe thead th {\n",
       "        text-align: right;\n",
       "    }\n",
       "</style>\n",
       "<table border=\"1\" class=\"dataframe\">\n",
       "  <thead>\n",
       "    <tr style=\"text-align: right;\">\n",
       "      <th></th>\n",
       "      <th>index</th>\n",
       "      <th>p_mw</th>\n",
       "      <th>q_mvar</th>\n",
       "    </tr>\n",
       "  </thead>\n",
       "  <tbody>\n",
       "    <tr>\n",
       "      <th>0</th>\n",
       "      <td>0</td>\n",
       "      <td>0.002177</td>\n",
       "      <td>0.05</td>\n",
       "    </tr>\n",
       "    <tr>\n",
       "      <th>1</th>\n",
       "      <td>1</td>\n",
       "      <td>0.002903</td>\n",
       "      <td>0.05</td>\n",
       "    </tr>\n",
       "    <tr>\n",
       "      <th>2</th>\n",
       "      <td>2</td>\n",
       "      <td>0.000235</td>\n",
       "      <td>0.05</td>\n",
       "    </tr>\n",
       "  </tbody>\n",
       "</table>\n",
       "</div>"
      ],
      "text/plain": [
       "   index      p_mw  q_mvar\n",
       "0      0  0.002177    0.05\n",
       "1      1  0.002903    0.05\n",
       "2      2  0.000235    0.05"
      ]
     },
     "execution_count": 124,
     "metadata": {},
     "output_type": "execute_result"
    }
   ],
   "source": [
    "df1"
   ]
  },
  {
   "cell_type": "code",
   "execution_count": 125,
   "metadata": {},
   "outputs": [
    {
     "data": {
      "text/html": [
       "<div>\n",
       "<style scoped>\n",
       "    .dataframe tbody tr th:only-of-type {\n",
       "        vertical-align: middle;\n",
       "    }\n",
       "\n",
       "    .dataframe tbody tr th {\n",
       "        vertical-align: top;\n",
       "    }\n",
       "\n",
       "    .dataframe thead th {\n",
       "        text-align: right;\n",
       "    }\n",
       "</style>\n",
       "<table border=\"1\" class=\"dataframe\">\n",
       "  <thead>\n",
       "    <tr style=\"text-align: right;\">\n",
       "      <th></th>\n",
       "      <th>index</th>\n",
       "      <th>name</th>\n",
       "      <th>identifier</th>\n",
       "      <th>latitude</th>\n",
       "      <th>longitude</th>\n",
       "      <th>category</th>\n",
       "    </tr>\n",
       "  </thead>\n",
       "  <tbody>\n",
       "    <tr>\n",
       "      <th>0</th>\n",
       "      <td>0</td>\n",
       "      <td>location 1</td>\n",
       "      <td>e6c8200f-d84b-499b-ad13-4313eec39ca2</td>\n",
       "      <td>48.3744</td>\n",
       "      <td>14.5123</td>\n",
       "      <td>household</td>\n",
       "    </tr>\n",
       "    <tr>\n",
       "      <th>1</th>\n",
       "      <td>1</td>\n",
       "      <td>location 2</td>\n",
       "      <td>60d36bfa-92a2-4521-95fa-ed0e95f2413f</td>\n",
       "      <td>48.3744</td>\n",
       "      <td>14.5115</td>\n",
       "      <td>household</td>\n",
       "    </tr>\n",
       "    <tr>\n",
       "      <th>2</th>\n",
       "      <td>2</td>\n",
       "      <td>location 3</td>\n",
       "      <td>ec28306c-772c-4d65-9916-55c03ce61566</td>\n",
       "      <td>48.3740</td>\n",
       "      <td>14.5111</td>\n",
       "      <td>household</td>\n",
       "    </tr>\n",
       "    <tr>\n",
       "      <th>3</th>\n",
       "      <td>3</td>\n",
       "      <td>grid connection</td>\n",
       "      <td>d3ae8923-d4cd-46fb-ae6c-e4a20c7e5dab</td>\n",
       "      <td>48.3744</td>\n",
       "      <td>14.5131</td>\n",
       "      <td>network</td>\n",
       "    </tr>\n",
       "  </tbody>\n",
       "</table>\n",
       "</div>"
      ],
      "text/plain": [
       "   index             name                            identifier  latitude  \\\n",
       "0      0       location 1  e6c8200f-d84b-499b-ad13-4313eec39ca2   48.3744   \n",
       "1      1       location 2  60d36bfa-92a2-4521-95fa-ed0e95f2413f   48.3744   \n",
       "2      2       location 3  ec28306c-772c-4d65-9916-55c03ce61566   48.3740   \n",
       "3      3  grid connection  d3ae8923-d4cd-46fb-ae6c-e4a20c7e5dab   48.3744   \n",
       "\n",
       "   longitude   category  \n",
       "0    14.5123  household  \n",
       "1    14.5115  household  \n",
       "2    14.5111  household  \n",
       "3    14.5131    network  "
      ]
     },
     "execution_count": 125,
     "metadata": {},
     "output_type": "execute_result"
    }
   ],
   "source": [
    "df2"
   ]
  },
  {
   "cell_type": "code",
   "execution_count": null,
   "metadata": {},
   "outputs": [],
   "source": []
  }
 ],
 "metadata": {
  "kernelspec": {
   "display_name": "coordinator-QDhkpr0G-py3.11",
   "language": "python",
   "name": "python3"
  },
  "language_info": {
   "codemirror_mode": {
    "name": "ipython",
    "version": 3
   },
   "file_extension": ".py",
   "mimetype": "text/x-python",
   "name": "python",
   "nbconvert_exporter": "python",
   "pygments_lexer": "ipython3",
   "version": "3.11.4"
  },
  "orig_nbformat": 4
 },
 "nbformat": 4,
 "nbformat_minor": 2
}
