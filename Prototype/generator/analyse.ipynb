{
 "cells": [
  {
   "cell_type": "code",
   "execution_count": 1,
   "metadata": {},
   "outputs": [],
   "source": [
    "import json\n",
    "import pandas as pd\n",
    "from pathlib import Path\n",
    "from pandas import json_normalize"
   ]
  },
  {
   "cell_type": "code",
   "execution_count": 2,
   "metadata": {},
   "outputs": [],
   "source": [
    "data_input_file = Path(\"data/lat-48.37_lon-14.513_peakpower-1_loss-14_angle-0_aspect--30_outputformat-json_mountingplace-building_startyear-2005_endyear-2020_usehorizon-1_pvcalculation-1.json\")\n",
    "with open(data_input_file, \"r\") as inf:\n",
    "    data_json = json.load(inf)"
   ]
  },
  {
   "cell_type": "code",
   "execution_count": 3,
   "metadata": {},
   "outputs": [],
   "source": [
    "df = json_normalize(data_json['outputs']['hourly'])\n",
    "df['time'] = pd.to_datetime(df['time'], format=\"%Y%m%d:%H%M\")\n",
    "power = data_json['inputs']['pv_module']['peak_power']\n"
   ]
  },
  {
   "cell_type": "code",
   "execution_count": 4,
   "metadata": {},
   "outputs": [],
   "source": [
    "dfi = df.set_index('time')\n",
    "dfr = dfi.resample(\"15min\").bfill()\n",
    "dfr = dfr.resample(\"15min\").ffill()\n",
    "dfr = dfr.reset_index()\n",
    "dfr['hour'] = dfr['time'].dt.hour\n",
    "dfr['minute'] = dfr['time'].dt.minute\n",
    "dfr['day'] = dfr['time'].dt.day\n",
    "dfr['month'] = dfr['time'].dt.month\n",
    "dfr = dfr[['P', 'G(i)', 'H_sun', 'T2m', 'WS10m', 'Int', 'hour', 'minute', 'day', 'month']]\n",
    "dfr = dfr.groupby(by=['hour', 'minute', 'day', 'month']).mean()\n",
    "dfr = dfr.reset_index()\n",
    "dfr['P_eff'] = dfr['P'] * 10"
   ]
  },
  {
   "cell_type": "code",
   "execution_count": 5,
   "metadata": {},
   "outputs": [],
   "source": [
    "data_p_eff = {}\n",
    "data = {}\n",
    "for index, row in dfr.iterrows():\n",
    "    data_p_eff[(int(row['month']), int(row['day']), int(row['hour']), int(row['minute']))] = row['P_eff']\n",
    "    data[(int(row['month']), int(row['day']), int(row['hour']), int(row['minute']))] = row['P']"
   ]
  },
  {
   "cell_type": "code",
   "execution_count": 6,
   "metadata": {},
   "outputs": [
    {
     "data": {
      "text/plain": [
       "(5352.09375, 535.209375)"
      ]
     },
     "execution_count": 6,
     "metadata": {},
     "output_type": "execute_result"
    }
   ],
   "source": [
    "data_p_eff[(7, 1, 10, 0)], data[(7, 1, 10, 0)]"
   ]
  },
  {
   "cell_type": "code",
   "execution_count": null,
   "metadata": {},
   "outputs": [],
   "source": []
  }
 ],
 "metadata": {
  "kernelspec": {
   "display_name": "generator-F4bPCvCY-py3.11",
   "language": "python",
   "name": "python3"
  },
  "language_info": {
   "codemirror_mode": {
    "name": "ipython",
    "version": 3
   },
   "file_extension": ".py",
   "mimetype": "text/x-python",
   "name": "python",
   "nbconvert_exporter": "python",
   "pygments_lexer": "ipython3",
   "version": "3.11.4"
  },
  "orig_nbformat": 4
 },
 "nbformat": 4,
 "nbformat_minor": 2
}
